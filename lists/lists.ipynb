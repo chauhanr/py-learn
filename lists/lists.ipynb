{
 "cells": [
  {
   "cell_type": "code",
   "execution_count": 19,
   "id": "47b21b3b",
   "metadata": {},
   "outputs": [],
   "source": [
    "mylist = [\"banana\", \"cherry\", \"apple\"]"
   ]
  },
  {
   "cell_type": "code",
   "execution_count": 20,
   "id": "288d1a8e",
   "metadata": {},
   "outputs": [
    {
     "name": "stdout",
     "output_type": "stream",
     "text": [
      "['banana', 'cherry', 'apple']\n"
     ]
    }
   ],
   "source": [
    "print(mylist)"
   ]
  },
  {
   "cell_type": "code",
   "execution_count": 21,
   "id": "86b4f3ea",
   "metadata": {},
   "outputs": [
    {
     "name": "stdout",
     "output_type": "stream",
     "text": [
      "[5, 'apple', 'apple', True]\n"
     ]
    }
   ],
   "source": [
    "# list allows elements of different data type and duplicate elements \n",
    "list2 = [5, \"apple\", \"apple\", True]\n",
    "print(list2)"
   ]
  },
  {
   "cell_type": "code",
   "execution_count": 22,
   "id": "d979c2ab",
   "metadata": {},
   "outputs": [
    {
     "name": "stdout",
     "output_type": "stream",
     "text": [
      "True\n"
     ]
    }
   ],
   "source": [
    "print(list2[3])"
   ]
  },
  {
   "cell_type": "code",
   "execution_count": 13,
   "id": "cfbe66d2",
   "metadata": {},
   "outputs": [
    {
     "name": "stdout",
     "output_type": "stream",
     "text": [
      "5\n",
      "apple\n",
      "apple\n",
      "True\n"
     ]
    }
   ],
   "source": [
    "# Loop the list \n",
    "for x in list2: \n",
    "    print(x)"
   ]
  },
  {
   "cell_type": "code",
   "execution_count": 14,
   "id": "2f224aa5",
   "metadata": {},
   "outputs": [
    {
     "name": "stdout",
     "output_type": "stream",
     "text": [
      "yes\n"
     ]
    }
   ],
   "source": [
    "# check of an element exists in a list \n",
    "if \"banana\" in mylist: \n",
    "    print(\"yes\")\n",
    "else: \n",
    "    print(\"no\")"
   ]
  },
  {
   "cell_type": "code",
   "execution_count": 15,
   "id": "5792734c",
   "metadata": {},
   "outputs": [
    {
     "name": "stdout",
     "output_type": "stream",
     "text": [
      "3\n"
     ]
    }
   ],
   "source": [
    "# check the number of elements in the list \n",
    "print(len(mylist))"
   ]
  },
  {
   "cell_type": "code",
   "execution_count": 16,
   "id": "a061fbd8",
   "metadata": {},
   "outputs": [
    {
     "name": "stdout",
     "output_type": "stream",
     "text": [
      "['banana', 'cherry', 'apple', 'lemon']\n"
     ]
    }
   ],
   "source": [
    "# append an element at the end \n",
    "mylist.append(\"lemon\")\n",
    "print(mylist)"
   ]
  },
  {
   "cell_type": "code",
   "execution_count": 17,
   "id": "b8a3d31f",
   "metadata": {},
   "outputs": [],
   "source": [
    "mylist.insert(0, \"pineapple\")"
   ]
  },
  {
   "cell_type": "code",
   "execution_count": 18,
   "id": "8c8f2051",
   "metadata": {},
   "outputs": [
    {
     "name": "stdout",
     "output_type": "stream",
     "text": [
      "['pineapple', 'banana', 'cherry', 'apple', 'lemon']\n"
     ]
    }
   ],
   "source": [
    "print(mylist)"
   ]
  },
  {
   "cell_type": "code",
   "execution_count": 50,
   "id": "661d6561",
   "metadata": {},
   "outputs": [
    {
     "name": "stdout",
     "output_type": "stream",
     "text": [
      "lemon\n"
     ]
    }
   ],
   "source": [
    "item = mylist.pop()\n",
    "print(item)"
   ]
  },
  {
   "cell_type": "code",
   "execution_count": 51,
   "id": "4fcbf8b8",
   "metadata": {},
   "outputs": [
    {
     "name": "stdout",
     "output_type": "stream",
     "text": [
      "['pineapple', 'banana', 'cherry', 'apple']\n"
     ]
    }
   ],
   "source": [
    "print(mylist)"
   ]
  },
  {
   "cell_type": "code",
   "execution_count": 52,
   "id": "6457a403",
   "metadata": {},
   "outputs": [
    {
     "name": "stdout",
     "output_type": "stream",
     "text": [
      "['pineapple', 'banana', 'cherry', 'apple', 'lemon']\n"
     ]
    }
   ],
   "source": [
    "mylist.append(\"lemon\")\n",
    "print(mylist)"
   ]
  },
  {
   "cell_type": "code",
   "execution_count": 53,
   "id": "48bf9916",
   "metadata": {},
   "outputs": [],
   "source": [
    "mylist.insert(0, \"lemon\")"
   ]
  },
  {
   "cell_type": "code",
   "execution_count": 54,
   "id": "5d9007dd",
   "metadata": {},
   "outputs": [
    {
     "name": "stdout",
     "output_type": "stream",
     "text": [
      "['lemon', 'pineapple', 'banana', 'cherry', 'apple', 'lemon']\n"
     ]
    }
   ],
   "source": [
    "print(mylist)"
   ]
  },
  {
   "cell_type": "code",
   "execution_count": 55,
   "id": "4dc59acd",
   "metadata": {},
   "outputs": [
    {
     "name": "stdout",
     "output_type": "stream",
     "text": [
      "['pineapple', 'banana', 'cherry', 'apple', 'lemon']\n"
     ]
    }
   ],
   "source": [
    "# removes the first entry in the list it finds. \n",
    "mylist.remove(\"lemon\")\n",
    "print(mylist)"
   ]
  },
  {
   "cell_type": "code",
   "execution_count": 56,
   "id": "a0f712c0",
   "metadata": {},
   "outputs": [
    {
     "name": "stdout",
     "output_type": "stream",
     "text": [
      "cherry1 not in list\n"
     ]
    }
   ],
   "source": [
    "# If you remove an element that is not present you will get an error sp check before delete \n",
    "if \"cherry1\" in mylist: \n",
    "    mylist.remove(\"cherry1\")\n",
    "else: \n",
    "    print(\"cherry1 not in list\")"
   ]
  },
  {
   "cell_type": "code",
   "execution_count": null,
   "id": "12b7debf",
   "metadata": {},
   "outputs": [
    {
     "name": "stdout",
     "output_type": "stream",
     "text": [
      "['lemon', 'apple', 'cherry', 'banana', 'pineapple']\n"
     ]
    }
   ],
   "source": [
    "# reverse the elements \n",
    "mylist.reverse()\n",
    "print(mylist)"
   ]
  },
  {
   "cell_type": "code",
   "execution_count": 58,
   "id": "a16a7af4",
   "metadata": {},
   "outputs": [
    {
     "name": "stdout",
     "output_type": "stream",
     "text": [
      "['apple', 'banana', 'cherry', 'lemon', 'pineapple']\n"
     ]
    }
   ],
   "source": [
    "mylist.sort() # sorts the list in place. \n",
    "print(mylist)"
   ]
  },
  {
   "cell_type": "code",
   "execution_count": 59,
   "id": "3c6f4217",
   "metadata": {},
   "outputs": [
    {
     "name": "stdout",
     "output_type": "stream",
     "text": [
      "['pineapple', 'lemon', 'cherry', 'banana', 'apple']\n"
     ]
    }
   ],
   "source": [
    "# if you want to create a new list then use the sorted method \n",
    "mylist.reverse()\n",
    "nlist = sorted(mylist)\n",
    "print(mylist)"
   ]
  },
  {
   "cell_type": "code",
   "execution_count": 60,
   "id": "5f894801",
   "metadata": {},
   "outputs": [
    {
     "name": "stdout",
     "output_type": "stream",
     "text": [
      "['apple', 'banana', 'cherry', 'lemon', 'pineapple']\n"
     ]
    }
   ],
   "source": [
    "print(nlist)"
   ]
  },
  {
   "cell_type": "code",
   "execution_count": 61,
   "id": "b2a380c4",
   "metadata": {},
   "outputs": [
    {
     "name": "stdout",
     "output_type": "stream",
     "text": [
      "[0, 0, 0, 0, 0]\n"
     ]
    }
   ],
   "source": [
    "# in order to instantiate an array with certian element you can use the * operator \n",
    "numlist = [0]*5\n",
    "print(numlist)"
   ]
  },
  {
   "cell_type": "code",
   "execution_count": 62,
   "id": "4edfecd7",
   "metadata": {},
   "outputs": [
    {
     "name": "stdout",
     "output_type": "stream",
     "text": [
      "[0, 0, 0, 0, 0, 1, 2, 3, 4, 5]\n"
     ]
    }
   ],
   "source": [
    "# append two lists \n",
    "numlist2 = [1,2,3,4,5]\n",
    "nalist = numlist + numlist2 \n",
    "print(nalist)"
   ]
  },
  {
   "cell_type": "markdown",
   "id": "6327c128",
   "metadata": {},
   "source": [
    "## Slicing "
   ]
  },
  {
   "cell_type": "code",
   "execution_count": 63,
   "id": "8f9bc25a",
   "metadata": {},
   "outputs": [
    {
     "name": "stdout",
     "output_type": "stream",
     "text": [
      "[2, 3, 4, 5]\n"
     ]
    }
   ],
   "source": [
    "mlist = [1,2,3,4,5,6 ,7,8]\n",
    "print(mlist[1:5])"
   ]
  },
  {
   "cell_type": "code",
   "execution_count": 64,
   "id": "c95fa51e",
   "metadata": {},
   "outputs": [
    {
     "name": "stdout",
     "output_type": "stream",
     "text": [
      "[1, 2, 3, 4, 5]\n"
     ]
    }
   ],
   "source": [
    "print(mlist[:5])"
   ]
  },
  {
   "cell_type": "code",
   "execution_count": 65,
   "id": "e717f24c",
   "metadata": {},
   "outputs": [
    {
     "name": "stdout",
     "output_type": "stream",
     "text": [
      "[2, 3, 4, 5, 6, 7, 8]\n"
     ]
    }
   ],
   "source": [
    "print(mlist[1:])"
   ]
  },
  {
   "cell_type": "code",
   "execution_count": 68,
   "id": "a2e0bd99",
   "metadata": {},
   "outputs": [
    {
     "name": "stdout",
     "output_type": "stream",
     "text": [
      "[1, 3, 5, 7]\n"
     ]
    }
   ],
   "source": [
    "# get every second element in the list from the very beginning \n",
    "print(mlist[::2])"
   ]
  },
  {
   "cell_type": "code",
   "execution_count": 69,
   "id": "80e0c5f2",
   "metadata": {},
   "outputs": [
    {
     "name": "stdout",
     "output_type": "stream",
     "text": [
      "[2, 4, 6, 8]\n"
     ]
    }
   ],
   "source": [
    "# get every second element starting from the 1 element \n",
    "print(mlist[1::2])"
   ]
  },
  {
   "cell_type": "markdown",
   "id": "89ecb593",
   "metadata": {},
   "source": [
    "# Copy List "
   ]
  },
  {
   "cell_type": "code",
   "execution_count": 74,
   "id": "050986ab",
   "metadata": {},
   "outputs": [
    {
     "name": "stdout",
     "output_type": "stream",
     "text": [
      "['pineapple', 'lemon', 'cherry', 'banana', 'apple']\n"
     ]
    }
   ],
   "source": [
    "olist = mylist.copy()\n",
    "print(olist)\n",
    "# another way to make a copy is by slicing olist = mylist[:]"
   ]
  },
  {
   "cell_type": "code",
   "execution_count": 75,
   "id": "a44a8429",
   "metadata": {},
   "outputs": [
    {
     "name": "stdout",
     "output_type": "stream",
     "text": [
      "['pineapple', 'lemon', 'cherry', 'banana', 'apple', 'guava']\n",
      "['pineapple', 'lemon', 'cherry', 'banana', 'apple']\n"
     ]
    }
   ],
   "source": [
    "olist.append(\"guava\")\n",
    "print(olist)\n",
    "\n",
    "print(mylist)"
   ]
  },
  {
   "cell_type": "markdown",
   "id": "b2ccd055",
   "metadata": {},
   "source": [
    "# List Comprehension"
   ]
  },
  {
   "cell_type": "code",
   "execution_count": null,
   "id": "e3bb2896",
   "metadata": {},
   "outputs": [
    {
     "name": "stdout",
     "output_type": "stream",
     "text": [
      "[1, 4, 9, 16, 25, 36]\n",
      "[1, 2, 3, 4, 5, 6]\n"
     ]
    }
   ],
   "source": [
    "# list = [exp for x in list]\n",
    "list_n = [1,2,3,4,5,6]\n",
    "slist = [x*x for x in list_n]\n",
    "\n",
    "print(slist)\n",
    "print(list_n)"
   ]
  },
  {
   "cell_type": "code",
   "execution_count": 4,
   "id": "8e04ddd8",
   "metadata": {},
   "outputs": [
    {
     "name": "stdout",
     "output_type": "stream",
     "text": [
      "Hello World Ritesh\n"
     ]
    }
   ],
   "source": [
    "print(\"Hello World Ritesh\")"
   ]
  },
  {
   "cell_type": "markdown",
   "id": "f58d00ca",
   "metadata": {},
   "source": [
    "# Key board shortcuts\n",
    "\n",
    "\n",
    "a - add a cell above the current cell \n",
    "\n",
    "b - add a cell below the current cell\n",
    "\n",
    "c - copy a cell or a bunch of cells \n",
    "\n",
    "v - past a cell or a bunch of cells \n",
    "\n",
    "x - delete or cut a cell \n",
    "\n",
    "dd - delete a cell or bunch of cells \n",
    "\n",
    "shift + m = merges selected cells. "
   ]
  },
  {
   "cell_type": "code",
   "execution_count": null,
   "id": "7939d97c",
   "metadata": {},
   "outputs": [],
   "source": []
  }
 ],
 "metadata": {
  "kernelspec": {
   "display_name": "Python 3",
   "language": "python",
   "name": "python3"
  },
  "language_info": {
   "codemirror_mode": {
    "name": "ipython",
    "version": 3
   },
   "file_extension": ".py",
   "mimetype": "text/x-python",
   "name": "python",
   "nbconvert_exporter": "python",
   "pygments_lexer": "ipython3",
   "version": "3.11.4"
  },
  "vscode": {
   "interpreter": {
    "hash": "53eaf74eb998b12337111958905a6009a8e81f388bba26a9e5f00dbd7a77d5c7"
   }
  }
 },
 "nbformat": 4,
 "nbformat_minor": 5
}
