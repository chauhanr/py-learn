{
 "cells": [
  {
   "cell_type": "markdown",
   "id": "d5d6ece7",
   "metadata": {},
   "source": [
    "## Classes "
   ]
  },
  {
   "cell_type": "code",
   "execution_count": 19,
   "id": "0aca5a36",
   "metadata": {},
   "outputs": [],
   "source": [
    "class Musician():\n",
    "    job = \"musician\"\n",
    "    def __init__(self, name, age): \n",
    "        self.name = name\n",
    "        self.age = age\n",
    "    \n",
    "    def to_string(self):  # methods on the class \n",
    "        return f\"name: {self.name} age: {self.age} job: {self.job}\" \n"
   ]
  },
  {
   "cell_type": "code",
   "execution_count": 20,
   "id": "507ca836",
   "metadata": {},
   "outputs": [
    {
     "name": "stdout",
     "output_type": "stream",
     "text": [
      "name: Ritesh age: 43 job: musician\n"
     ]
    }
   ],
   "source": [
    "m = Musician(\"Ritesh\", 43)\n",
    "print(m.to_string())"
   ]
  },
  {
   "cell_type": "markdown",
   "id": "5c61c13a",
   "metadata": {},
   "source": [
    "## Practical Usage"
   ]
  },
  {
   "cell_type": "code",
   "execution_count": 32,
   "id": "e2368935",
   "metadata": {},
   "outputs": [],
   "source": [
    "class DogAge(): \n",
    "    year_factor = 7 \n",
    "    def __init__(self, age=5): \n",
    "        self.age=age\n",
    "    \n",
    "    def calculate_age(self): \n",
    "        return self.age* self.year_factor"
   ]
  },
  {
   "cell_type": "code",
   "execution_count": 33,
   "id": "792f300d",
   "metadata": {},
   "outputs": [
    {
     "data": {
      "text/plain": [
       "35"
      ]
     },
     "execution_count": 33,
     "metadata": {},
     "output_type": "execute_result"
    }
   ],
   "source": [
    "da = DogAge()\n",
    "da.calculate_age()"
   ]
  },
  {
   "cell_type": "markdown",
   "id": "e5cb60a4",
   "metadata": {},
   "source": [
    "## Inheritance "
   ]
  },
  {
   "cell_type": "code",
   "execution_count": 34,
   "id": "514cad7c",
   "metadata": {},
   "outputs": [],
   "source": [
    "class Class1(): \n",
    "    def __init__(self): \n",
    "        print(\"Class 1 created\")\n",
    "    \n",
    "    def method1(self): \n",
    "        print(\"Class1: method1\")\n",
    "    \n",
    "    def method2(self): \n",
    "        print(\"Class1: method2\")\n",
    "    "
   ]
  },
  {
   "cell_type": "code",
   "execution_count": 36,
   "id": "c7a88bb3",
   "metadata": {},
   "outputs": [
    {
     "name": "stdout",
     "output_type": "stream",
     "text": [
      "Class 1 created\n",
      "Class1: method1\n",
      "Class1: method2\n"
     ]
    }
   ],
   "source": [
    "c = Class1()\n",
    "c.method1()\n",
    "c.method2()"
   ]
  },
  {
   "cell_type": "code",
   "execution_count": 42,
   "id": "9149bff4",
   "metadata": {},
   "outputs": [],
   "source": [
    "class Class2(Class1):\n",
    "    def __init__(self): \n",
    "        Class1.__init__(self)\n",
    "        print(\"Class2 created\")\n",
    "    def method1(self):  # overriding \n",
    "        print(\"Class 2: method1\")"
   ]
  },
  {
   "cell_type": "code",
   "execution_count": 43,
   "id": "71e96b2e",
   "metadata": {},
   "outputs": [
    {
     "name": "stdout",
     "output_type": "stream",
     "text": [
      "Class 1 created\n",
      "Class2 created\n",
      "Class 2: method1\n",
      "Class1: method2\n"
     ]
    }
   ],
   "source": [
    "c2 = Class2()\n",
    "c2.method1()\n",
    "c2.method2()"
   ]
  },
  {
   "cell_type": "code",
   "execution_count": null,
   "id": "db8d3867",
   "metadata": {},
   "outputs": [],
   "source": []
  }
 ],
 "metadata": {
  "kernelspec": {
   "display_name": "Python 3 (ipykernel)",
   "language": "python",
   "name": "python3"
  },
  "language_info": {
   "codemirror_mode": {
    "name": "ipython",
    "version": 3
   },
   "file_extension": ".py",
   "mimetype": "text/x-python",
   "name": "python",
   "nbconvert_exporter": "python",
   "pygments_lexer": "ipython3",
   "version": "3.10.9"
  }
 },
 "nbformat": 4,
 "nbformat_minor": 5
}
