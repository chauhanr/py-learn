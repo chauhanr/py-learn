{
 "cells": [
  {
   "cell_type": "markdown",
   "id": "7dc78fbc",
   "metadata": {},
   "source": [
    "## Special methods \n",
    "This is used in a class when we have to implement an implementation of general methods like len() or print(str)"
   ]
  },
  {
   "cell_type": "code",
   "execution_count": 63,
   "id": "14fec1c3",
   "metadata": {},
   "outputs": [],
   "source": [
    "def isClassFunc(name: str): \n",
    "    if str(name).startswith(\"__\"): \n",
    "        return False\n",
    "    else: \n",
    "        return True\n",
    "\n",
    "class Fruit(): \n",
    "    family = \"unknown\"\n",
    "    color = \"unknown\"\n",
    "    def __init__(self, name, calories): \n",
    "        self.name = name \n",
    "        self.calories = calories\n",
    "    \n",
    "    def __str__(self): \n",
    "        return f\"{self.name} has {self.calories} calories {self.family} family\"\n",
    "    \n",
    "    def __len__(self):  # the legth of the fruit us the number of class + instance variables.\n",
    "        cls_attr = len(list(filter(isClassFunc, list(Fruit.__dict__.keys()))))\n",
    "        ins_attr = len(self.__dict__.keys())\n",
    "        return cls_attr + ins_attr  # here we "
   ]
  },
  {
   "cell_type": "code",
   "execution_count": 64,
   "id": "e62717ee",
   "metadata": {},
   "outputs": [
    {
     "name": "stdout",
     "output_type": "stream",
     "text": [
      "Banana has 150 calories unknown family\n"
     ]
    },
    {
     "data": {
      "text/plain": [
       "4"
      ]
     },
     "execution_count": 64,
     "metadata": {},
     "output_type": "execute_result"
    }
   ],
   "source": [
    "b = Fruit(\"Banana\", 150)\n",
    "print(b)\n",
    "len(b)"
   ]
  },
  {
   "cell_type": "markdown",
   "id": "ecf2cf5e",
   "metadata": {},
   "source": [
    "## Dundar methods \n",
    "The URL for the dundar or special methods - https://dbader.org/blog/python-dunder-methods "
   ]
  },
  {
   "cell_type": "code",
   "execution_count": null,
   "id": "465900fe",
   "metadata": {},
   "outputs": [],
   "source": []
  }
 ],
 "metadata": {
  "kernelspec": {
   "display_name": "Python 3 (ipykernel)",
   "language": "python",
   "name": "python3"
  },
  "language_info": {
   "codemirror_mode": {
    "name": "ipython",
    "version": 3
   },
   "file_extension": ".py",
   "mimetype": "text/x-python",
   "name": "python",
   "nbconvert_exporter": "python",
   "pygments_lexer": "ipython3",
   "version": "3.10.9"
  }
 },
 "nbformat": 4,
 "nbformat_minor": 5
}
