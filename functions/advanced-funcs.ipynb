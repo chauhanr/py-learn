{
 "cells": [
  {
   "cell_type": "markdown",
   "id": "a06e1fe8",
   "metadata": {},
   "source": [
    "# Advanced Functions \n",
    "We will talk about arbitrary arguments and key word arguments "
   ]
  },
  {
   "cell_type": "code",
   "execution_count": 1,
   "id": "57e7c9ca",
   "metadata": {},
   "outputs": [],
   "source": [
    "# we will make a function that will take arbitarary number of args and do a summation\n",
    "\n",
    "def summation(*args): \n",
    "    return sum(args)"
   ]
  },
  {
   "cell_type": "code",
   "execution_count": 3,
   "id": "5b65035a",
   "metadata": {},
   "outputs": [
    {
     "name": "stdout",
     "output_type": "stream",
     "text": [
      "14\n"
     ]
    }
   ],
   "source": [
    "s = summation(3,2,4,5)\n",
    "print(s)"
   ]
  },
  {
   "cell_type": "code",
   "execution_count": 7,
   "id": "e2874ad6",
   "metadata": {},
   "outputs": [
    {
     "name": "stdout",
     "output_type": "stream",
     "text": [
      "error processing summation- unsupported operand type(s) for +: 'int' and 'str'\n"
     ]
    }
   ],
   "source": [
    "try: \n",
    "    s = summation(\"one\", 2,3,4)\n",
    "except TypeError as e: \n",
    "    print(f\"error processing summation- {e}\")"
   ]
  },
  {
   "cell_type": "markdown",
   "id": "1f5cdebd",
   "metadata": {},
   "source": [
    "## Keywords "
   ]
  },
  {
   "cell_type": "code",
   "execution_count": 10,
   "id": "514a37d0",
   "metadata": {},
   "outputs": [],
   "source": [
    "def func(**kwargs): # prints or handles key and values pairs that have been input\n",
    "    print(kwargs)"
   ]
  },
  {
   "cell_type": "code",
   "execution_count": 11,
   "id": "2b2b18fe",
   "metadata": {},
   "outputs": [
    {
     "name": "stdout",
     "output_type": "stream",
     "text": [
      "{'basketball': 300, 'cricket': 200, 'tennis': 310}\n"
     ]
    }
   ],
   "source": [
    "func(basketball=300, cricket=200, tennis=310)  "
   ]
  },
  {
   "cell_type": "code",
   "execution_count": 29,
   "id": "c8d524cd",
   "metadata": {},
   "outputs": [],
   "source": [
    "def eFunc(**kwargs):  # remember that kwargs is a dict.\n",
    "    for key in kwargs: \n",
    "        print(key, kwargs[key])"
   ]
  },
  {
   "cell_type": "code",
   "execution_count": 30,
   "id": "01961135",
   "metadata": {},
   "outputs": [
    {
     "name": "stdout",
     "output_type": "stream",
     "text": [
      "Metallica band\n",
      "Cricket sport\n",
      "Football sport\n",
      "Setup Film\n"
     ]
    }
   ],
   "source": [
    "eFunc(Metallica=\"band\", Cricket=\"sport\", Football=\"sport\", Setup=\"Film\")"
   ]
  },
  {
   "cell_type": "markdown",
   "id": "bd45fd13",
   "metadata": {},
   "source": [
    "## Practical use of Functions"
   ]
  },
  {
   "cell_type": "code",
   "execution_count": 32,
   "id": "76c7a018",
   "metadata": {},
   "outputs": [],
   "source": [
    "def isEven(num): \n",
    "    if num%2 ==0: \n",
    "        return True\n",
    "    else: \n",
    "        return False"
   ]
  },
  {
   "cell_type": "code",
   "execution_count": 36,
   "id": "1674f1bf",
   "metadata": {},
   "outputs": [
    {
     "data": {
      "text/plain": [
       "[False, True, False, True, False, True, False, True, False]"
      ]
     },
     "execution_count": 36,
     "metadata": {},
     "output_type": "execute_result"
    }
   ],
   "source": [
    "l = [3,4,5,6,7,8,9,10,17]\n",
    "m = map(isEven, l)\n",
    "list(m)\n"
   ]
  },
  {
   "cell_type": "code",
   "execution_count": 35,
   "id": "00c6a671",
   "metadata": {},
   "outputs": [
    {
     "data": {
      "text/plain": [
       "[4, 6, 8, 10]"
      ]
     },
     "execution_count": 35,
     "metadata": {},
     "output_type": "execute_result"
    }
   ],
   "source": [
    "# Filter \n",
    "list(filter(isEven, l))"
   ]
  },
  {
   "cell_type": "markdown",
   "id": "ab1d4950",
   "metadata": {},
   "source": [
    "# Scope "
   ]
  },
  {
   "cell_type": "code",
   "execution_count": 39,
   "id": "536292b9",
   "metadata": {},
   "outputs": [],
   "source": [
    "number = 10 \n",
    "\n",
    "def multiply(num): \n",
    "    number = 5\n",
    "    return num * number"
   ]
  },
  {
   "cell_type": "code",
   "execution_count": 40,
   "id": "a259f659",
   "metadata": {},
   "outputs": [
    {
     "data": {
      "text/plain": [
       "25"
      ]
     },
     "execution_count": 40,
     "metadata": {},
     "output_type": "execute_result"
    }
   ],
   "source": [
    "multiply(5)"
   ]
  },
  {
   "cell_type": "markdown",
   "id": "4fff8674",
   "metadata": {},
   "source": [
    "## LEGB Rule \n",
    "to understand the scope we need to understand the LEGB rule \n",
    "1. L (local) \n",
    "2. E (enclosing) \n",
    "3. G (global) \n",
    "4. B (builtin) \n",
    "\n",
    "this is the order in which python will look for deciding on the scope "
   ]
  },
  {
   "cell_type": "code",
   "execution_count": 49,
   "id": "f789720e",
   "metadata": {},
   "outputs": [],
   "source": [
    "name=\"Ritesh\"\n",
    "def func(): \n",
    "    name=\"Shweta\"\n",
    "    def func2(): \n",
    "        name = \"Atharv\"\n",
    "        print(name) # this will print Atharv - local \n",
    "        \n",
    "    print(name) # prints shweta - enclosing \n",
    "    func2()"
   ]
  },
  {
   "cell_type": "code",
   "execution_count": 50,
   "id": "2d6ed263",
   "metadata": {},
   "outputs": [
    {
     "name": "stdout",
     "output_type": "stream",
     "text": [
      "Shweta\n",
      "Atharv\n"
     ]
    },
    {
     "data": {
      "text/plain": [
       "'Ritesh'"
      ]
     },
     "execution_count": 50,
     "metadata": {},
     "output_type": "execute_result"
    }
   ],
   "source": [
    "func()  # this is enclosing scope (scope of the function)\n",
    "name    # this is global level for python. therefore it will print global"
   ]
  },
  {
   "cell_type": "code",
   "execution_count": null,
   "id": "2871e44c",
   "metadata": {},
   "outputs": [],
   "source": []
  }
 ],
 "metadata": {
  "kernelspec": {
   "display_name": "Python 3 (ipykernel)",
   "language": "python",
   "name": "python3"
  },
  "language_info": {
   "codemirror_mode": {
    "name": "ipython",
    "version": 3
   },
   "file_extension": ".py",
   "mimetype": "text/x-python",
   "name": "python",
   "nbconvert_exporter": "python",
   "pygments_lexer": "ipython3",
   "version": "3.10.9"
  }
 },
 "nbformat": 4,
 "nbformat_minor": 5
}
