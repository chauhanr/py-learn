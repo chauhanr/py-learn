{
 "cells": [
  {
   "cell_type": "markdown",
   "id": "6b98f7a9",
   "metadata": {},
   "source": [
    "# Advanced Functions \n",
    "We will talk about arbitrary arguments and key word arguments "
   ]
  },
  {
   "cell_type": "code",
   "execution_count": 1,
   "id": "c9c63659",
   "metadata": {},
   "outputs": [],
   "source": [
    "# we will make a function that will take arbitarary number of args and do a summation\n",
    "\n",
    "def summation(*args): \n",
    "    return sum(args)"
   ]
  },
  {
   "cell_type": "code",
   "execution_count": 3,
   "id": "ee7c4e35",
   "metadata": {},
   "outputs": [
    {
     "name": "stdout",
     "output_type": "stream",
     "text": [
      "14\n"
     ]
    }
   ],
   "source": [
    "s = summation(3,2,4,5)\n",
    "print(s)"
   ]
  },
  {
   "cell_type": "code",
   "execution_count": null,
   "id": "ea949280",
   "metadata": {},
   "outputs": [],
   "source": []
  }
 ],
 "metadata": {
  "kernelspec": {
   "display_name": "Python 3 (ipykernel)",
   "language": "python",
   "name": "python3"
  },
  "language_info": {
   "codemirror_mode": {
    "name": "ipython",
    "version": 3
   },
   "file_extension": ".py",
   "mimetype": "text/x-python",
   "name": "python",
   "nbconvert_exporter": "python",
   "pygments_lexer": "ipython3",
   "version": "3.10.9"
  }
 },
 "nbformat": 4,
 "nbformat_minor": 5
}
