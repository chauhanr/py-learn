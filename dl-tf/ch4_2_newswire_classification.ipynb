{
 "cells": [
  {
   "cell_type": "code",
   "execution_count": 2,
   "metadata": {},
   "outputs": [],
   "source": [
    "import tensorflow as tf\n",
    "from tensorflow.keras.datasets import reuters "
   ]
  },
  {
   "cell_type": "code",
   "execution_count": 3,
   "metadata": {},
   "outputs": [
    {
     "name": "stdout",
     "output_type": "stream",
     "text": [
      "Downloading data from https://storage.googleapis.com/tensorflow/tf-keras-datasets/reuters.npz\n",
      "2110848/2110848 [==============================] - 0s 0us/step\n"
     ]
    }
   ],
   "source": [
    "(train_data, train_labels), (test_data, test_labels) = reuters.load_data(num_words=10000)"
   ]
  },
  {
   "cell_type": "code",
   "execution_count": 15,
   "metadata": {},
   "outputs": [
    {
     "name": "stdout",
     "output_type": "stream",
     "text": [
      "Train data set shape: (8982,)\n",
      "First record len: 87 Second record len: 56\n",
      "10th label: 16 11th label: 3\n"
     ]
    }
   ],
   "source": [
    "print(f\"Train data set shape: {train_data.shape}\")\n",
    "print(f\"First record len: {len(train_data[0])} Second record len: {len(train_data[1])}\")\n",
    "\n",
    "# here the data set has 8982 samples of different lengths\n",
    "\n",
    "print(f\"10th label: {train_labels[9]} 11th label: {train_labels[10]}\")\n",
    "# labels are integers between 0 and 45"
   ]
  },
  {
   "cell_type": "code",
   "execution_count": 16,
   "metadata": {},
   "outputs": [],
   "source": [
    "# decode \n",
    "def decode(review):  # is a vector of integers which is an imdb review. \n",
    "    word_index = reuters.get_word_index()\n",
    "    reverse_word_index = dict([(value, key) for (key, value) in word_index.items()])\n",
    "    decoded_review = ' '.join([reverse_word_index.get(i-3, '?') for i in review])\n",
    "    return decoded_review\n",
    "\n",
    "#print(decode(train_data[0]))"
   ]
  },
  {
   "cell_type": "markdown",
   "metadata": {},
   "source": [
    "## 2. Prepare the data \n",
    "Vectorize the training data and one hot encode the labels which is the most popular encoding mechanism for categorical data that is not binary. "
   ]
  },
  {
   "cell_type": "code",
   "execution_count": 19,
   "metadata": {},
   "outputs": [],
   "source": [
    "import numpy as np\n",
    "def vectorize_sequences(sequences, dimension=10000):  # we vectorize each integer in 10k dim. vector\n",
    "    results = np.zeros((len(sequences), dimension))\n",
    "    for i, sequence in enumerate(sequences):\n",
    "        results[i, sequence] = 1  # set results to 1 where we have a sequence of integers and rest are zeros in the 10k \n",
    "    return results"
   ]
  },
  {
   "cell_type": "code",
   "execution_count": 20,
   "metadata": {},
   "outputs": [
    {
     "name": "stdout",
     "output_type": "stream",
     "text": [
      "shape of x_train: (8982, 10000)\n",
      "shape of x_test: (2246, 10000)\n"
     ]
    }
   ],
   "source": [
    "x_train = vectorize_sequences(train_data)\n",
    "x_test = vectorize_sequences(test_data)\n",
    "\n",
    "print(f\"shape of x_train: {x_train.shape}\")\n",
    "print(f\"shape of x_test: {x_test.shape}\")"
   ]
  },
  {
   "cell_type": "code",
   "execution_count": 21,
   "metadata": {},
   "outputs": [],
   "source": [
    "# one hot encoding of labels\n",
    "def to_one_hot(labels, dimension=46):\n",
    "    results = np.zeros((len(labels), dimension))\n",
    "    for i, label in enumerate(labels):\n",
    "        results[i, label] = 1\n",
    "    return results\n",
    "\n",
    "# this encoding is built in keras function to_categorical() which does the same thing"
   ]
  },
  {
   "cell_type": "code",
   "execution_count": 22,
   "metadata": {},
   "outputs": [
    {
     "name": "stdout",
     "output_type": "stream",
     "text": [
      "shape of y_train: (8982, 46)\n",
      "shape of y_test: (2246, 46)\n"
     ]
    }
   ],
   "source": [
    "from tensorflow.keras.utils import to_categorical\n",
    "y_train = to_categorical(train_labels)\n",
    "y_test = to_categorical(test_labels) \n",
    "\n",
    "## here we do not have to provide the dimension as it can be inferred from the input\n",
    "\n",
    "print(f\"shape of y_train: {y_train.shape}\")\n",
    "print(f\"shape of y_test: {y_test.shape}\")"
   ]
  },
  {
   "cell_type": "markdown",
   "metadata": {},
   "source": [
    "## 3. Prepare the Model \n",
    "1. decide on the layers \n",
    "2. The activation functions at each layer \n",
    "3. optimizer, loss and metrics functions. "
   ]
  },
  {
   "cell_type": "code",
   "execution_count": 24,
   "metadata": {},
   "outputs": [],
   "source": [
    "from tensorflow import keras\n",
    "cl_model = keras.Sequential([\n",
    "        keras.layers.Dense(64, activation='relu', input_shape=(10000,)),  # input shape is 10k dim vector\n",
    "        keras.layers.Dense(64, activation='relu'),  # 2 hidden layers\n",
    "        keras.layers.Dense(46, activation='softmax')  # output layer with 46 classes so softmax that give probability on each class\n",
    "])"
   ]
  },
  {
   "cell_type": "code",
   "execution_count": 25,
   "metadata": {},
   "outputs": [],
   "source": [
    "# next we compile the model \n",
    "cl_model.compile(\n",
    "            optimizer='rmsprop',             # rmsprop is a good optimizer for this kind of problem\n",
    "            loss='categorical_crossentropy', # categorical cross entropy is used for multi class classification\n",
    "            metrics=['accuracy'])"
   ]
  },
  {
   "cell_type": "code",
   "execution_count": 26,
   "metadata": {},
   "outputs": [],
   "source": [
    "x_val = x_train[:1000]  # validation set\n",
    "partial_x_train = x_train[1000:]\n",
    "\n",
    "y_val = y_train[:1000]\n",
    "partial_y_train = y_train[1000:] # validation set"
   ]
  },
  {
   "cell_type": "code",
   "execution_count": 27,
   "metadata": {},
   "outputs": [
    {
     "name": "stdout",
     "output_type": "stream",
     "text": [
      "Epoch 1/20\n",
      "16/16 [==============================] - 1s 21ms/step - loss: 2.6054 - accuracy: 0.4652 - val_loss: 1.7267 - val_accuracy: 0.6340\n",
      "Epoch 2/20\n",
      "16/16 [==============================] - 0s 13ms/step - loss: 1.4241 - accuracy: 0.6912 - val_loss: 1.3248 - val_accuracy: 0.6990\n",
      "Epoch 3/20\n",
      "16/16 [==============================] - 0s 11ms/step - loss: 1.0690 - accuracy: 0.7701 - val_loss: 1.1492 - val_accuracy: 0.7500\n",
      "Epoch 4/20\n",
      "16/16 [==============================] - 0s 12ms/step - loss: 0.8451 - accuracy: 0.8195 - val_loss: 1.0444 - val_accuracy: 0.7770\n",
      "Epoch 5/20\n",
      "16/16 [==============================] - 0s 15ms/step - loss: 0.6764 - accuracy: 0.8601 - val_loss: 0.9816 - val_accuracy: 0.7930\n",
      "Epoch 6/20\n",
      "16/16 [==============================] - 0s 11ms/step - loss: 0.5448 - accuracy: 0.8882 - val_loss: 0.9430 - val_accuracy: 0.8080\n",
      "Epoch 7/20\n",
      "16/16 [==============================] - 0s 12ms/step - loss: 0.4358 - accuracy: 0.9094 - val_loss: 0.9055 - val_accuracy: 0.8050\n",
      "Epoch 8/20\n",
      "16/16 [==============================] - 0s 12ms/step - loss: 0.3524 - accuracy: 0.9283 - val_loss: 0.8834 - val_accuracy: 0.8150\n",
      "Epoch 9/20\n",
      "16/16 [==============================] - 0s 12ms/step - loss: 0.2962 - accuracy: 0.9336 - val_loss: 0.9138 - val_accuracy: 0.8080\n",
      "Epoch 10/20\n",
      "16/16 [==============================] - 0s 12ms/step - loss: 0.2467 - accuracy: 0.9455 - val_loss: 0.8993 - val_accuracy: 0.8100\n",
      "Epoch 11/20\n",
      "16/16 [==============================] - 0s 12ms/step - loss: 0.2119 - accuracy: 0.9480 - val_loss: 0.8876 - val_accuracy: 0.8180\n",
      "Epoch 12/20\n",
      "16/16 [==============================] - 0s 11ms/step - loss: 0.1879 - accuracy: 0.9500 - val_loss: 0.9139 - val_accuracy: 0.8120\n",
      "Epoch 13/20\n",
      "16/16 [==============================] - 0s 12ms/step - loss: 0.1653 - accuracy: 0.9541 - val_loss: 0.9485 - val_accuracy: 0.8080\n",
      "Epoch 14/20\n",
      "16/16 [==============================] - 0s 12ms/step - loss: 0.1551 - accuracy: 0.9534 - val_loss: 1.0402 - val_accuracy: 0.7930\n",
      "Epoch 15/20\n",
      "16/16 [==============================] - 0s 15ms/step - loss: 0.1402 - accuracy: 0.9543 - val_loss: 0.9789 - val_accuracy: 0.8040\n",
      "Epoch 16/20\n",
      "16/16 [==============================] - 0s 12ms/step - loss: 0.1322 - accuracy: 0.9573 - val_loss: 0.9939 - val_accuracy: 0.8050\n",
      "Epoch 17/20\n",
      "16/16 [==============================] - 0s 12ms/step - loss: 0.1297 - accuracy: 0.9568 - val_loss: 0.9970 - val_accuracy: 0.8010\n",
      "Epoch 18/20\n",
      "16/16 [==============================] - 0s 12ms/step - loss: 0.1242 - accuracy: 0.9555 - val_loss: 1.0364 - val_accuracy: 0.7990\n",
      "Epoch 19/20\n",
      "16/16 [==============================] - 0s 12ms/step - loss: 0.1184 - accuracy: 0.9549 - val_loss: 1.1281 - val_accuracy: 0.7940\n",
      "Epoch 20/20\n",
      "16/16 [==============================] - 0s 12ms/step - loss: 0.1165 - accuracy: 0.9565 - val_loss: 1.0620 - val_accuracy: 0.8020\n"
     ]
    }
   ],
   "source": [
    "history = cl_model.fit(partial_x_train, \n",
    "                       partial_y_train, \n",
    "                       epochs=20, \n",
    "                       batch_size=512, \n",
    "                       validation_data=(x_val, y_val))"
   ]
  },
  {
   "cell_type": "code",
   "execution_count": 28,
   "metadata": {},
   "outputs": [],
   "source": [
    "import matplotlib.pyplot as plt"
   ]
  },
  {
   "cell_type": "code",
   "execution_count": 30,
   "metadata": {},
   "outputs": [
    {
     "name": "stdout",
     "output_type": "stream",
     "text": [
      "dict_keys(['loss', 'accuracy', 'val_loss', 'val_accuracy'])\n"
     ]
    }
   ],
   "source": [
    "print(history.history.keys())"
   ]
  },
  {
   "cell_type": "code",
   "execution_count": 31,
   "metadata": {},
   "outputs": [
    {
     "data": {
      "image/png": "[encoded data removed]",
      "text/plain": [
       "<Figure size 640x480 with 1 Axes>"
      ]
     },
     "metadata": {},
     "output_type": "display_data"
    }
   ],
   "source": [
    "# now we plot the loss and accuracy of the model on training and validation data\n",
    "loss = history.history[\"loss\"]\n",
    "val_loss = history.history[\"val_loss\"]\n",
    "epochs = range(1, len(loss) + 1)\n",
    "plt.plot(epochs, loss, \"bo\", label=\"Training loss\")\n",
    "plt.plot(epochs, val_loss, \"b\", label=\"Validation loss\")\n",
    "plt.title(\"Training and validation loss\")\n",
    "plt.xlabel(\"Epochs\")\n",
    "plt.ylabel(\"Loss\")\n",
    "plt.legend()\n",
    "plt.show()"
   ]
  },
  {
   "cell_type": "code",
   "execution_count": 32,
   "metadata": {},
   "outputs": [
    {
     "data": {
      "image/png": "[encoded data removed]",
      "text/plain": [
       "<Figure size 640x480 with 1 Axes>"
      ]
     },
     "metadata": {},
     "output_type": "display_data"
    }
   ],
   "source": [
    "plt.clf()                          \n",
    "acc = history.history[\"accuracy\"]\n",
    "val_acc = history.history[\"val_accuracy\"]\n",
    "plt.plot(epochs, acc, \"bo\", label=\"Training accuracy\")\n",
    "plt.plot(epochs, val_acc, \"b\", label=\"Validation accuracy\")\n",
    "plt.title(\"Training and validation accuracy\")\n",
    "plt.xlabel(\"Epochs\")\n",
    "plt.ylabel(\"Accuracy\")\n",
    "plt.legend()\n",
    "plt.show()"
   ]
  },
  {
   "cell_type": "markdown",
   "metadata": {},
   "source": [
    "The training starts to overfit around the 8-9 epochs and then is constant and training it any further will not increase the accuracy and reduce loss so it is better to stop at that point. "
   ]
  },
  {
   "cell_type": "markdown",
   "metadata": {},
   "source": [
    "## 4. Run the model with the training \n",
    "We need to run 9 epochs rather than 20 seen earlier. "
   ]
  },
  {
   "cell_type": "code",
   "execution_count": 36,
   "metadata": {},
   "outputs": [
    {
     "name": "stdout",
     "output_type": "stream",
     "text": [
      "Epoch 1/5\n",
      "18/18 [==============================] - 0s 11ms/step - loss: 0.1053 - accuracy: 0.9558\n",
      "Epoch 2/5\n",
      "18/18 [==============================] - 0s 10ms/step - loss: 0.1057 - accuracy: 0.9562\n",
      "Epoch 3/5\n",
      "18/18 [==============================] - 0s 13ms/step - loss: 0.1050 - accuracy: 0.9551\n",
      "Epoch 4/5\n",
      "18/18 [==============================] - 0s 11ms/step - loss: 0.1052 - accuracy: 0.9549\n",
      "Epoch 5/5\n",
      "18/18 [==============================] - 0s 10ms/step - loss: 0.1023 - accuracy: 0.9555\n",
      "71/71 [==============================] - 0s 760us/step - loss: 1.3739 - accuracy: 0.7876\n"
     ]
    }
   ],
   "source": [
    "cl_model.fit(x_train, \n",
    "             y_train, \n",
    "             epochs=5, \n",
    "             batch_size=512)\n",
    "results = cl_model.evaluate(x_test, y_test)"
   ]
  },
  {
   "cell_type": "code",
   "execution_count": 37,
   "metadata": {},
   "outputs": [
    {
     "name": "stdout",
     "output_type": "stream",
     "text": [
      "Results: [1.373913049697876, 0.7876224517822266]\n"
     ]
    }
   ],
   "source": [
    "print(f\"Results: {results}\")"
   ]
  },
  {
   "cell_type": "markdown",
   "metadata": {},
   "source": [
    "## 5. Prediction with external set \n"
   ]
  },
  {
   "cell_type": "code",
   "execution_count": 38,
   "metadata": {},
   "outputs": [
    {
     "name": "stdout",
     "output_type": "stream",
     "text": [
      "71/71 [==============================] - 0s 794us/step\n"
     ]
    }
   ],
   "source": [
    "x_pred = cl_model.predict(x_test)  # this will give the probability of each class for each test sample"
   ]
  },
  {
   "cell_type": "code",
   "execution_count": 41,
   "metadata": {},
   "outputs": [
    {
     "name": "stdout",
     "output_type": "stream",
     "text": [
      "shape of prediction: (2246, 46)\n",
      "sum of probabilities: 0.9999999403953552\n"
     ]
    }
   ],
   "source": [
    "#print(f\"Prediction for first test sample: {x_pred[0]}\")\n",
    "print(f\"shape of prediction: {x_pred.shape}\")\n",
    "print(f\"sum of probabilities: {np.sum(x_pred[0])}\")"
   ]
  },
  {
   "cell_type": "code",
   "execution_count": 42,
   "metadata": {},
   "outputs": [
    {
     "name": "stdout",
     "output_type": "stream",
     "text": [
      "Categorical prediction for first test sample: 3\n"
     ]
    }
   ],
   "source": [
    "print(f\"Categorical prediction for first test sample: {np.argmax(x_pred[0])}\")"
   ]
  },
  {
   "cell_type": "markdown",
   "metadata": {},
   "source": [
    "## Impact of reducing the length of intermediate layers \n",
    "We have to be clear about reducing the size of the layer in intermediate layer. In a classifer problem when we have multi class classifier we should not have a layer that is much less than the number of categories "
   ]
  },
  {
   "cell_type": "code",
   "execution_count": 55,
   "metadata": {},
   "outputs": [
    {
     "name": "stdout",
     "output_type": "stream",
     "text": [
      "Epoch 1/20\n",
      "16/16 [==============================] - 0s 16ms/step - loss: 3.5002 - accuracy: 0.1957 - val_loss: 3.1816 - val_accuracy: 0.2280\n",
      "Epoch 2/20\n",
      "16/16 [==============================] - 0s 11ms/step - loss: 3.0269 - accuracy: 0.2259 - val_loss: 2.8140 - val_accuracy: 0.2360\n",
      "Epoch 3/20\n",
      "16/16 [==============================] - 0s 11ms/step - loss: 2.6795 - accuracy: 0.2338 - val_loss: 2.5290 - val_accuracy: 0.2420\n",
      "Epoch 4/20\n",
      "16/16 [==============================] - 0s 16ms/step - loss: 2.4133 - accuracy: 0.2484 - val_loss: 2.2987 - val_accuracy: 0.2500\n",
      "Epoch 5/20\n",
      "16/16 [==============================] - 0s 13ms/step - loss: 2.1639 - accuracy: 0.3103 - val_loss: 2.0852 - val_accuracy: 0.5500\n",
      "Epoch 6/20\n",
      "16/16 [==============================] - 0s 15ms/step - loss: 1.9321 - accuracy: 0.5928 - val_loss: 1.9086 - val_accuracy: 0.5860\n",
      "Epoch 7/20\n",
      "16/16 [==============================] - 0s 12ms/step - loss: 1.7470 - accuracy: 0.6191 - val_loss: 1.7905 - val_accuracy: 0.5980\n",
      "Epoch 8/20\n",
      "16/16 [==============================] - 0s 13ms/step - loss: 1.6108 - accuracy: 0.6294 - val_loss: 1.7037 - val_accuracy: 0.6080\n",
      "Epoch 9/20\n",
      "16/16 [==============================] - 0s 13ms/step - loss: 1.5099 - accuracy: 0.6399 - val_loss: 1.6510 - val_accuracy: 0.6110\n",
      "Epoch 10/20\n",
      "16/16 [==============================] - 0s 13ms/step - loss: 1.4356 - accuracy: 0.6457 - val_loss: 1.6216 - val_accuracy: 0.6130\n",
      "Epoch 11/20\n",
      "16/16 [==============================] - 0s 13ms/step - loss: 1.3751 - accuracy: 0.6497 - val_loss: 1.5973 - val_accuracy: 0.6160\n",
      "Epoch 12/20\n",
      "16/16 [==============================] - 0s 13ms/step - loss: 1.3218 - accuracy: 0.6715 - val_loss: 1.5841 - val_accuracy: 0.6190\n",
      "Epoch 13/20\n",
      "16/16 [==============================] - 0s 15ms/step - loss: 1.2762 - accuracy: 0.6802 - val_loss: 1.5731 - val_accuracy: 0.6240\n",
      "Epoch 14/20\n",
      "16/16 [==============================] - 0s 12ms/step - loss: 1.2368 - accuracy: 0.6799 - val_loss: 1.5539 - val_accuracy: 0.6300\n",
      "Epoch 15/20\n",
      "16/16 [==============================] - 0s 12ms/step - loss: 1.2008 - accuracy: 0.6812 - val_loss: 1.5542 - val_accuracy: 0.6290\n",
      "Epoch 16/20\n",
      "16/16 [==============================] - 0s 15ms/step - loss: 1.1676 - accuracy: 0.6803 - val_loss: 1.5485 - val_accuracy: 0.6210\n",
      "Epoch 17/20\n",
      "16/16 [==============================] - 0s 12ms/step - loss: 1.1393 - accuracy: 0.6795 - val_loss: 1.5462 - val_accuracy: 0.6240\n",
      "Epoch 18/20\n",
      "16/16 [==============================] - 0s 11ms/step - loss: 1.1067 - accuracy: 0.6783 - val_loss: 1.5526 - val_accuracy: 0.6220\n",
      "Epoch 19/20\n",
      "16/16 [==============================] - 0s 13ms/step - loss: 1.0778 - accuracy: 0.6829 - val_loss: 1.5402 - val_accuracy: 0.6220\n",
      "Epoch 20/20\n",
      "16/16 [==============================] - 0s 12ms/step - loss: 1.0479 - accuracy: 0.6865 - val_loss: 1.5389 - val_accuracy: 0.6260\n",
      "71/71 [==============================] - 0s 790us/step - loss: 1.6881 - accuracy: 0.6162\n"
     ]
    }
   ],
   "source": [
    "l_model = keras.Sequential([\n",
    "        keras.layers.Dense(64, activation='relu', input_shape=(10000,)),  # input shape is 10k dim vector\n",
    "        keras.layers.Dense(4, activation='relu'),  # 2 hidden layers - very small layer model\n",
    "        keras.layers.Dense(46, activation='softmax')  # output layer with 46 classes so softmax that give probability on each class\n",
    "])\n",
    "\n",
    "l_model.compile(\n",
    "            optimizer='rmsprop',             # rmsprop is a good optimizer for this kind of problem\n",
    "            loss='categorical_crossentropy', # categorical cross entropy is used for multi class classification\n",
    "            metrics=['accuracy'])\n",
    "\n",
    "l_model.fit(partial_x_train,\n",
    "            partial_y_train,\n",
    "            epochs=20,\n",
    "            batch_size=512,\n",
    "            validation_data=(x_val, y_val))\n",
    "\n",
    "l_results = l_model.evaluate(x_test, y_test)"
   ]
  },
  {
   "cell_type": "code",
   "execution_count": 58,
   "metadata": {},
   "outputs": [
    {
     "name": "stdout",
     "output_type": "stream",
     "text": [
      "l_model accurracy: 0.6162065863609314, l_model loss: 1.6880922317504883\n"
     ]
    }
   ],
   "source": [
    "print(f\"l_model accurracy: {l_results[1]}, l_model loss: {l_results[0]}\") # 61% accuracy"
   ]
  },
  {
   "cell_type": "code",
   "execution_count": null,
   "metadata": {},
   "outputs": [],
   "source": []
  },
  {
   "cell_type": "code",
   "execution_count": null,
   "metadata": {},
   "outputs": [],
   "source": []
  }
 ],
 "metadata": {
  "kernelspec": {
   "display_name": "pylearn",
   "language": "python",
   "name": "python3"
  },
  "language_info": {
   "codemirror_mode": {
    "name": "ipython",
    "version": 3
   },
   "file_extension": ".py",
   "mimetype": "text/x-python",
   "name": "python",
   "nbconvert_exporter": "python",
   "pygments_lexer": "ipython3",
   "version": "3.11.3"
  }
 },
 "nbformat": 4,
 "nbformat_minor": 2
}
