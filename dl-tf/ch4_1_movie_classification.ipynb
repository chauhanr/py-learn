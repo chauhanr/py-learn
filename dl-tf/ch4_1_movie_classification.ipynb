{
 "cells": [
  {
   "cell_type": "markdown",
   "metadata": {},
   "source": [
    "## Movie Classification \n",
    "We try to classify movies in IMDB database into either positive reviews or negative reviews. This is an example of a \n",
    "binary classification problem in ML"
   ]
  },
  {
   "cell_type": "code",
   "execution_count": 22,
   "metadata": {},
   "outputs": [],
   "source": [
    "import tensorflow as tf\n",
    "from tensorflow.keras.datasets import imdb"
   ]
  },
  {
   "cell_type": "code",
   "execution_count": 23,
   "metadata": {},
   "outputs": [],
   "source": [
    "(train_data, train_labels), (test_data, test_labels) = imdb.load_data(num_words=10000) \n",
    "# here we keep only the top 10k words in each review of imdb dataset"
   ]
  },
  {
   "cell_type": "code",
   "execution_count": 47,
   "metadata": {},
   "outputs": [
    {
     "name": "stdout",
     "output_type": "stream",
     "text": [
      "Shape of Training Data: (25000,)\n",
      "[1, 14, 22, 16, 43, 530, 973, 1622, 1385, 65, 458, 4468, 66, 3941, 4, 173, 36, 256, 5, 25, 100, 43, 838, 112, 50, 670, 2, 9, 35, 480, 284, 5, 150, 4, 172, 112, 167, 2, 336, 385, 39, 4, 172, 4536, 1111, 17, 546, 38, 13, 447, 4, 192, 50, 16, 6, 147, 2025, 19, 14, 22, 4, 1920, 4613, 469, 4, 22, 71, 87, 12, 16, 43, 530, 38, 76, 15, 13, 1247, 4, 22, 17, 515, 17, 12, 16, 626, 18, 2, 5, 62, 386, 12, 8, 316, 8, 106, 5, 4, 2223, 5244, 16, 480, 66, 3785, 33, 4, 130, 12, 16, 38, 619, 5, 25, 124, 51, 36, 135, 48, 25, 1415, 33, 6, 22, 12, 215, 28, 77, 52, 5, 14, 407, 16, 82, 2, 8, 4, 107, 117, 5952, 15, 256, 4, 2, 7, 3766, 5, 723, 36, 71, 43, 530, 476, 26, 400, 317, 46, 7, 4, 2, 1029, 13, 104, 88, 4, 381, 15, 297, 98, 32, 2071, 56, 26, 141, 6, 194, 7486, 18, 4, 226, 22, 21, 134, 476, 26, 480, 5, 144, 30, 5535, 18, 51, 36, 28, 224, 92, 25, 104, 4, 226, 65, 16, 38, 1334, 88, 12, 16, 283, 5, 16, 4472, 113, 103, 32, 15, 16, 5345, 19, 178, 32]\n"
     ]
    },
    {
     "data": {
      "text/plain": [
       "1"
      ]
     },
     "execution_count": 47,
     "metadata": {},
     "output_type": "execute_result"
    }
   ],
   "source": [
    "print(f\"Shape of Training Data: {train_data.shape}\") # vector of 25000 reviews, each review is a list of integers\n",
    "print(train_data[0])\n",
    "train_labels[0]"
   ]
  },
  {
   "cell_type": "code",
   "execution_count": 12,
   "metadata": {},
   "outputs": [],
   "source": [
    "# reviewing the data \n",
    "\n",
    "def decode(review):  # is a vector of integers which is an imdb review. \n",
    "    word_index = imdb.get_word_index()\n",
    "    reverse_word_index = dict([(value, key) for (key, value) in word_index.items()])\n",
    "    decoded_review = ' '.join([reverse_word_index.get(i-3, '?') for i in review])\n",
    "    return decoded_review\n",
    "\n",
    "# print(decode(train_data[0]))"
   ]
  },
  {
   "cell_type": "markdown",
   "metadata": {},
   "source": [
    "### 1. Prepare your data \n",
    "The data in database is a series of integers of different length. These need to be convereted to a tensor \n",
    "which will have values of same length so that neural network can do its job. There are 2 ways of converting that \n",
    "array of integeres to a tensor: \n",
    "1. First is to convert all integers into same length (padding) we need to have tensor with shape (samples, max_length). you start of the NN with a layer that handle such integers (embedding layer)\n",
    "2. Multi hot encoding - turn you lists into a series of 1 and 0. This means if we have vector [8,5,6] then the 10k vector will have first three elments as 1s and all other as 0s [1,1,1,0 ...., 0]"
   ]
  },
  {
   "cell_type": "code",
   "execution_count": 49,
   "metadata": {},
   "outputs": [
    {
     "name": "stdout",
     "output_type": "stream",
     "text": [
      "x_train shape: (25000, 10000)\n",
      "[0. 1. 1. ... 0. 0. 0.]\n"
     ]
    }
   ],
   "source": [
    "# following the vectorization of the data\n",
    "import numpy as np\n",
    "def vectorize_sequences(sequences, dimension=10000):  # we vectorize each integer in 10k dim. vector\n",
    "    results = np.zeros((len(sequences), dimension))\n",
    "    for i, sequence in enumerate(sequences):\n",
    "        results[i, sequence] = 1  # set results to 1 where we have a sequence of integers and rest are zeros in the 10k \n",
    "    return results\n",
    "\n",
    "x_train = vectorize_sequences(train_data)\n",
    "x_test = vectorize_sequences(test_data)\n",
    "print(f\"x_train shape: {x_train.shape}\")\n",
    "print(x_train[2])\n",
    "\n",
    "y_train = np.asarray(train_labels).astype(\"float32\")\n",
    "y_test = np.asarray(test_labels).astype(\"float32\") \n"
   ]
  },
  {
   "cell_type": "code",
   "execution_count": 21,
   "metadata": {},
   "outputs": [
    {
     "name": "stdout",
     "output_type": "stream",
     "text": [
      "x_train: [0. 1. 1. ... 0. 0. 0.]\n",
      "y_train: [1. 0. 0. ... 0. 1. 0.]\n"
     ]
    }
   ],
   "source": [
    "print(f\"x_train: {x_train[0]}\")\n",
    "print(f\"y_train: {y_train}\")"
   ]
  },
  {
   "cell_type": "markdown",
   "metadata": {},
   "source": [
    "### 2. Build your model \n",
    "The next step is about building the model (neural network) so that it can be later trained. \n",
    "The dataset we have is a set of vectors as inputs and the output is a scalar (1 or 0). This is the simplest problem set in DL this will be a series of densely packed layers with a `relu` activation function. \n",
    "\n",
    "**The architrecture decisions you need to take** \n",
    "* how many layers to use \n",
    "* how many units to choose in each layer. \n",
    "\n",
    "Priciples for making architecture decisions will be taken up later for now we will choose: \n",
    "* two intermediate layers with 16 units each \n",
    "* A third layer will output he scalar (sentiment of the review positive / negative)"
   ]
  },
  {
   "cell_type": "code",
   "execution_count": 67,
   "metadata": {},
   "outputs": [],
   "source": [
    "from tensorflow import keras\n",
    "from tensorflow.keras import layers\n",
    "\n",
    "mr_model = keras.Sequential([\n",
    "    layers.Dense(16, activation=\"tanh\"),  # relu \n",
    "    layers.Dense(16, activation=\"tanh\"),  # relu\n",
    "    layers.Dense(1, activation=\"sigmoid\")\n",
    "])"
   ]
  },
  {
   "cell_type": "markdown",
   "metadata": {},
   "source": [
    "### Layer dimensionality \n",
    "Here we have input sequence being reshaped to 16 dimensions. This is the dimensionality of the layer. The layer would be like \n",
    "`output = relu(dot(input, W) + b))` The implication of this means that the weight matrix W will have dimension `(input_dimension, 16)`. \n",
    "\n",
    "The idea here is to reduce the dimentionality to a number that will allow the model to learn effectively and not overfit. A higher dimensionality means more complex relationships the model can learn but also means that the model has a tendency to overfit as well. \n",
    "\n",
    "### Sigmoid \n",
    "The final activation function there is the sigmoid function that will turn the final layer to a probability of whether the movie review is positive or negative. Therefore the sigmoid leads to a value between (0,1) in this case\n"
   ]
  },
  {
   "cell_type": "code",
   "execution_count": 68,
   "metadata": {},
   "outputs": [],
   "source": [
    "# compile the model \n",
    "#mr_model.compile(optimizer=\"rmsprop\", loss=\"binary_crossentropy\", metrics=[\"accuracy\"])\n",
    "mr_model.compile(optimizer=\"rmsprop\", \n",
    "                 loss=\"mse\",\n",
    "                 metrics=[\"accuracy\"]) "
   ]
  },
  {
   "cell_type": "markdown",
   "metadata": {},
   "source": [
    "## 3 Validation set \n",
    "this is to split the train set further to val based on one set and train on another "
   ]
  },
  {
   "cell_type": "code",
   "execution_count": 69,
   "metadata": {},
   "outputs": [],
   "source": [
    "x_val = x_train[:10000]\n",
    "partial_x_train = x_train[10000:]\n",
    "y_val = y_train[:10000]\n",
    "partial_y_train = y_train[10000:]"
   ]
  },
  {
   "cell_type": "code",
   "execution_count": 70,
   "metadata": {},
   "outputs": [
    {
     "name": "stdout",
     "output_type": "stream",
     "text": [
      "Epoch 1/20\n",
      "30/30 [==============================] - 2s 35ms/step - loss: 0.1574 - accuracy: 0.7985 - val_loss: 0.1067 - val_accuracy: 0.8771\n",
      "Epoch 2/20\n",
      "30/30 [==============================] - 0s 8ms/step - loss: 0.0793 - accuracy: 0.9093 - val_loss: 0.1054 - val_accuracy: 0.8582\n",
      "Epoch 3/20\n",
      "30/30 [==============================] - 0s 7ms/step - loss: 0.0550 - accuracy: 0.9351 - val_loss: 0.0816 - val_accuracy: 0.8892\n",
      "Epoch 4/20\n",
      "30/30 [==============================] - 0s 7ms/step - loss: 0.0399 - accuracy: 0.9529 - val_loss: 0.0931 - val_accuracy: 0.8758\n",
      "Epoch 5/20\n",
      "30/30 [==============================] - 0s 7ms/step - loss: 0.0310 - accuracy: 0.9637 - val_loss: 0.1071 - val_accuracy: 0.8582\n",
      "Epoch 6/20\n",
      "30/30 [==============================] - 0s 7ms/step - loss: 0.0217 - accuracy: 0.9764 - val_loss: 0.0910 - val_accuracy: 0.8826\n",
      "Epoch 7/20\n",
      "30/30 [==============================] - 0s 10ms/step - loss: 0.0195 - accuracy: 0.9776 - val_loss: 0.1014 - val_accuracy: 0.8726\n",
      "Epoch 8/20\n",
      "30/30 [==============================] - 0s 9ms/step - loss: 0.0161 - accuracy: 0.9825 - val_loss: 0.0993 - val_accuracy: 0.8760\n",
      "Epoch 9/20\n",
      "30/30 [==============================] - 0s 8ms/step - loss: 0.0139 - accuracy: 0.9843 - val_loss: 0.1026 - val_accuracy: 0.8737\n",
      "Epoch 10/20\n",
      "30/30 [==============================] - 0s 9ms/step - loss: 0.0115 - accuracy: 0.9874 - val_loss: 0.1043 - val_accuracy: 0.8752\n",
      "Epoch 11/20\n",
      "30/30 [==============================] - 0s 8ms/step - loss: 0.0064 - accuracy: 0.9940 - val_loss: 0.1075 - val_accuracy: 0.8721\n",
      "Epoch 12/20\n",
      "30/30 [==============================] - 0s 8ms/step - loss: 0.0112 - accuracy: 0.9877 - val_loss: 0.1113 - val_accuracy: 0.8681\n",
      "Epoch 13/20\n",
      "30/30 [==============================] - 0s 8ms/step - loss: 0.0081 - accuracy: 0.9911 - val_loss: 0.1120 - val_accuracy: 0.8690\n",
      "Epoch 14/20\n",
      "30/30 [==============================] - 0s 7ms/step - loss: 0.0047 - accuracy: 0.9955 - val_loss: 0.1122 - val_accuracy: 0.8703\n",
      "Epoch 15/20\n",
      "30/30 [==============================] - 0s 7ms/step - loss: 0.0091 - accuracy: 0.9901 - val_loss: 0.1145 - val_accuracy: 0.8685\n",
      "Epoch 16/20\n",
      "30/30 [==============================] - 0s 8ms/step - loss: 0.0041 - accuracy: 0.9960 - val_loss: 0.1156 - val_accuracy: 0.8681\n",
      "Epoch 17/20\n",
      "30/30 [==============================] - 0s 10ms/step - loss: 0.0040 - accuracy: 0.9960 - val_loss: 0.1181 - val_accuracy: 0.8646\n",
      "Epoch 18/20\n",
      "30/30 [==============================] - 0s 10ms/step - loss: 0.0082 - accuracy: 0.9908 - val_loss: 0.1189 - val_accuracy: 0.8654\n",
      "Epoch 19/20\n",
      "30/30 [==============================] - 0s 9ms/step - loss: 0.0037 - accuracy: 0.9963 - val_loss: 0.1202 - val_accuracy: 0.8639\n",
      "Epoch 20/20\n",
      "30/30 [==============================] - 0s 8ms/step - loss: 0.0036 - accuracy: 0.9964 - val_loss: 0.1203 - val_accuracy: 0.8640\n"
     ]
    }
   ],
   "source": [
    "# not fit the model and validate it \n",
    "history = mr_model.fit(partial_x_train, \n",
    "             partial_y_train, \n",
    "             epochs=20, \n",
    "             batch_size=512, \n",
    "             validation_data=(x_val, y_val))"
   ]
  },
  {
   "cell_type": "code",
   "execution_count": 71,
   "metadata": {},
   "outputs": [
    {
     "data": {
      "text/plain": [
       "dict_keys(['loss', 'accuracy', 'val_loss', 'val_accuracy'])"
      ]
     },
     "execution_count": 71,
     "metadata": {},
     "output_type": "execute_result"
    }
   ],
   "source": [
    "history_dict = history.history\n",
    "history_dict.keys()"
   ]
  },
  {
   "cell_type": "code",
   "execution_count": 72,
   "metadata": {},
   "outputs": [
    {
     "data": {
      "image/png": "[encoded data removed]",
      "text/plain": [
       "<Figure size 640x480 with 1 Axes>"
      ]
     },
     "metadata": {},
     "output_type": "display_data"
    }
   ],
   "source": [
    "import matplotlib.pyplot as plt\n",
    "\n",
    "history_dict = history.history\n",
    "loss_values = history_dict[\"loss\"]\n",
    "val_loss_values = history_dict[\"val_loss\"]\n",
    "epochs = range(1, len(loss_values) + 1)\n",
    "plt.plot(epochs, loss_values, \"bo\", label=\"Training loss\")        \n",
    "plt.plot(epochs, val_loss_values, \"b\", label=\"Validation loss\")   \n",
    "plt.title(\"Training and validation loss\")\n",
    "plt.xlabel(\"Epochs\")\n",
    "plt.ylabel(\"Loss\")\n",
    "plt.legend()\n",
    "plt.show()"
   ]
  },
  {
   "cell_type": "code",
   "execution_count": 73,
   "metadata": {},
   "outputs": [
    {
     "data": {
      "image/png": "[encoded data removed]",
      "text/plain": [
       "<Figure size 640x480 with 1 Axes>"
      ]
     },
     "metadata": {},
     "output_type": "display_data"
    }
   ],
   "source": [
    "plt.clf()                           \n",
    "acc = history_dict[\"accuracy\"]\n",
    "val_acc = history_dict[\"val_accuracy\"]\n",
    "plt.plot(epochs, acc, \"bo\", label=\"Training acc\")\n",
    "plt.plot(epochs, val_acc, \"b\", label=\"Validation acc\")\n",
    "plt.title(\"Training and validation accuracy\")\n",
    "plt.xlabel(\"Epochs\")\n",
    "plt.ylabel(\"Accuracy\")\n",
    "plt.legend()\n",
    "plt.show()\n"
   ]
  },
  {
   "cell_type": "code",
   "execution_count": 74,
   "metadata": {},
   "outputs": [
    {
     "name": "stdout",
     "output_type": "stream",
     "text": [
      "Epoch 1/4\n",
      "49/49 [==============================] - 0s 6ms/step - loss: 0.0521 - accuracy: 0.9413\n",
      "Epoch 2/4\n",
      "49/49 [==============================] - 0s 5ms/step - loss: 0.0395 - accuracy: 0.9561\n",
      "Epoch 3/4\n",
      "49/49 [==============================] - 0s 5ms/step - loss: 0.0339 - accuracy: 0.9624\n",
      "Epoch 4/4\n",
      "49/49 [==============================] - 0s 5ms/step - loss: 0.0303 - accuracy: 0.9667\n",
      "782/782 [==============================] - 0s 562us/step - loss: 0.1241 - accuracy: 0.8589\n"
     ]
    }
   ],
   "source": [
    "## Now lets train with the entire training set and then test with the test set. \n",
    "\n",
    "mr_model.fit(x_train, y_train, epochs=4, batch_size=512)\n",
    "results = mr_model.evaluate(x_test, y_test)"
   ]
  },
  {
   "cell_type": "code",
   "execution_count": 75,
   "metadata": {},
   "outputs": [
    {
     "name": "stdout",
     "output_type": "stream",
     "text": [
      "[0.12408817559480667, 0.8588799834251404]\n"
     ]
    }
   ],
   "source": [
    "print(results)\n",
    "\n",
    "## here we have the accuray of 88% on the test set. and .51 is the test loss. for relu and binary_crossentropy\n",
    "## for tanh and mse, we have 85% accuracy and .12 loss. "
   ]
  },
  {
   "cell_type": "code",
   "execution_count": 66,
   "metadata": {},
   "outputs": [
    {
     "name": "stdout",
     "output_type": "stream",
     "text": [
      "782/782 [==============================] - 1s 612us/step\n"
     ]
    },
    {
     "data": {
      "text/plain": [
       "array([[0.00365357],\n",
       "       [1.        ],\n",
       "       [0.9951827 ],\n",
       "       ...,\n",
       "       [0.02078831],\n",
       "       [0.16203439],\n",
       "       [0.7292565 ]], dtype=float32)"
      ]
     },
     "execution_count": 66,
     "metadata": {},
     "output_type": "execute_result"
    }
   ],
   "source": [
    "### Now predict on outside data. \n",
    "mr_model.predict(x_test)"
   ]
  },
  {
   "cell_type": "markdown",
   "metadata": {},
   "source": []
  }
 ],
 "metadata": {
  "kernelspec": {
   "display_name": "pylearn",
   "language": "python",
   "name": "python3"
  },
  "language_info": {
   "codemirror_mode": {
    "name": "ipython",
    "version": 3
   },
   "file_extension": ".py",
   "mimetype": "text/x-python",
   "name": "python",
   "nbconvert_exporter": "python",
   "pygments_lexer": "ipython3",
   "version": "3.11.3"
  }
 },
 "nbformat": 4,
 "nbformat_minor": 2
}
