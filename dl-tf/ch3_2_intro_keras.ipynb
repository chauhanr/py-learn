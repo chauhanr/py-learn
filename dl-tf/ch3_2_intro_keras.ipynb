{
 "cells": [
  {
   "cell_type": "code",
   "execution_count": 1,
   "metadata": {},
   "outputs": [],
   "source": [
    "import tensorflow as tf \n",
    "import numpy as np \n",
    "from tensorflow import keras"
   ]
  },
  {
   "cell_type": "markdown",
   "metadata": {},
   "source": [
    "## Core Keras Library \n",
    "Base layer class in Keras"
   ]
  },
  {
   "cell_type": "code",
   "execution_count": 2,
   "metadata": {},
   "outputs": [],
   "source": [
    "class SimpleDense(keras.layers.Layer): \n",
    "    def __init__(self, units, activation=None): \n",
    "        super().__init__()\n",
    "        self.units = units\n",
    "        self.activation = keras.activations.get(activation)\n",
    "    \n",
    "    def build(self, input_shape): \n",
    "        input_dim = input_shape[-1]\n",
    "        self.kernel = self.add_weight(\n",
    "            name='kernel', shape=[input_dim, self.units], \n",
    "            initializer='glorot_normal'\n",
    "        )\n",
    "        self.bias = self.add_weight(\n",
    "            name='bias', shape=[self.units], \n",
    "            initializer='zeros'\n",
    "        )\n",
    "        super().build(input_shape)\n",
    "    \n",
    "    def call(self, x):\n",
    "        y = tf.matmul(x, self.kernel) + self.bias\n",
    "        if self.activation is not None: \n",
    "            y = self.activation(y)\n",
    "        return y\n",
    "    "
   ]
  },
  {
   "cell_type": "code",
   "execution_count": 6,
   "metadata": {},
   "outputs": [
    {
     "name": "stdout",
     "output_type": "stream",
     "text": [
      "(2, 32)\n"
     ]
    }
   ],
   "source": [
    "myden = SimpleDense(32, activation='relu')\n",
    "input_tensor = tf.ones(shape=(2, 784))\n",
    "output_tensor = myden(input_tensor)\n",
    "\n",
    "print(output_tensor.shape)\n",
    "\n",
    "# here you see that the build() and call() methods are never called \n",
    "# explicitly. Instead, you call the layer instance as if it were a function,\n",
    "# we need to understand that the __call__ method is called when you call the\n",
    "# instance of the class. This is called Just-in-time determination of shapes"
   ]
  },
  {
   "cell_type": "markdown",
   "metadata": {},
   "source": [
    "### Automatic shape inference: build layers on the fly \n",
    "\n",
    "Remember that the layers can be clipped together only with compatible tensors only, Therefore Layers will take tensors of\n",
    "certain shape and return tensors of certain shape only,"
   ]
  },
  {
   "cell_type": "code",
   "execution_count": 7,
   "metadata": {},
   "outputs": [],
   "source": [
    "from tensorflow.keras import models \n",
    "from tensorflow.keras import layers\n",
    "model = models.Sequential([\n",
    "    layers.Dense(32, activation=\"relu\"),\n",
    "    layers.Dense(32)\n",
    "])\n",
    "\n",
    "# just remember that the __call__ method is called when you call the instance and the chain of layers\n",
    "# is called the functional API need to have same number of units as previous layer output tensor "
   ]
  },
  {
   "cell_type": "code",
   "execution_count": null,
   "metadata": {},
   "outputs": [],
   "source": []
  }
 ],
 "metadata": {
  "kernelspec": {
   "display_name": "pylearn",
   "language": "python",
   "name": "python3"
  },
  "language_info": {
   "codemirror_mode": {
    "name": "ipython",
    "version": 3
   },
   "file_extension": ".py",
   "mimetype": "text/x-python",
   "name": "python",
   "nbconvert_exporter": "python",
   "pygments_lexer": "ipython3",
   "version": "3.11.3"
  }
 },
 "nbformat": 4,
 "nbformat_minor": 2
}
