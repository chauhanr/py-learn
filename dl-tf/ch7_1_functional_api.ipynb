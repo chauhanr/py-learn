{
 "cells": [
  {
   "cell_type": "code",
   "execution_count": 1,
   "metadata": {},
   "outputs": [
    {
     "name": "stdout",
     "output_type": "stream",
     "text": [
      "WARNING:tensorflow:From c:\\Users\\ritesh.chauhan\\AppData\\Local\\Programs\\Python\\Python311\\Lib\\site-packages\\keras\\src\\losses.py:2976: The name tf.losses.sparse_softmax_cross_entropy is deprecated. Please use tf.compat.v1.losses.sparse_softmax_cross_entropy instead.\n",
      "\n"
     ]
    }
   ],
   "source": [
    "import tensorflow as tf \n",
    "import numpy as np\n",
    "from tensorflow import keras"
   ]
  },
  {
   "cell_type": "markdown",
   "metadata": {},
   "source": [
    "## Functional API \n",
    "Here we look at how the Multi input and output graph can be built. The problem set is that of series of support tickets with `title` `body` and `tags` added by the user to categorize the tickets. The data will have to be encoded as a series of 0 and 1 and this technique will be studied later and `vocabulary_size` will be the encoding space. \n",
    "\n",
    "The output of the model will be: \n",
    "\n",
    "1. priority of the ticket, scalar between 0 and 1 \n",
    "2. department that should handle the ticket."
   ]
  },
  {
   "cell_type": "code",
   "execution_count": 2,
   "metadata": {},
   "outputs": [],
   "source": [
    "vocabulary_size = 10000\n",
    "num_tags = 100\n",
    "num_departments = 4 "
   ]
  },
  {
   "cell_type": "code",
   "execution_count": 6,
   "metadata": {},
   "outputs": [],
   "source": [
    "titles = keras.Input(shape=(None,vocabulary_size), name='titles')\n",
    "bodies = keras.Input(shape=(None,vocabulary_size), name='bodies')\n",
    "tags = keras.Input(shape=(None,num_tags), name='tags')\n",
    "\n",
    "features = keras.layers.Concatenate()([titles, bodies, tags])\n",
    "features = keras.layers.Dense(64, activation='relu')(features)\n",
    "\n",
    "priority = keras.layers.Dense(1, activation='sigmoid', name='priority')(features)\n",
    "department = keras.layers.Dense(num_departments, name='department')(features)\n",
    "\n",
    "ticket_model = keras.Model(inputs=[titles, bodies, tags], outputs=[priority, department])"
   ]
  },
  {
   "cell_type": "code",
   "execution_count": 15,
   "metadata": {},
   "outputs": [
    {
     "name": "stdout",
     "output_type": "stream",
     "text": [
      "4/4 [==============================] - 1s 12ms/step - loss: 17.0770 - priority_loss: 0.3293 - department_loss: 16.7477 - priority_mean_absolute_error: 0.5009 - department_accuracy: 0.5547\n",
      "4/4 [==============================] - 0s 6ms/step - loss: 17.0770 - priority_loss: 0.3293 - department_loss: 16.7477 - priority_mean_absolute_error: 0.5009 - department_accuracy: 0.5547\n",
      "4/4 [==============================] - 0s 3ms/step\n",
      "Priority[0]: [8.697633e-09]\n",
      "Department[0]: [ 37.828503 -41.801437 -28.662525  12.979788]\n"
     ]
    }
   ],
   "source": [
    "# lets generate some data \n",
    "num_samples = 128 \n",
    "\n",
    "# title data \n",
    "title_data = np.random.randint(0,2, size=(num_samples,vocabulary_size))\n",
    "# text data \n",
    "text_data = np.random.randint(0,2, size=(num_samples,vocabulary_size))\n",
    "# tages data \n",
    "tags_data = np.random.randint(0,2, size=(num_samples,num_tags))\n",
    "\n",
    "priority_data = np.random.random(size=(num_samples, 1)).astype(np.float32)\n",
    "department_data = np.random.randint(0,2, size=(num_samples, num_departments))\n",
    "\n",
    "ticket_model.compile(optimizer='rmsprop', \n",
    "                     loss=['mean_squared_error', 'categorical_crossentropy'],\n",
    "                     metrics=[['mean_absolute_error'], ['accuracy']])\n",
    "\n",
    "ticket_model.fit([title_data, text_data, tags_data],\n",
    "                [priority_data, department_data],\n",
    "                epochs=1)\n",
    "\n",
    "ticket_model.evaluate([title_data, text_data, tags_data], [priority_data, department_data])\n",
    "\n",
    "priority, department = ticket_model.predict([title_data, text_data, tags_data])\n",
    "\n",
    "print(f\"Priority[0]: {priority[0]}\")\n",
    "print(f\"Department[0]: {department[0]}\")\n",
    "\n"
   ]
  },
  {
   "cell_type": "code",
   "execution_count": 21,
   "metadata": {},
   "outputs": [
    {
     "name": "stdout",
     "output_type": "stream",
     "text": [
      "You must install pydot (`pip install pydot`) and install graphviz (see instructions at https://graphviz.gitlab.io/download/) for plot_model to work.\n"
     ]
    }
   ],
   "source": [
    "keras.utils.plot_model(ticket_model, 'multi_input_and_output_model.png')"
   ]
  },
  {
   "cell_type": "code",
   "execution_count": 22,
   "metadata": {},
   "outputs": [
    {
     "data": {
      "text/plain": [
       "[<keras.src.engine.input_layer.InputLayer at 0x1e6d6942a10>,\n",
       " <keras.src.engine.input_layer.InputLayer at 0x1e6d69422d0>,\n",
       " <keras.src.engine.input_layer.InputLayer at 0x1e6d6842f10>,\n",
       " <keras.src.layers.merging.concatenate.Concatenate at 0x1e6d6821610>,\n",
       " <keras.src.layers.core.dense.Dense at 0x1e6d6883110>,\n",
       " <keras.src.layers.core.dense.Dense at 0x1e6d6831cd0>,\n",
       " <keras.src.layers.core.dense.Dense at 0x1e6d6925e50>]"
      ]
     },
     "execution_count": 22,
     "metadata": {},
     "output_type": "execute_result"
    }
   ],
   "source": [
    "ticket_model.layers"
   ]
  },
  {
   "cell_type": "code",
   "execution_count": null,
   "metadata": {},
   "outputs": [],
   "source": []
  }
 ],
 "metadata": {
  "kernelspec": {
   "display_name": "Python 3",
   "language": "python",
   "name": "python3"
  },
  "language_info": {
   "codemirror_mode": {
    "name": "ipython",
    "version": 3
   },
   "file_extension": ".py",
   "mimetype": "text/x-python",
   "name": "python",
   "nbconvert_exporter": "python",
   "pygments_lexer": "ipython3",
   "version": "3.11.4"
  }
 },
 "nbformat": 4,
 "nbformat_minor": 2
}
