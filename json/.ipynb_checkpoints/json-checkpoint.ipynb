{
 "cells": [
  {
   "cell_type": "code",
   "execution_count": 1,
   "id": "533288fb",
   "metadata": {},
   "outputs": [],
   "source": [
    "import json "
   ]
  },
  {
   "cell_type": "code",
   "execution_count": 6,
   "id": "4a5f0458",
   "metadata": {},
   "outputs": [
    {
     "name": "stdout",
     "output_type": "stream",
     "text": [
      "{\n",
      "    \"firstName\": \"ritesh\",\n",
      "    \"lastName\": \"chauhan\",\n",
      "    \"hobbies\": [\n",
      "        \"reading\",\n",
      "        \"travelling\",\n",
      "        \"learning\"\n",
      "    ],\n",
      "    \"age\": 42,\n",
      "    \"hasChildren\": true,\n",
      "    \"children\": [\n",
      "        {\n",
      "            \"firstName\": \"Atharv\",\n",
      "            \"age\": 11\n",
      "        },\n",
      "        {\n",
      "            \"firstName\": \"Sharanya\",\n",
      "            \"age\": 4\n",
      "        }\n",
      "    ]\n",
      "}\n"
     ]
    }
   ],
   "source": [
    "person = {\"firstName\": \"ritesh\", \"lastName\": \"chauhan\", \"hobbies\": [\"reading\", \"travelling\", \"learning\"], \"age\": 42, \"hasChildren\": True, \"children\": [{\"firstName\": \"Atharv\", \"age\": 11},{\"firstName\": \"Sharanya\", \"age\": 4}]}\n",
    "\n",
    "pJson = json.dumps(person, indent=4)\n",
    "print(pJson)"
   ]
  },
  {
   "cell_type": "code",
   "execution_count": 9,
   "id": "bd732f8b",
   "metadata": {},
   "outputs": [],
   "source": [
    "# writing to a file.\n",
    "\n",
    "with open('person.json','w') as file: \n",
    "    json.dump(person,file, indent=4)"
   ]
  },
  {
   "cell_type": "code",
   "execution_count": null,
   "id": "ef68cc66",
   "metadata": {},
   "outputs": [],
   "source": []
  }
 ],
 "metadata": {
  "kernelspec": {
   "display_name": "Python 3 (ipykernel)",
   "language": "python",
   "name": "python3"
  },
  "language_info": {
   "codemirror_mode": {
    "name": "ipython",
    "version": 3
   },
   "file_extension": ".py",
   "mimetype": "text/x-python",
   "name": "python",
   "nbconvert_exporter": "python",
   "pygments_lexer": "ipython3",
   "version": "3.10.9"
  }
 },
 "nbformat": 4,
 "nbformat_minor": 5
}
