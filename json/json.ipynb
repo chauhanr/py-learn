{
 "cells": [
  {
   "cell_type": "code",
   "execution_count": 1,
   "id": "966c46d7",
   "metadata": {},
   "outputs": [],
   "source": [
    "import json "
   ]
  },
  {
   "cell_type": "code",
   "execution_count": 6,
   "id": "4fa50e3a",
   "metadata": {},
   "outputs": [
    {
     "name": "stdout",
     "output_type": "stream",
     "text": [
      "{\n",
      "    \"firstName\": \"ritesh\",\n",
      "    \"lastName\": \"chauhan\",\n",
      "    \"hobbies\": [\n",
      "        \"reading\",\n",
      "        \"travelling\",\n",
      "        \"learning\"\n",
      "    ],\n",
      "    \"age\": 42,\n",
      "    \"hasChildren\": true,\n",
      "    \"children\": [\n",
      "        {\n",
      "            \"firstName\": \"Atharv\",\n",
      "            \"age\": 11\n",
      "        },\n",
      "        {\n",
      "            \"firstName\": \"Sharanya\",\n",
      "            \"age\": 4\n",
      "        }\n",
      "    ]\n",
      "}\n"
     ]
    }
   ],
   "source": [
    "person = {\"firstName\": \"ritesh\", \"lastName\": \"chauhan\", \"hobbies\": [\"reading\", \"travelling\", \"learning\"], \"age\": 42, \"hasChildren\": True, \"children\": [{\"firstName\": \"Atharv\", \"age\": 11},{\"firstName\": \"Sharanya\", \"age\": 4}]}\n",
    "\n",
    "pJson = json.dumps(person, indent=4)\n",
    "print(pJson)"
   ]
  },
  {
   "cell_type": "code",
   "execution_count": 10,
   "id": "d8764765",
   "metadata": {},
   "outputs": [],
   "source": [
    "# writing to a file.\n",
    "\n",
    "with open('person.json','w') as file: \n",
    "    json.dump(person,file, indent=4)"
   ]
  },
  {
   "cell_type": "code",
   "execution_count": 12,
   "id": "6617aff8",
   "metadata": {},
   "outputs": [
    {
     "name": "stdout",
     "output_type": "stream",
     "text": [
      "{'firstName': 'ritesh', 'lastName': 'chauhan', 'hobbies': ['reading', 'travelling', 'learning'], 'age': 42, 'hasChildren': True, 'children': [{'firstName': 'Atharv', 'age': 11}, {'firstName': 'Sharanya', 'age': 4}]}\n"
     ]
    }
   ],
   "source": [
    "# convert json to python object \n",
    "person = json.loads(pJson)\n",
    "print(person)"
   ]
  },
  {
   "cell_type": "code",
   "execution_count": 13,
   "id": "6c005a06",
   "metadata": {},
   "outputs": [
    {
     "name": "stdout",
     "output_type": "stream",
     "text": [
      "{'firstName': 'ritesh', 'lastName': 'chauhan', 'hobbies': ['reading', 'travelling', 'learning'], 'age': 42, 'hasChildren': True, 'children': [{'firstName': 'Atharv', 'age': 11}, {'firstName': 'Sharanya', 'age': 4}]}\n"
     ]
    }
   ],
   "source": [
    "# open from file \n",
    "with open('person.json', 'r') as file: \n",
    "    person = json.load(file)\n",
    "    print(person)"
   ]
  },
  {
   "cell_type": "code",
   "execution_count": 28,
   "id": "d00229eb",
   "metadata": {},
   "outputs": [],
   "source": [
    "class User: \n",
    "    def __init__(self, name, age): \n",
    "        self.name = name\n",
    "        self.age = age \n",
    "        \n",
    "\n",
    "def encode_user(u): \n",
    "    if isinstance(u, User): \n",
    "        return {'name': u.name, 'age': u.age, u.__class__.__name__: True}\n",
    "    else: \n",
    "        raise TypeError('Object is not of type User and therefore cannot be encoded.')"
   ]
  },
  {
   "cell_type": "code",
   "execution_count": 29,
   "id": "f3532445",
   "metadata": {},
   "outputs": [
    {
     "name": "stdout",
     "output_type": "stream",
     "text": [
      "{\n",
      "    \"name\": \"Max\",\n",
      "    \"age\": 43,\n",
      "    \"User\": true\n",
      "}\n"
     ]
    }
   ],
   "source": [
    "# Now lets look at a class and how to encode the class. \n",
    "user = User(\"Max\", 43)\n",
    "\n",
    "uJson = json.dumps(user, indent=4, default=encode_user)\n",
    "print(uJson)"
   ]
  },
  {
   "cell_type": "code",
   "execution_count": 30,
   "id": "1c776ce3",
   "metadata": {},
   "outputs": [],
   "source": [
    "## another way to encode in the class itself \n",
    "from json import JSONEncoder"
   ]
  },
  {
   "cell_type": "code",
   "execution_count": 31,
   "id": "97c7acc6",
   "metadata": {},
   "outputs": [],
   "source": [
    "class UserEncoder(JSONEncoder): \n",
    "    def default(self, u): \n",
    "        if isinstance(u, User): \n",
    "            return {'name': u.name, 'age': u.age, u.__class__.__name__: True}\n",
    "        else: \n",
    "            return JSONEncoder.default(self, u)"
   ]
  },
  {
   "cell_type": "code",
   "execution_count": 32,
   "id": "661a5b2b",
   "metadata": {},
   "outputs": [
    {
     "name": "stdout",
     "output_type": "stream",
     "text": [
      "{\"name\": \"Jas\", \"age\": 29, \"User\": true}\n"
     ]
    }
   ],
   "source": [
    "userj = User(\"Jas\", 29)\n",
    "\n",
    "uJsonj = UserEncoder().encode(userj)\n",
    "print(uJsonj)"
   ]
  },
  {
   "cell_type": "code",
   "execution_count": null,
   "id": "d52a3540",
   "metadata": {},
   "outputs": [],
   "source": []
  }
 ],
 "metadata": {
  "kernelspec": {
   "display_name": "Python 3 (ipykernel)",
   "language": "python",
   "name": "python3"
  },
  "language_info": {
   "codemirror_mode": {
    "name": "ipython",
    "version": 3
   },
   "file_extension": ".py",
   "mimetype": "text/x-python",
   "name": "python",
   "nbconvert_exporter": "python",
   "pygments_lexer": "ipython3",
   "version": "3.10.9"
  }
 },
 "nbformat": 4,
 "nbformat_minor": 5
}
