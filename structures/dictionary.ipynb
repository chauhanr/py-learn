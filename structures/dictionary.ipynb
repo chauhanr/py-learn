{
 "cells": [
  {
   "cell_type": "code",
   "execution_count": 2,
   "id": "6a294149",
   "metadata": {},
   "outputs": [
    {
     "name": "stdout",
     "output_type": "stream",
     "text": [
      "{'name': 'Ritesh', 'age': 40, 'city': 'Noida'}\n"
     ]
    }
   ],
   "source": [
    "# maps \n",
    "mydict = dict(name=\"Ritesh\", age=40, city=\"Noida\")\n",
    "print(mydict)"
   ]
  },
  {
   "cell_type": "code",
   "execution_count": 6,
   "id": "8e601a1e",
   "metadata": {},
   "outputs": [
    {
     "name": "stdout",
     "output_type": "stream",
     "text": [
      "name: Ritesh age: 40\n"
     ]
    }
   ],
   "source": [
    "print(f\"name: {mydict['name']} age: {mydict['age']}\")"
   ]
  },
  {
   "cell_type": "code",
   "execution_count": 12,
   "id": "72b3d185",
   "metadata": {},
   "outputs": [
    {
     "name": "stdout",
     "output_type": "stream",
     "text": [
      "{'name': 'Ritesh', 'age': 40, 'city': 'Noida', 'email': 'ritesh.chauhan@hcl.com', 'garbage': '-----'}\n"
     ]
    }
   ],
   "source": [
    "mydict[\"email\"]=\"ritesh.chauhan@hcl.com\"\n",
    "mydict[\"garbage\"] = \"-----\"\n",
    "print(mydict)"
   ]
  },
  {
   "cell_type": "code",
   "execution_count": 14,
   "id": "b5317db2",
   "metadata": {},
   "outputs": [
    {
     "name": "stdout",
     "output_type": "stream",
     "text": [
      "{'name': 'Ritesh', 'age': 40, 'city': 'Noida', 'email': 'ritesh.chauhan@hcl.com'}\n"
     ]
    }
   ],
   "source": [
    "# delete items\n",
    "key = \"garbage\"\n",
    "if key in mydict: \n",
    "    del mydict[key]\n",
    "print(mydict)"
   ]
  },
  {
   "cell_type": "code",
   "execution_count": 15,
   "id": "2fb32f88",
   "metadata": {},
   "outputs": [],
   "source": [
    "# you can use the popitem() method to delete the last key in the dict "
   ]
  },
  {
   "cell_type": "code",
   "execution_count": 16,
   "id": "e2dfe1bd",
   "metadata": {},
   "outputs": [
    {
     "name": "stdout",
     "output_type": "stream",
     "text": [
      "Ritesh\n",
      "40\n",
      "Noida\n",
      "ritesh.chauhan@hcl.com\n"
     ]
    }
   ],
   "source": [
    "# Loop through a dict \n",
    "\n",
    "for key in mydict: \n",
    "    print(mydict[key])"
   ]
  },
  {
   "cell_type": "code",
   "execution_count": 18,
   "id": "8308e157",
   "metadata": {},
   "outputs": [
    {
     "name": "stdout",
     "output_type": "stream",
     "text": [
      "Ritesh\n",
      "40\n",
      "Noida\n",
      "ritesh.chauhan@hcl.com\n"
     ]
    }
   ],
   "source": [
    "for key in mydict.keys(): \n",
    "    print(mydict[key])"
   ]
  },
  {
   "cell_type": "code",
   "execution_count": 19,
   "id": "3db59c85",
   "metadata": {},
   "outputs": [
    {
     "name": "stdout",
     "output_type": "stream",
     "text": [
      "Ritesh\n",
      "40\n",
      "Noida\n",
      "ritesh.chauhan@hcl.com\n"
     ]
    }
   ],
   "source": [
    "for value in mydict.values(): \n",
    "    print(value)"
   ]
  },
  {
   "cell_type": "code",
   "execution_count": 20,
   "id": "3fa3e05b",
   "metadata": {},
   "outputs": [
    {
     "name": "stdout",
     "output_type": "stream",
     "text": [
      "name Ritesh\n",
      "age 40\n",
      "city Noida\n",
      "email ritesh.chauhan@hcl.com\n"
     ]
    }
   ],
   "source": [
    "for key, value in mydict.items(): \n",
    "    print(key,value)"
   ]
  },
  {
   "cell_type": "markdown",
   "id": "b729119f",
   "metadata": {},
   "source": [
    "### Copy a Dictionary "
   ]
  },
  {
   "cell_type": "code",
   "execution_count": 21,
   "id": "b06f5769",
   "metadata": {},
   "outputs": [
    {
     "name": "stdout",
     "output_type": "stream",
     "text": [
      "{'name': 'Ritesh', 'age': 40, 'city': 'Noida', 'email': 'ritesh.chauhan@hcl.com'}\n",
      "{'name': 'Rambo', 'age': 40, 'city': 'Noida', 'email': 'ritesh.chauhan@hcl.com'}\n"
     ]
    }
   ],
   "source": [
    "# mydict_cp = mydict is a shallow copy and a change in mydict_cp leads to change in mydict \n",
    "mydict_cp = mydict.copy()\n",
    "\n",
    "mydict_cp[\"name\"] = \"Rambo\"\n",
    "print(mydict)\n",
    "print(mydict_cp)"
   ]
  },
  {
   "cell_type": "code",
   "execution_count": 23,
   "id": "05373ac6",
   "metadata": {},
   "outputs": [
    {
     "name": "stdout",
     "output_type": "stream",
     "text": [
      "{'name': 'Ritesh', 'age': 40, 'email': 'ritesh.chauhan@hcl.com', 'city': 'Noida', 'pin': '201304'}\n",
      "{'name': 'Ritesh', 'age': 40, 'city': 'Noida', 'email': 'ritesh.chauhan@hcl.com'}\n"
     ]
    }
   ],
   "source": [
    "# udpate on dict by another \n",
    "mydict_2 = dict(name=\"Ravi\", age=39, email=\"ravi.verma@xyz.com\", city=\"Noida\", pin=\"201304\")\n",
    "\n",
    "mydict_2.update(mydict)\n",
    "\n",
    "print(mydict_2)\n",
    "print(mydict)"
   ]
  },
  {
   "cell_type": "code",
   "execution_count": null,
   "id": "d984ccb2",
   "metadata": {},
   "outputs": [],
   "source": []
  }
 ],
 "metadata": {
  "kernelspec": {
   "display_name": "Python 3 (ipykernel)",
   "language": "python",
   "name": "python3"
  },
  "language_info": {
   "codemirror_mode": {
    "name": "ipython",
    "version": 3
   },
   "file_extension": ".py",
   "mimetype": "text/x-python",
   "name": "python",
   "nbconvert_exporter": "python",
   "pygments_lexer": "ipython3",
   "version": "3.10.9"
  }
 },
 "nbformat": 4,
 "nbformat_minor": 5
}
