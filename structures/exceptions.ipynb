{
 "cells": [
  {
   "attachments": {},
   "cell_type": "markdown",
   "id": "5054d45a",
   "metadata": {},
   "source": [
    "## Exceptions and Errors"
   ]
  },
  {
   "cell_type": "markdown",
   "id": "68bd18a5",
   "metadata": {},
   "source": [
    "There are several types of errors: \n",
    "1. Type Error - where you are trying to change type of a variable or making assigments that are not valid \n",
    "2. File Not found error \n",
    "3. Module Not found error \n",
    "4. Name Error - this happens when we use a variable that has been not been declared. \n",
    "5. Syntax Error \n",
    "6. Value Error - when you are trying to remove a value that is not present in a collection\n",
    "7. Index error - where we access an index that is not present in a list or collection - list index out of range. \n",
    "8. Key Error - when you are trying to access a key that is not present in a dict. "
   ]
  },
  {
   "cell_type": "code",
   "execution_count": 7,
   "id": "39ac6914",
   "metadata": {},
   "outputs": [
    {
     "name": "stdout",
     "output_type": "stream",
     "text": [
      "An error occured: x should be greater or equal to than zero\n"
     ]
    }
   ],
   "source": [
    "# raising an exception \n",
    "\n",
    "x = -5\n",
    "try:  \n",
    "    if x < 0: \n",
    "        raise Exception('x should be greater or equal to than zero')\n",
    "except Exception as e: \n",
    "    print(f\"An error occured: {e}\")"
   ]
  },
  {
   "cell_type": "code",
   "execution_count": 6,
   "id": "c35cce27",
   "metadata": {},
   "outputs": [
    {
     "name": "stdout",
     "output_type": "stream",
     "text": [
      "An error occured: X is not positive\n"
     ]
    }
   ],
   "source": [
    "# or you can us an assert \n",
    "try: \n",
    "    assert(x >= 0), \"X is not positive\"\n",
    "except Exception as e: \n",
    "    print(f\"An error occured: {e}\")"
   ]
  },
  {
   "cell_type": "code",
   "execution_count": 12,
   "id": "16d91a13",
   "metadata": {},
   "outputs": [
    {
     "name": "stdout",
     "output_type": "stream",
     "text": [
      "An error occured: division by zero\n",
      "0\n"
     ]
    }
   ],
   "source": [
    "# you can catch the exception \n",
    "try: \n",
    "    a = 5/0\n",
    "except ZeroDivisionError as z: \n",
    "    print(f\"An error occured: {z}\")\n",
    "except TypeError as e: \n",
    "    print(f\"An error as occured: {e}\")\n",
    "else: \n",
    "    print(\"Everything is fine\")\n",
    "finally:  # always runs. \n",
    "    a = 0 \n",
    "\n",
    "print(a)\n"
   ]
  },
  {
   "cell_type": "code",
   "execution_count": 16,
   "id": "f97f41ee",
   "metadata": {},
   "outputs": [
    {
     "name": "stdout",
     "output_type": "stream",
     "text": [
      "error occured: Value cannot be more than 100\n",
      "cleaning up\n"
     ]
    }
   ],
   "source": [
    "# define error by subclassing and capturing the values. \n",
    "class ValueToHighError(Exception): \n",
    "    pass \n",
    "\n",
    "class ValueTooSmallError(Exception): \n",
    "    def __init__(self, message, value):\n",
    "        self.message = message \n",
    "        self.value = value\n",
    "\n",
    "x = 500\n",
    "try: \n",
    "    if x > 100: \n",
    "        raise ValueToHighError(\"Value cannot be more than 100\")\n",
    "    if x < 5: \n",
    "        raise ValueTooSmallError(\"value is to small\", x)\n",
    "except ValueToHighError as e: \n",
    "    print(f\"error occured: {e}\")\n",
    "except ValueTooSmallError as e: \n",
    "    print(e.message, e.value)\n",
    "finally: \n",
    "    print(\"cleaning up\")"
   ]
  },
  {
   "cell_type": "code",
   "execution_count": null,
   "id": "54274ad6",
   "metadata": {},
   "outputs": [],
   "source": []
  }
 ],
 "metadata": {
  "kernelspec": {
   "display_name": "pylearn",
   "language": "python",
   "name": "python3"
  },
  "language_info": {
   "codemirror_mode": {
    "name": "ipython",
    "version": 3
   },
   "file_extension": ".py",
   "mimetype": "text/x-python",
   "name": "python",
   "nbconvert_exporter": "python",
   "pygments_lexer": "ipython3",
   "version": "3.11.3"
  }
 },
 "nbformat": 4,
 "nbformat_minor": 5
}
