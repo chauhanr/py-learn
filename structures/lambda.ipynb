{
 "cells": [
  {
   "attachments": {},
   "cell_type": "markdown",
   "id": "5054d45a",
   "metadata": {},
   "source": [
    "## Lambda\n",
    "Lamba is a one line funciton having the following structure \n",
    "`lambda arguments: expression`"
   ]
  },
  {
   "cell_type": "code",
   "execution_count": 1,
   "id": "68bd18a5",
   "metadata": {},
   "outputs": [
    {
     "name": "stdout",
     "output_type": "stream",
     "text": [
      "15\n"
     ]
    }
   ],
   "source": [
    "add10 = lambda x : x+10 \n",
    "\n",
    "print(add10(5))"
   ]
  },
  {
   "cell_type": "code",
   "execution_count": 2,
   "id": "f8be861b",
   "metadata": {},
   "outputs": [],
   "source": [
    "# the lambda above is the same as \n",
    "def add10_func(x): \n",
    "    return x+10"
   ]
  },
  {
   "cell_type": "code",
   "execution_count": 4,
   "id": "09cb3ebe",
   "metadata": {},
   "outputs": [
    {
     "name": "stdout",
     "output_type": "stream",
     "text": [
      "15\n"
     ]
    }
   ],
   "source": [
    "print(add10_func(5))"
   ]
  },
  {
   "cell_type": "code",
   "execution_count": 6,
   "id": "85591bfc",
   "metadata": {},
   "outputs": [
    {
     "data": {
      "text/plain": [
       "14"
      ]
     },
     "execution_count": 6,
     "metadata": {},
     "output_type": "execute_result"
    }
   ],
   "source": [
    "# mutliple arguments \n",
    "\n",
    "mul = lambda x, y: x*y \n",
    "mul(2,7)"
   ]
  },
  {
   "cell_type": "code",
   "execution_count": 13,
   "id": "734c8f54",
   "metadata": {},
   "outputs": [],
   "source": [
    "import numpy as np"
   ]
  },
  {
   "cell_type": "markdown",
   "id": "70d67e8c",
   "metadata": {},
   "source": [
    "Lambda functions are used: \n",
    "1. when there is a need for small one off function \n",
    "2. You need to send a simple function to a higher order function (i.e. a func that takes another func as input)"
   ]
  },
  {
   "cell_type": "code",
   "execution_count": 7,
   "id": "fcfeaeb5",
   "metadata": {},
   "outputs": [
    {
     "name": "stdout",
     "output_type": "stream",
     "text": [
      "[(1, 2), (15, 1), (5, -1), (10, 4)]\n",
      "[(1, 2), (5, -1), (10, 4), (15, 1)]\n"
     ]
    }
   ],
   "source": [
    "points = [(1,2), (15,1), (5,-1), (10,4)]\n",
    "print(points)\n",
    "\n",
    "points_sorted = sorted(points) # sorts based on the first element. \n",
    "print(points_sorted)"
   ]
  },
  {
   "cell_type": "code",
   "execution_count": 31,
   "id": "204e7376",
   "metadata": {},
   "outputs": [
    {
     "name": "stdout",
     "output_type": "stream",
     "text": [
      "point: (1, 2) and distance:  2.24\n",
      "point: (5, -1) and distance:  5.10\n",
      "point: (10, 4) and distance:  10.77\n",
      "point: (15, 1) and distance:  15.03\n",
      "\n",
      " [(1, 2), (5, -1), (10, 4), (15, 1)]\n"
     ]
    }
   ],
   "source": [
    "\n",
    "# now we can sort based on the distance from the origin.\n",
    "point_sorted2 = sorted(points, key=lambda x: np.sqrt(x[0]**2 + x[1]**2))\n",
    "for p in point_sorted2: \n",
    "    dist = np.sqrt(p[0]**2 + p[1]**2)\n",
    "    print(f\"point: {p} and distance: {dist: .2f}\")\n",
    "print(\"\\n\",point_sorted2)"
   ]
  },
  {
   "cell_type": "code",
   "execution_count": 32,
   "id": "13693092",
   "metadata": {},
   "outputs": [
    {
     "name": "stdout",
     "output_type": "stream",
     "text": [
      "[(1, 2), (5, -1), (10, 4), (15, 1)]\n"
     ]
    }
   ],
   "source": [
    "# sum of each \n",
    "point_sorted3 = sorted(points, key=lambda x: x[0]+x[1])\n",
    "print(point_sorted3)"
   ]
  },
  {
   "cell_type": "markdown",
   "id": "d4ea845b",
   "metadata": {},
   "source": [
    "# Lambda and Map Function "
   ]
  },
  {
   "cell_type": "code",
   "execution_count": 5,
   "id": "1ae21766",
   "metadata": {},
   "outputs": [
    {
     "name": "stdout",
     "output_type": "stream",
     "text": [
      "[2, 4, 6, 8, 10]\n"
     ]
    }
   ],
   "source": [
    "z = [1,2,3,4,5]\n",
    "y = map(lambda x: x*2, z)\n",
    "print(list(y))"
   ]
  },
  {
   "cell_type": "code",
   "execution_count": 12,
   "id": "2c2ef9fa",
   "metadata": {},
   "outputs": [
    {
     "name": "stdout",
     "output_type": "stream",
     "text": [
      "[3, 4, 5]\n"
     ]
    }
   ],
   "source": [
    "y = filter(lambda x: x >2, z) \n",
    "print(list(y))"
   ]
  },
  {
   "cell_type": "code",
   "execution_count": 13,
   "id": "afff15da",
   "metadata": {},
   "outputs": [
    {
     "name": "stdout",
     "output_type": "stream",
     "text": [
      "120\n"
     ]
    }
   ],
   "source": [
    "# reduce \n",
    "from functools import reduce \n",
    "product = reduce(lambda x,y: x*y, z) # get product of all numbers \n",
    "print(product)"
   ]
  },
  {
   "cell_type": "code",
   "execution_count": null,
   "id": "cde2ed14",
   "metadata": {},
   "outputs": [],
   "source": []
  }
 ],
 "metadata": {
  "kernelspec": {
   "display_name": "pylearn",
   "language": "python",
   "name": "python3"
  },
  "language_info": {
   "codemirror_mode": {
    "name": "ipython",
    "version": 3
   },
   "file_extension": ".py",
   "mimetype": "text/x-python",
   "name": "python",
   "nbconvert_exporter": "python",
   "pygments_lexer": "ipython3",
   "version": "3.11.3"
  }
 },
 "nbformat": 4,
 "nbformat_minor": 5
}
