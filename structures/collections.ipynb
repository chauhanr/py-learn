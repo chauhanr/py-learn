{
 "cells": [
  {
   "cell_type": "markdown",
   "id": "5054d45a",
   "metadata": {},
   "source": [
    "## collections | Counter"
   ]
  },
  {
   "cell_type": "code",
   "execution_count": 3,
   "id": "0264840e",
   "metadata": {},
   "outputs": [],
   "source": [
    "from collections import Counter"
   ]
  },
  {
   "cell_type": "markdown",
   "id": "0686df32",
   "metadata": {},
   "source": [
    "A counter keeps data in a dictionary where \n",
    "key: the element you are to count and value: number of occurances for the Key"
   ]
  },
  {
   "cell_type": "code",
   "execution_count": 4,
   "id": "f68290e3",
   "metadata": {},
   "outputs": [
    {
     "name": "stdout",
     "output_type": "stream",
     "text": [
      "Counter({'a': 5, 'h': 4, 'b': 3, 'c': 2, 'f': 1, 'g': 1})\n"
     ]
    }
   ],
   "source": [
    "a = \"aaaccabbbafghhhh\"\n",
    "counter = Counter(a)\n",
    "print(counter)"
   ]
  },
  {
   "cell_type": "code",
   "execution_count": 5,
   "id": "e99036e8",
   "metadata": {},
   "outputs": [
    {
     "name": "stdout",
     "output_type": "stream",
     "text": [
      "Counter({2: 3, 7: 3, 3: 2, 4: 1, 6: 1})\n"
     ]
    }
   ],
   "source": [
    "b = [2,3,4,6,7,7,7,2,2,3]\n",
    "nc = Counter(b)\n",
    "print(nc)"
   ]
  },
  {
   "cell_type": "code",
   "execution_count": 6,
   "id": "3f7bdf17",
   "metadata": {},
   "outputs": [
    {
     "name": "stdout",
     "output_type": "stream",
     "text": [
      "Counter({'Ritesh': 2, 'Shweta': 1, 'Sharanya': 1, 'Athrav': 1})\n"
     ]
    }
   ],
   "source": [
    "c = [\"Ritesh\", \"Shweta\", \"Sharanya\", \"Athrav\", \"Ritesh\"]\n",
    "ns = Counter(c)\n",
    "print(ns)"
   ]
  },
  {
   "cell_type": "code",
   "execution_count": 32,
   "id": "8ecd2fb2",
   "metadata": {},
   "outputs": [
    {
     "name": "stdout",
     "output_type": "stream",
     "text": [
      "[('a', 5), ('h', 4)]\n",
      "('a', 5)\n",
      "a\n"
     ]
    }
   ],
   "source": [
    "# Get the most common element  this returns a list of tuples based \n",
    "l = counter.most_common(2)\n",
    "print(l)\n",
    "print(l[0])\n",
    "print(l[0][0])"
   ]
  },
  {
   "cell_type": "code",
   "execution_count": 33,
   "id": "509ef4ca",
   "metadata": {},
   "outputs": [
    {
     "name": "stdout",
     "output_type": "stream",
     "text": [
      "['Ritesh', 'Ritesh', 'Shweta', 'Sharanya', 'Athrav']\n"
     ]
    }
   ],
   "source": [
    "# if you want to get a list of elements from the counter | choose the elements \n",
    "print(list(ns.elements()))"
   ]
  },
  {
   "cell_type": "markdown",
   "id": "f4196ffa",
   "metadata": {},
   "source": [
    "## Named Tuple "
   ]
  },
  {
   "cell_type": "code",
   "execution_count": 34,
   "id": "9de0dc9d",
   "metadata": {},
   "outputs": [],
   "source": [
    "from collections import namedtuple"
   ]
  },
  {
   "cell_type": "code",
   "execution_count": 36,
   "id": "1e164928",
   "metadata": {},
   "outputs": [],
   "source": [
    "Point = namedtuple('Point', 'x,y')\n",
    "pt = Point(1,-6)"
   ]
  },
  {
   "cell_type": "code",
   "execution_count": 37,
   "id": "63442f4a",
   "metadata": {},
   "outputs": [
    {
     "name": "stdout",
     "output_type": "stream",
     "text": [
      "Point(x=1, y=-6)\n"
     ]
    }
   ],
   "source": [
    "print(pt)"
   ]
  },
  {
   "cell_type": "code",
   "execution_count": 39,
   "id": "54236aae",
   "metadata": {},
   "outputs": [
    {
     "name": "stdout",
     "output_type": "stream",
     "text": [
      "1 -6\n"
     ]
    }
   ],
   "source": [
    "print(pt.x, pt.y)"
   ]
  },
  {
   "cell_type": "markdown",
   "id": "4c63f756",
   "metadata": {},
   "source": [
    "This helps create an object / class of type so that we can have values for different points. "
   ]
  },
  {
   "cell_type": "code",
   "execution_count": 46,
   "id": "d1ed6aab",
   "metadata": {},
   "outputs": [],
   "source": [
    "points = [Point(2,4), Point(-3,4), Point(1,-1), Point(-3,-5)]"
   ]
  },
  {
   "cell_type": "code",
   "execution_count": 47,
   "id": "b719fe0f",
   "metadata": {},
   "outputs": [
    {
     "name": "stdout",
     "output_type": "stream",
     "text": [
      "Point Point(x=2, y=4) is in the first quadrant\n",
      "PrintPoint(x=-3, y=4) is in the second quadrant\n",
      "Point Point(x=1, y=-1) is in the fourth quadrant\n",
      "PrintPoint(x=-3, y=-5) is in the third quadrant\n"
     ]
    }
   ],
   "source": [
    "for p in points: \n",
    "    if p.x > 0 and p.y > 0: \n",
    "        print(f\"Point {p} is in the first quadrant\")\n",
    "    if p.x > 0 and p.y < 0: \n",
    "        print(f\"Point {p} is in the fourth quadrant\")\n",
    "    if p.x < 0 and p.y > 0: \n",
    "        print(f\"Print{p} is in the second quadrant\")\n",
    "    if p.x < 0 and p.y < 0: \n",
    "        print(f\"Print{p} is in the third quadrant\")"
   ]
  },
  {
   "cell_type": "code",
   "execution_count": null,
   "id": "ba68784d",
   "metadata": {},
   "outputs": [],
   "source": []
  }
 ],
 "metadata": {
  "kernelspec": {
   "display_name": "Python 3 (ipykernel)",
   "language": "python",
   "name": "python3"
  },
  "language_info": {
   "codemirror_mode": {
    "name": "ipython",
    "version": 3
   },
   "file_extension": ".py",
   "mimetype": "text/x-python",
   "name": "python",
   "nbconvert_exporter": "python",
   "pygments_lexer": "ipython3",
   "version": "3.11.3"
  }
 },
 "nbformat": 4,
 "nbformat_minor": 5
}
