{
 "cells": [
  {
   "attachments": {},
   "cell_type": "markdown",
   "id": "5054d45a",
   "metadata": {},
   "source": [
    "## Itertools\n",
    "1. Product \n",
    "2. permutations\n",
    "3. combinations \n",
    "4. accumulate \n",
    "5. group by \n",
    "6. infinite iterator "
   ]
  },
  {
   "cell_type": "code",
   "execution_count": 9,
   "id": "68bd18a5",
   "metadata": {},
   "outputs": [],
   "source": [
    "from itertools import product\n"
   ]
  },
  {
   "cell_type": "code",
   "execution_count": 10,
   "id": "3e5cee08",
   "metadata": {},
   "outputs": [
    {
     "name": "stdout",
     "output_type": "stream",
     "text": [
      "[(1, 3), (1, 4), (2, 3), (2, 4)]\n"
     ]
    }
   ],
   "source": [
    "a = [1,2]\n",
    "b = [3,4]\n",
    "\n",
    "prod = product(a,b)  # cartesan product \n",
    "print(list(prod))"
   ]
  },
  {
   "cell_type": "code",
   "execution_count": 11,
   "id": "4a8a3c66",
   "metadata": {},
   "outputs": [
    {
     "name": "stdout",
     "output_type": "stream",
     "text": [
      "[(1, 3, 1, 3), (1, 3, 2, 3), (2, 3, 1, 3), (2, 3, 2, 3)]\n"
     ]
    }
   ],
   "source": [
    "b = [3]\n",
    "prod = product(a,b, repeat=2)\n",
    "\n",
    "print(list(prod))"
   ]
  },
  {
   "cell_type": "code",
   "execution_count": 12,
   "id": "9cb9826b",
   "metadata": {},
   "outputs": [],
   "source": [
    "from itertools import permutations"
   ]
  },
  {
   "cell_type": "code",
   "execution_count": 13,
   "id": "77d6d2c4",
   "metadata": {},
   "outputs": [
    {
     "name": "stdout",
     "output_type": "stream",
     "text": [
      "[(1, 2, 3), (1, 3, 2), (2, 1, 3), (2, 3, 1), (3, 1, 2), (3, 2, 1)]\n",
      "[(1, 2), (1, 3), (2, 1), (2, 3), (3, 1), (3, 2)]\n"
     ]
    }
   ],
   "source": [
    "a = [1,2,3]\n",
    "per = permutations(a)\n",
    "per2 = permutations(a,2)\n",
    "\n",
    "print(list(per))\n",
    "print(list(per2))"
   ]
  },
  {
   "cell_type": "code",
   "execution_count": 14,
   "id": "4cf78a00",
   "metadata": {},
   "outputs": [],
   "source": [
    "from itertools import combinations, combinations_with_replacement"
   ]
  },
  {
   "cell_type": "code",
   "execution_count": 15,
   "id": "28ab6a12",
   "metadata": {},
   "outputs": [
    {
     "name": "stdout",
     "output_type": "stream",
     "text": [
      "[(1, 2, 3), (1, 2, 4), (1, 3, 4), (2, 3, 4)]\n",
      "[(1, 1), (1, 2), (1, 3), (1, 4), (2, 2), (2, 3), (2, 4), (3, 3), (3, 4), (4, 4)]\n"
     ]
    }
   ],
   "source": [
    "a = [1,2,3,4]\n",
    "com = combinations(a,3)\n",
    "print(list(com))\n",
    "\n",
    "com2 = combinations_with_replacement(a, 2) # repeats vaules. \n",
    "print(list(com2))"
   ]
  },
  {
   "cell_type": "code",
   "execution_count": 16,
   "id": "c2f1d83f",
   "metadata": {},
   "outputs": [],
   "source": [
    "from itertools import accumulate\n",
    "import operator\n"
   ]
  },
  {
   "cell_type": "code",
   "execution_count": 17,
   "id": "b20256ce",
   "metadata": {},
   "outputs": [
    {
     "name": "stdout",
     "output_type": "stream",
     "text": [
      "[1, 2, 3, 4]\n",
      "[1, 3, 6, 10]\n"
     ]
    }
   ],
   "source": [
    "a = [1,2,3,4]\n",
    "print(a)\n",
    "ac = accumulate(a)   # adds cummulatively as it goes down the list.\n",
    "\n",
    "print(list(ac))"
   ]
  },
  {
   "cell_type": "code",
   "execution_count": 18,
   "id": "d15ae3fb",
   "metadata": {},
   "outputs": [
    {
     "name": "stdout",
     "output_type": "stream",
     "text": [
      "[1, 2, 3, 4]\n",
      "[1, 2, 6, 24]\n"
     ]
    }
   ],
   "source": [
    "print(a)\n",
    "am = accumulate(a,operator.mul)\n",
    "print(list(am))"
   ]
  },
  {
   "cell_type": "code",
   "execution_count": 19,
   "id": "363fc9e3",
   "metadata": {},
   "outputs": [
    {
     "name": "stdout",
     "output_type": "stream",
     "text": [
      "[1, 2, 3, 4]\n",
      "[]\n"
     ]
    }
   ],
   "source": [
    "print(a)\n",
    "asub = accumulate(a, operator.sub)\n",
    "print(list(am))"
   ]
  },
  {
   "cell_type": "code",
   "execution_count": 20,
   "id": "5be72588",
   "metadata": {},
   "outputs": [
    {
     "name": "stdout",
     "output_type": "stream",
     "text": [
      "[4, 2, 3, 1, 5]\n",
      "[4, 4, 4, 4, 5]\n"
     ]
    }
   ],
   "source": [
    "b = [4,2,3,1,5]\n",
    "print(b)\n",
    "amax = accumulate(b, func=max)\n",
    "print(list(amax))"
   ]
  },
  {
   "cell_type": "code",
   "execution_count": 21,
   "id": "e4689d6f",
   "metadata": {},
   "outputs": [],
   "source": [
    "from itertools import groupby"
   ]
  },
  {
   "cell_type": "code",
   "execution_count": 22,
   "id": "4721f0aa",
   "metadata": {},
   "outputs": [
    {
     "name": "stdout",
     "output_type": "stream",
     "text": [
      "[1, 2, 3, 4]\n",
      "True [1, 2]\n",
      "False [3, 4]\n"
     ]
    }
   ],
   "source": [
    "\n",
    "print(a)\n",
    "def smaller_than_3(x): \n",
    "    return x < 3\n",
    "\n",
    "gr = groupby(a, key=smaller_than_3)\n",
    "\n",
    "for key, value in gr: \n",
    "    print(key, list(value))"
   ]
  },
  {
   "cell_type": "code",
   "execution_count": 23,
   "id": "0ee44d2d",
   "metadata": {},
   "outputs": [
    {
     "name": "stdout",
     "output_type": "stream",
     "text": [
      "29 [{'name': 'Tim', 'age': 29}, {'name': 'Ritesh', 'age': 29}]\n",
      "33 [{'name': 'Snyder', 'age': 33}]\n",
      "29 [{'name': 'Henry', 'age': 29}]\n"
     ]
    }
   ],
   "source": [
    "persons = [\n",
    "    {\"name\": \"Tim\", \"age\": 29}, \n",
    "    {\"name\": \"Ritesh\", \"age\": 29}, \n",
    "    {\"name\": \"Snyder\", \"age\": 33}, \n",
    "    {\"name\": \"Henry\", \"age\": 29} \n",
    "]\n",
    "\n",
    "gr = groupby (persons, key=lambda x: x['age'])\n",
    "for key, value in gr: \n",
    "    print(key,list(value))"
   ]
  },
  {
   "cell_type": "code",
   "execution_count": 24,
   "id": "6057de45",
   "metadata": {},
   "outputs": [],
   "source": [
    "from itertools import count, cycle, repeat"
   ]
  },
  {
   "cell_type": "code",
   "execution_count": 26,
   "id": "ad69af19",
   "metadata": {},
   "outputs": [
    {
     "name": "stdout",
     "output_type": "stream",
     "text": [
      "10\n",
      "11\n",
      "12\n",
      "13\n",
      "14\n",
      "15\n",
      "16\n"
     ]
    }
   ],
   "source": [
    "for x in count(10):    # will create a infinite loop until it is broken by a condition. \n",
    "    print(x)\n",
    "    if x > 15: \n",
    "        break"
   ]
  },
  {
   "cell_type": "code",
   "execution_count": 29,
   "id": "48c6392d",
   "metadata": {},
   "outputs": [
    {
     "name": "stdout",
     "output_type": "stream",
     "text": [
      "1\n",
      "2\n",
      "3\n",
      "4\n",
      "1\n",
      "2\n",
      "3\n",
      "4\n",
      "1\n",
      "2\n"
     ]
    }
   ],
   "source": [
    "c = 0\n",
    "for x in cycle(a): \n",
    "    c += 1\n",
    "    print(x)\n",
    "    if c >= 10: \n",
    "        break"
   ]
  },
  {
   "cell_type": "code",
   "execution_count": 34,
   "id": "353a1aba",
   "metadata": {},
   "outputs": [
    {
     "name": "stdout",
     "output_type": "stream",
     "text": [
      "[1, 2, 3, 4]\n",
      "[1, 2, 3, 4]\n",
      "[1, 2, 3, 4]\n"
     ]
    }
   ],
   "source": [
    "i = 0 \n",
    "for x in repeat(a, 3): \n",
    "    i +=1 \n",
    "    print(x)"
   ]
  },
  {
   "cell_type": "code",
   "execution_count": null,
   "id": "bd95ed12",
   "metadata": {},
   "outputs": [],
   "source": []
  }
 ],
 "metadata": {
  "kernelspec": {
   "display_name": "pylearn",
   "language": "python",
   "name": "python3"
  },
  "language_info": {
   "codemirror_mode": {
    "name": "ipython",
    "version": 3
   },
   "file_extension": ".py",
   "mimetype": "text/x-python",
   "name": "python",
   "nbconvert_exporter": "python",
   "pygments_lexer": "ipython3",
   "version": "3.11.3"
  }
 },
 "nbformat": 4,
 "nbformat_minor": 5
}
