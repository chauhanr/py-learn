{
 "cells": [
  {
   "cell_type": "code",
   "execution_count": 1,
   "id": "9160caae",
   "metadata": {},
   "outputs": [
    {
     "name": "stdout",
     "output_type": "stream",
     "text": [
      "Tuple: ('ritesh', 35, 'Noida') type: <class 'tuple'>\n"
     ]
    }
   ],
   "source": [
    "t = (\"ritesh\", 35, \"Noida\")\n",
    "print(f\"Tuple: {t} type: {type(t)}\")"
   ]
  },
  {
   "cell_type": "code",
   "execution_count": 3,
   "id": "55502db1",
   "metadata": {},
   "outputs": [
    {
     "name": "stdout",
     "output_type": "stream",
     "text": [
      "ritesh\n",
      "35\n",
      "Noida\n"
     ]
    }
   ],
   "source": [
    "# iterate \n",
    "for x in t: \n",
    "    print(x)"
   ]
  },
  {
   "cell_type": "code",
   "execution_count": 5,
   "id": "bf112826",
   "metadata": {},
   "outputs": [
    {
     "name": "stdout",
     "output_type": "stream",
     "text": [
      "(3, 4, 5)\n"
     ]
    }
   ],
   "source": [
    "a = (1,2,3,4,5,6)\n",
    "b = a[2:5]\n",
    "\n",
    "print(b)"
   ]
  },
  {
   "cell_type": "code",
   "execution_count": 6,
   "id": "9d3e85a0",
   "metadata": {},
   "outputs": [
    {
     "name": "stdout",
     "output_type": "stream",
     "text": [
      "(1, 3, 5)\n"
     ]
    }
   ],
   "source": [
    "# print every second number \n",
    "print(a[::2])"
   ]
  },
  {
   "cell_type": "code",
   "execution_count": 7,
   "id": "7a37f0bb",
   "metadata": {},
   "outputs": [
    {
     "name": "stdout",
     "output_type": "stream",
     "text": [
      "(6, 5, 4, 3, 2, 1)\n"
     ]
    }
   ],
   "source": [
    "# reverse the tuple \n",
    "print(a[::-1])"
   ]
  },
  {
   "cell_type": "code",
   "execution_count": null,
   "id": "fa46a106",
   "metadata": {},
   "outputs": [],
   "source": [
    "# Tuples are faster than lists in instnatiation and iteration. as well as space \n",
    "tu = (1,2,3,4)\n",
    "ls = [1,2,3,4]\n",
    "print(f\"List size {sys.getsizeof(tu)} \")"
   ]
  }
 ],
 "metadata": {
  "kernelspec": {
   "display_name": "Python 3 (ipykernel)",
   "language": "python",
   "name": "python3"
  },
  "language_info": {
   "codemirror_mode": {
    "name": "ipython",
    "version": 3
   },
   "file_extension": ".py",
   "mimetype": "text/x-python",
   "name": "python",
   "nbconvert_exporter": "python",
   "pygments_lexer": "ipython3",
   "version": "3.11.3"
  }
 },
 "nbformat": 4,
 "nbformat_minor": 5
}
