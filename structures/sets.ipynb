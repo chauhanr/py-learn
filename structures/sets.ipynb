{
 "cells": [
  {
   "cell_type": "code",
   "execution_count": 1,
   "id": "04ea405b",
   "metadata": {},
   "outputs": [
    {
     "name": "stdout",
     "output_type": "stream",
     "text": [
      "{1, 2, 3}\n"
     ]
    }
   ],
   "source": [
    "# declared with {} \n",
    "myset = {1,2,3,1,2}\n",
    "print(myset)"
   ]
  },
  {
   "cell_type": "code",
   "execution_count": 4,
   "id": "e80238b7",
   "metadata": {},
   "outputs": [
    {
     "data": {
      "text/plain": [
       "5"
      ]
     },
     "execution_count": 4,
     "metadata": {},
     "output_type": "execute_result"
    }
   ],
   "source": [
    "mylanset = set(\"Saleem\")\n",
    "len(mylanset)"
   ]
  },
  {
   "cell_type": "code",
   "execution_count": 5,
   "id": "830be8d3",
   "metadata": {},
   "outputs": [
    {
     "name": "stdout",
     "output_type": "stream",
     "text": [
      "{'Ritesh', 'Shweta'}\n"
     ]
    }
   ],
   "source": [
    "myset = set()\n",
    "myset.add(\"Ritesh\")\n",
    "myset.add(\"Shweta\")\n",
    "myset.add(\"Ritesh\")\n",
    "\n",
    "print(myset)"
   ]
  },
  {
   "cell_type": "code",
   "execution_count": 6,
   "id": "5bc3ca33",
   "metadata": {},
   "outputs": [],
   "source": [
    "# clear the set using the clear() method on the set. "
   ]
  },
  {
   "cell_type": "code",
   "execution_count": 7,
   "id": "71a679df",
   "metadata": {},
   "outputs": [
    {
     "name": "stdout",
     "output_type": "stream",
     "text": [
      "Ritesh\n",
      "Shweta\n"
     ]
    }
   ],
   "source": [
    "# Loop the set \n",
    "for x in myset: \n",
    "    print(x)"
   ]
  },
  {
   "cell_type": "code",
   "execution_count": 8,
   "id": "e2fdef55",
   "metadata": {},
   "outputs": [
    {
     "name": "stdout",
     "output_type": "stream",
     "text": [
      "Yes\n"
     ]
    }
   ],
   "source": [
    "if \"Ritesh\" in myset: \n",
    "    print(\"Yes\")\n",
    "else: \n",
    "    print(\"Element not present\")"
   ]
  },
  {
   "cell_type": "markdown",
   "id": "9c14681c",
   "metadata": {},
   "source": [
    "## Union "
   ]
  },
  {
   "cell_type": "code",
   "execution_count": 10,
   "id": "2b6faab4",
   "metadata": {},
   "outputs": [],
   "source": [
    "evens = {2,4,6,8,10}\n",
    "odds = {1,3,5,7,9}\n",
    "primes = {2,3,5,7}"
   ]
  },
  {
   "cell_type": "code",
   "execution_count": 11,
   "id": "15f2f950",
   "metadata": {},
   "outputs": [
    {
     "name": "stdout",
     "output_type": "stream",
     "text": [
      "{1, 2, 3, 4, 5, 6, 7, 8, 9, 10}\n"
     ]
    }
   ],
   "source": [
    "union = odds.union(evens)\n",
    "print(union)"
   ]
  },
  {
   "cell_type": "code",
   "execution_count": 14,
   "id": "72e2d0a4",
   "metadata": {},
   "outputs": [
    {
     "name": "stdout",
     "output_type": "stream",
     "text": [
      "{1, 2, 3, 4, 5, 6, 7, 8, 9, 10}\n"
     ]
    }
   ],
   "source": [
    "union = union.union(primes)\n",
    "print(union)"
   ]
  },
  {
   "cell_type": "code",
   "execution_count": 15,
   "id": "6556408e",
   "metadata": {},
   "outputs": [
    {
     "name": "stdout",
     "output_type": "stream",
     "text": [
      "{3, 5, 7}\n"
     ]
    }
   ],
   "source": [
    "i = odds.intersection(primes)\n",
    "print(i)"
   ]
  },
  {
   "cell_type": "code",
   "execution_count": 17,
   "id": "3889914c",
   "metadata": {},
   "outputs": [
    {
     "name": "stdout",
     "output_type": "stream",
     "text": [
      "set()\n"
     ]
    }
   ],
   "source": [
    "ioe = odds.intersection(evens)\n",
    "print(ioe)"
   ]
  },
  {
   "cell_type": "code",
   "execution_count": 18,
   "id": "c2a7db1b",
   "metadata": {},
   "outputs": [
    {
     "name": "stdout",
     "output_type": "stream",
     "text": [
      "{4, 5, 6, 7, 8}\n"
     ]
    }
   ],
   "source": [
    "## difference between 2 sets \n",
    "setA = {1,2,3,4,5,6,7,8}\n",
    "setB = {1,2,3,10,17,19}\n",
    "\n",
    "diff = setA.difference(setB)\n",
    "print(diff)"
   ]
  },
  {
   "cell_type": "code",
   "execution_count": 19,
   "id": "19624f87",
   "metadata": {},
   "outputs": [
    {
     "name": "stdout",
     "output_type": "stream",
     "text": [
      "{17, 10, 19}\n"
     ]
    }
   ],
   "source": [
    "diffb = setB.difference(setA)\n",
    "print(diffb)"
   ]
  },
  {
   "cell_type": "code",
   "execution_count": 23,
   "id": "dfc7037e",
   "metadata": {},
   "outputs": [],
   "source": [
    "# disjoint set \n",
    "\n",
    "def disjoint(a: set, b: set): \n",
    "    if a.isdisjoint(b): \n",
    "        print(f\"set {a} and set {b} are disjoint\")\n",
    "    else: \n",
    "        print(f\"set {a} and set {b} are not disjoint\")"
   ]
  },
  {
   "cell_type": "code",
   "execution_count": 25,
   "id": "110e3ff8",
   "metadata": {},
   "outputs": [
    {
     "name": "stdout",
     "output_type": "stream",
     "text": [
      "set {1, 3, 5, 7, 9} and set {2, 4, 6, 8, 10} are disjoint\n"
     ]
    }
   ],
   "source": [
    "disjoint(odds, evens)"
   ]
  },
  {
   "cell_type": "code",
   "execution_count": 27,
   "id": "61903ea6",
   "metadata": {},
   "outputs": [
    {
     "name": "stdout",
     "output_type": "stream",
     "text": [
      "set {2, 4, 6, 8, 10} and set {2, 3, 5, 7} are not disjoint\n"
     ]
    }
   ],
   "source": [
    "disjoint(evens, primes)"
   ]
  },
  {
   "cell_type": "code",
   "execution_count": 28,
   "id": "e7067841",
   "metadata": {},
   "outputs": [],
   "source": [
    "def superset(a: set, b: set): \n",
    "    if a.issuperset(b): \n",
    "        print(f\"set {a} is a superset of {b}\")\n",
    "    else: \n",
    "        print(f\"set{a} is not a superset of {b}\")"
   ]
  },
  {
   "cell_type": "code",
   "execution_count": 29,
   "id": "58036dc5",
   "metadata": {},
   "outputs": [
    {
     "name": "stdout",
     "output_type": "stream",
     "text": [
      "set{1, 3, 5, 7, 9} is not a superset of {2, 3, 5, 7}\n"
     ]
    }
   ],
   "source": [
    "superset(odds, primes)"
   ]
  },
  {
   "cell_type": "code",
   "execution_count": null,
   "id": "d0833deb",
   "metadata": {},
   "outputs": [],
   "source": []
  }
 ],
 "metadata": {
  "kernelspec": {
   "display_name": "Python 3 (ipykernel)",
   "language": "python",
   "name": "python3"
  },
  "language_info": {
   "codemirror_mode": {
    "name": "ipython",
    "version": 3
   },
   "file_extension": ".py",
   "mimetype": "text/x-python",
   "name": "python",
   "nbconvert_exporter": "python",
   "pygments_lexer": "ipython3",
   "version": "3.11.3"
  }
 },
 "nbformat": 4,
 "nbformat_minor": 5
}
