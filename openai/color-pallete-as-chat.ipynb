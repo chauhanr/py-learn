{
 "cells": [
  {
   "cell_type": "code",
   "execution_count": 1,
   "id": "06816baa",
   "metadata": {},
   "outputs": [],
   "source": [
    "import openai\n",
    "from dotenv import dotenv_values\n",
    "import json"
   ]
  },
  {
   "cell_type": "code",
   "execution_count": 2,
   "id": "2b37868b",
   "metadata": {},
   "outputs": [],
   "source": [
    "config = dotenv_values(\".env\")\n",
    "api_key = config[\"OPEN_AI_KEY\"]"
   ]
  },
  {
   "cell_type": "code",
   "execution_count": 3,
   "id": "72d7dee8",
   "metadata": {},
   "outputs": [],
   "source": [
    "deployment_name=\"chatgpt-instance\"\n",
    "openai.api_type=\"azure\"\n",
    "openai.api_key=api_key \n",
    "openai.api_base=\"https://r-azure-openai.openai.azure.com/\"\n",
    "openai.api_version=\"2023-03-15-preview\"  # https://learn.microsoft.com/en-us/azure/cognitive-services/openai/reference "
   ]
  },
  {
   "cell_type": "code",
   "execution_count": 4,
   "id": "9c609d9b",
   "metadata": {},
   "outputs": [],
   "source": [
    "from IPython.display import Markdown, display"
   ]
  },
  {
   "cell_type": "code",
   "execution_count": 5,
   "id": "abef3ceb",
   "metadata": {},
   "outputs": [],
   "source": [
    "def display_colors(colors): \n",
    "    display(Markdown(\" \".join(\n",
    "        f\"<span style= 'color: {color}'>{chr(9608)*4}</span>\"\n",
    "        for color in colors\n",
    "    \n",
    "    )))"
   ]
  },
  {
   "cell_type": "code",
   "execution_count": 10,
   "id": "ce68342a",
   "metadata": {},
   "outputs": [],
   "source": [
    "def get_render_colors(msg): \n",
    "    messages = [\n",
    "        {\"role\": \"system\", \"content\": \"You are a color pallete generating assistant that gives text prompts for color palletes. You should generate color palletes that fit the mood, theme or instructions in the prompt. The palletes must return between 2 to 8 colors only.\" }, \n",
    "        {\"role\": \"system\", \"content\": \"desired format: a single JSON array of hexademimal color codes only\"},\n",
    "        {\"role\": \"user\", \"content\": f\"Text: {msg}\"}\n",
    "    ]\n",
    "    \n",
    "    result=openai.ChatCompletion.create(\n",
    "       model= \"gpt-3.5-turbo\",\n",
    "       messages = messages,\n",
    "       engine=deployment_name\n",
    "    )\n",
    "    \n",
    "    clstr = result.choices[0].message.content\n",
    "    print(clstr)\n",
    "    clj = json.loads(clstr)\n",
    "    display_colors(clj)"
   ]
  },
  {
   "cell_type": "code",
   "execution_count": 15,
   "id": "177c56e3",
   "metadata": {},
   "outputs": [
    {
     "name": "stdout",
     "output_type": "stream",
     "text": [
      "[\"#F5A623\", \"#187FEF\", \"#F8E71C\", \"#8B572A\", \"#03DAC6\", \"#EB144C\"]\n"
     ]
    },
    {
     "data": {
      "text/markdown": [
       "<span style= 'color: #F5A623'>████</span> <span style= 'color: #187FEF'>████</span> <span style= 'color: #F8E71C'>████</span> <span style= 'color: #8B572A'>████</span> <span style= 'color: #03DAC6'>████</span> <span style= 'color: #EB144C'>████</span>"
      ],
      "text/plain": [
       "<IPython.core.display.Markdown object>"
      ]
     },
     "metadata": {},
     "output_type": "display_data"
    }
   ],
   "source": [
    "get_render_colors(\"United Colors of Benetton\")"
   ]
  },
  {
   "cell_type": "code",
   "execution_count": null,
   "id": "2d29a291",
   "metadata": {},
   "outputs": [],
   "source": []
  }
 ],
 "metadata": {
  "kernelspec": {
   "display_name": "Python 3 (ipykernel)",
   "language": "python",
   "name": "python3"
  },
  "language_info": {
   "codemirror_mode": {
    "name": "ipython",
    "version": 3
   },
   "file_extension": ".py",
   "mimetype": "text/x-python",
   "name": "python",
   "nbconvert_exporter": "python",
   "pygments_lexer": "ipython3",
   "version": "3.11.3"
  }
 },
 "nbformat": 4,
 "nbformat_minor": 5
}
