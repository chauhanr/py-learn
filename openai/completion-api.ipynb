{
 "cells": [
  {
   "cell_type": "code",
   "execution_count": 1,
   "id": "06816baa",
   "metadata": {},
   "outputs": [],
   "source": [
    "import openai\n",
    "from dotenv import dotenv_values"
   ]
  },
  {
   "cell_type": "code",
   "execution_count": 2,
   "id": "2b37868b",
   "metadata": {},
   "outputs": [],
   "source": [
    "config = dotenv_values(\".env\")\n",
    "api_key = config[\"OPEN_AI_KEY\"]"
   ]
  },
  {
   "cell_type": "code",
   "execution_count": 3,
   "id": "72d7dee8",
   "metadata": {},
   "outputs": [],
   "source": [
    "deployment_name=\"chatgpt-instance\"\n",
    "openai.api_type=\"azure\"\n",
    "openai.api_key=api_key \n",
    "openai.api_base=\"https://r-azure-openai.openai.azure.com/\"\n",
    "openai.api_version=\"2023-03-15-preview\"  # https://learn.microsoft.com/en-us/azure/cognitive-services/openai/reference "
   ]
  },
  {
   "cell_type": "code",
   "execution_count": 19,
   "id": "ce68342a",
   "metadata": {},
   "outputs": [
    {
     "data": {
      "text/plain": [
       "'1. Tokyo, Japan 2. Delhi, India 3. Shanghai, China 4. Sao Paulo, Brazil 5. Mumbai, India 6. Beijing, China 7. Osaka, Japan 8. Cairo, Egypt 9. New York-Newark, United States 10. Dhaka, Bangladesh\\n\\nThe top 10 most populated cities in the world are: 1. Tokyo, Japan 2. Delhi, India 3. Shanghai, China 4. Sao'"
      ]
     },
     "execution_count": 19,
     "metadata": {},
     "output_type": "execute_result"
    }
   ],
   "source": [
    "prompt = \"Top 10 most populated cities are: \"\n",
    "result=openai.Completion.create(\n",
    "   model= \"text-davinci-003\",\n",
    "   prompt= prompt,\n",
    "   engine=deployment_name,\n",
    "   temperature=0,\n",
    "   max_tokens=100\n",
    ")\n",
    "\n",
    "result.choices[0].text"
   ]
  },
  {
   "cell_type": "code",
   "execution_count": null,
   "id": "4e1060aa",
   "metadata": {},
   "outputs": [],
   "source": []
  }
 ],
 "metadata": {
  "kernelspec": {
   "display_name": "Python 3 (ipykernel)",
   "language": "python",
   "name": "python3"
  },
  "language_info": {
   "codemirror_mode": {
    "name": "ipython",
    "version": 3
   },
   "file_extension": ".py",
   "mimetype": "text/x-python",
   "name": "python",
   "nbconvert_exporter": "python",
   "pygments_lexer": "ipython3",
   "version": "3.11.3"
  }
 },
 "nbformat": 4,
 "nbformat_minor": 5
}
