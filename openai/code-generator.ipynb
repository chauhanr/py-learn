{
 "cells": [
  {
   "cell_type": "code",
   "execution_count": 1,
   "id": "b6624c3a",
   "metadata": {},
   "outputs": [],
   "source": [
    "import openai\n",
    "from dotenv import dotenv_values"
   ]
  },
  {
   "cell_type": "code",
   "execution_count": 2,
   "id": "32a2ede7",
   "metadata": {},
   "outputs": [],
   "source": [
    "config = dotenv_values(\".env\")\n",
    "api_key = config[\"OPEN_AI_KEY\"]"
   ]
  },
  {
   "cell_type": "code",
   "execution_count": 3,
   "id": "02e4d2cd",
   "metadata": {},
   "outputs": [],
   "source": [
    "deployment_name=\"chatgpt-instance\"\n",
    "openai.api_type=\"azure\"\n",
    "openai.api_key=api_key \n",
    "openai.api_base=\"https://r-azure-openai.openai.azure.com/\"\n",
    "openai.api_version=\"2023-03-15-preview\"  # https://learn.microsoft.com/en-us/azure/cognitive-services/openai/reference "
   ]
  },
  {
   "cell_type": "code",
   "execution_count": 4,
   "id": "3d800802",
   "metadata": {},
   "outputs": [
    {
     "name": "stdout",
     "output_type": "stream",
     "text": [
      "Here's an example of a Java function that performs a depth-first search using classes:\n",
      "\n",
      "```\n",
      "public class Graph {\n",
      "    private int V; // number of vertices\n",
      "    private LinkedList<Integer>[] adj; // adjacency list for the graph\n",
      "\n",
      "    // constructor\n",
      "    public Graph(int V) {\n",
      "        this.V = V;\n",
      "        adj = new LinkedList[V];\n",
      "        for (int i = 0; i < V; i++) {\n",
      "            adj[i] = new LinkedList<Integer>();\n",
      "        }\n",
      "    }\n",
      "\n",
      "    // add an edge to the graph\n",
      "    public void addEdge(int v, int w) {\n",
      "        adj[v].add(w); // add w to v's adjacency list\n",
      "    }\n",
      "\n",
      "    // perform a depth-first search on the graph\n",
      "    public void DFS(int v, boolean[] visited) {\n",
      "        visited[v] = true; // mark the current node as visited\n",
      "        System.out.print(v + \" \");\n",
      "\n",
      "        // recursively traverse all the neighbors of the current node\n",
      "        Iterator<Integer> i = adj[v].listIterator();\n",
      "        while (i.hasNext()) {\n",
      "            int n = i.next();\n",
      "            if (!visited[n]) {\n",
      "                DFS(n, visited);\n",
      "            }\n",
      "        }\n",
      "    }\n",
      "\n",
      "    // wrapper function for DFS\n",
      "    public void depthFirstSearch(int v) {\n",
      "        boolean[] visited = new boolean[V];\n",
      "        DFS(v, visited);\n",
      "    }\n",
      "}\n",
      "```\n",
      "\n",
      "Explanation:\n",
      "\n",
      "The `Graph` class represents a graph with `V` vertices. The `adj` instance variable is an array of `LinkedList` objects that stores the adjacency list of each vertex. The `addEdge` method adds an edge between two vertices `v` and `w`.\n",
      "\n",
      "The `DFS` method performs a depth-first search starting from a given vertex `v`. It takes an array `visited` that tracks which nodes have been visited. It marks the current node `v` as visited, prints its value, and then recursively traverses all of its neighbors that haven't been visited yet.\n",
      "\n",
      "The `depthFirstSearch` method is a wrapper function that initializes the `visited` array and calls the `DFS` method on the starting vertex. To use this class to perform a depth-first search on a graph, simply create a `Graph` object, add edges using the `addEdge` method, and call the `depthFirstSearch` method with the starting vertex as the parameter.\n"
     ]
    }
   ],
   "source": [
    "messages = [{\"role\": \"user\", \"content\": \"Write a java function that does a depth first search with classes\"}]\n",
    "\n",
    "result=openai.ChatCompletion.create(\n",
    "   model= \"gpt-3.5-turbo\", # from a pricing perspective the gpt-3.5 model is very cheap \n",
    "   messages=messages,\n",
    "   engine=deployment_name\n",
    ")\n",
    "\n",
    "print(result.choices[0].message.content)"
   ]
  },
  {
   "cell_type": "code",
   "execution_count": null,
   "id": "60a2db2e",
   "metadata": {},
   "outputs": [],
   "source": []
  }
 ],
 "metadata": {
  "kernelspec": {
   "display_name": "Python 3",
   "language": "python",
   "name": "python3"
  },
  "language_info": {
   "codemirror_mode": {
    "name": "ipython",
    "version": 3
   },
   "file_extension": ".py",
   "mimetype": "text/x-python",
   "name": "python",
   "nbconvert_exporter": "python",
   "pygments_lexer": "ipython3",
   "version": "3.11.4"
  },
  "vscode": {
   "interpreter": {
    "hash": "53eaf74eb998b12337111958905a6009a8e81f388bba26a9e5f00dbd7a77d5c7"
   }
  }
 },
 "nbformat": 4,
 "nbformat_minor": 5
}
