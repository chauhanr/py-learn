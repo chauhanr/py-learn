{
 "cells": [
  {
   "cell_type": "code",
   "execution_count": 2,
   "id": "b6624c3a",
   "metadata": {},
   "outputs": [],
   "source": [
    "import openai\n",
    "from dotenv import dotenv_values"
   ]
  },
  {
   "cell_type": "code",
   "execution_count": 3,
   "id": "32a2ede7",
   "metadata": {},
   "outputs": [],
   "source": [
    "config = dotenv_values(\".env\")\n",
    "api_key = config[\"OPEN_AI_KEY\"]"
   ]
  },
  {
   "cell_type": "code",
   "execution_count": 4,
   "id": "02e4d2cd",
   "metadata": {},
   "outputs": [],
   "source": [
    "deployment_name=\"chatgpt-instance\"\n",
    "openai.api_type=\"azure\"\n",
    "openai.api_key=api_key \n",
    "openai.api_base=\"https://r-azure-openai.openai.azure.com/\"\n",
    "openai.api_version=\"2023-03-15-preview\"  # https://learn.microsoft.com/en-us/azure/cognitive-services/openai/reference "
   ]
  },
  {
   "cell_type": "code",
   "execution_count": 9,
   "id": "3d800802",
   "metadata": {},
   "outputs": [
    {
     "name": "stdout",
     "output_type": "stream",
     "text": [
      "Here is an example implementation of a depth-first search algorithm using classes in Java:\n",
      "\n",
      "```\n",
      "public class Graph {\n",
      "    private int V; // number of vertices\n",
      "    private LinkedList<Integer>[] adj; // adjacency list\n",
      "  \n",
      "    // constructor\n",
      "    Graph(int v) {\n",
      "        V = v;\n",
      "        adj = new LinkedList[v];\n",
      "        for (int i=0; i<v; ++i)\n",
      "            adj[i] = new LinkedList();\n",
      "    }\n",
      "  \n",
      "    // add an edge to the graph\n",
      "    void addEdge(int v, int w) {\n",
      "        adj[v].add(w); // add w to v's adjacency list\n",
      "    }\n",
      "  \n",
      "    // DFS traversal of the vertices\n",
      "    void DFSUtil(int v, boolean[] visited) {\n",
      "        // mark the current node as visited and print it\n",
      "        visited[v] = true;\n",
      "        System.out.print(v+\" \");\n",
      "  \n",
      "        // recursively visit all adjacent vertices\n",
      "        Iterator<Integer> i = adj[v].listIterator();\n",
      "        while (i.hasNext()) {\n",
      "            int n = i.next();\n",
      "            if (!visited[n])\n",
      "                DFSUtil(n, visited);\n",
      "        }\n",
      "    }\n",
      "  \n",
      "    // perform DFS traversal of the whole graph\n",
      "    void DFS() {\n",
      "        boolean[] visited = new boolean[V];\n",
      "        for (int i=0; i<V; ++i)\n",
      "            if (!visited[i])\n",
      "                DFSUtil(i, visited);\n",
      "    }\n",
      "}\n",
      "```\n",
      "\n",
      "This implementation defines a `Graph` class with an adjacency list representation. The `DFS` method performs a depth-first search traversal of the graph by calling the `DFSUtil` method with each unvisited vertex as the starting point. The `DFSUtil` method marks each visited vertex, prints its value, and recursively visits all of its adjacent vertices.\n",
      "\n",
      "You can use this class to perform DFS on any graph by creating a new `Graph` instance, adding edges with the `addEdge` method, and calling the `DFS` method.\n"
     ]
    }
   ],
   "source": [
    "messages = [{\"role\": \"user\", \"content\": \"Write a java function that does a depth first search with classes\"}]\n",
    "\n",
    "result=openai.ChatCompletion.create(\n",
    "   model= \"gpt-3.5-turbo\", # from a pricing perspective the gpt-3.5 model is very cheap \n",
    "   messages=messages,\n",
    "   engine=deployment_name\n",
    ")\n",
    "\n",
    "print(result.choices[0].message.content)"
   ]
  },
  {
   "cell_type": "code",
   "execution_count": null,
   "id": "60a2db2e",
   "metadata": {},
   "outputs": [],
   "source": []
  }
 ],
 "metadata": {
  "kernelspec": {
   "display_name": "Python 3 (ipykernel)",
   "language": "python",
   "name": "python3"
  },
  "language_info": {
   "codemirror_mode": {
    "name": "ipython",
    "version": 3
   },
   "file_extension": ".py",
   "mimetype": "text/x-python",
   "name": "python",
   "nbconvert_exporter": "python",
   "pygments_lexer": "ipython3",
   "version": "3.11.3"
  }
 },
 "nbformat": 4,
 "nbformat_minor": 5
}
