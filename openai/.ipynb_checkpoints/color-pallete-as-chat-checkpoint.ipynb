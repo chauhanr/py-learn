{
 "cells": [
  {
   "cell_type": "code",
   "execution_count": 1,
   "id": "06816baa",
   "metadata": {},
   "outputs": [],
   "source": [
    "import openai\n",
    "from dotenv import dotenv_values\n",
    "import json"
   ]
  },
  {
   "cell_type": "code",
   "execution_count": 2,
   "id": "2b37868b",
   "metadata": {},
   "outputs": [],
   "source": [
    "config = dotenv_values(\".env\")\n",
    "api_key = config[\"OPEN_AI_KEY\"]"
   ]
  },
  {
   "cell_type": "code",
   "execution_count": 3,
   "id": "72d7dee8",
   "metadata": {},
   "outputs": [],
   "source": [
    "deployment_name=\"chatgpt-instance\"\n",
    "openai.api_type=\"azure\"\n",
    "openai.api_key=api_key \n",
    "openai.api_base=\"https://r-azure-openai.openai.azure.com/\"\n",
    "openai.api_version=\"2023-03-15-preview\"  # https://learn.microsoft.com/en-us/azure/cognitive-services/openai/reference "
   ]
  },
  {
   "cell_type": "code",
   "execution_count": 4,
   "id": "9c609d9b",
   "metadata": {},
   "outputs": [],
   "source": [
    "from IPython.display import Markdown, display"
   ]
  },
  {
   "cell_type": "code",
   "execution_count": 5,
   "id": "abef3ceb",
   "metadata": {},
   "outputs": [],
   "source": [
    "def display_colors(colors): \n",
    "    display(Markdown(\" \".join(\n",
    "        f\"<span style= 'color: {color}'>{chr(9608)*4}</span>\"\n",
    "        for color in colors\n",
    "    \n",
    "    )))"
   ]
  },
  {
   "cell_type": "code",
   "execution_count": 10,
   "id": "ce68342a",
   "metadata": {},
   "outputs": [],
   "source": [
    "def get_render_colors(msg): \n",
    "    prompt = f\"\"\"\n",
    "      You are a color pallete generating assistant that gives text prompts for color palletes. \n",
    "      You should generate color palletes that fit the mood, theme or instructions in the prompt. \n",
    "      The palletes must return between 2 to 8 colors only.\n",
    "\n",
    "      Desired Format: A JSON array of hexademinal color codes without newline characters\n",
    "      Text: {msg}\n",
    "      Result: \n",
    "\n",
    "    \"\"\"\n",
    "    result=openai.Completion.create(\n",
    "       model= \"text-davinci-003\",\n",
    "       prompt= prompt,\n",
    "       engine=deployment_name,\n",
    "       temperature=0,\n",
    "       max_tokens=60,\n",
    "       stop=\"]\"\n",
    "    )\n",
    "    cl = (result.choices[0].text+\"]\").strip(\" ```json\\n   \")\n",
    "    cl = json.loads(\"\".join(cl.split('\\n')))\n",
    "    display_colors(cl)"
   ]
  },
  {
   "cell_type": "code",
   "execution_count": 14,
   "id": "d3c88162",
   "metadata": {},
   "outputs": [
    {
     "data": {
      "text/markdown": [
       "<span style= 'color: #FFC312'>████</span> <span style= 'color: #C4E538'>████</span> <span style= 'color: #12CBC4'>████</span> <span style= 'color: #FDA7DF'>████</span> <span style= 'color: #ED4C67'>████</span>"
      ],
      "text/plain": [
       "<IPython.core.display.Markdown object>"
      ]
     },
     "metadata": {},
     "output_type": "display_data"
    }
   ],
   "source": [
    "get_render_colors(\"A beautiful sunset\")"
   ]
  },
  {
   "cell_type": "code",
   "execution_count": 18,
   "id": "0c131af1",
   "metadata": {},
   "outputs": [
    {
     "data": {
      "text/markdown": [
       "<span style= 'color: #FFA500'>████</span> <span style= 'color: #FFD700'>████</span> <span style= 'color: #8B0000'>████</span> <span style= 'color: #FF8C00'>████</span> <span style= 'color: #D2691E'>████</span>"
      ],
      "text/plain": [
       "<IPython.core.display.Markdown object>"
      ]
     },
     "metadata": {},
     "output_type": "display_data"
    }
   ],
   "source": [
    "get_render_colors(\"Thanksgiving colors\")"
   ]
  },
  {
   "cell_type": "code",
   "execution_count": 22,
   "id": "25d312d4",
   "metadata": {},
   "outputs": [
    {
     "data": {
      "text/markdown": [
       "<span style= 'color: #0055A4'>████</span> <span style= 'color: #FFFFFF'>████</span> <span style= 'color: #EF4135'>████</span>"
      ],
      "text/plain": [
       "<IPython.core.display.Markdown object>"
      ]
     },
     "metadata": {},
     "output_type": "display_data"
    }
   ],
   "source": [
    "get_render_colors(\"colors of the French flag\")"
   ]
  },
  {
   "cell_type": "code",
   "execution_count": null,
   "id": "4be0a58c",
   "metadata": {},
   "outputs": [],
   "source": []
  }
 ],
 "metadata": {
  "kernelspec": {
   "display_name": "Python 3 (ipykernel)",
   "language": "python",
   "name": "python3"
  },
  "language_info": {
   "codemirror_mode": {
    "name": "ipython",
    "version": 3
   },
   "file_extension": ".py",
   "mimetype": "text/x-python",
   "name": "python",
   "nbconvert_exporter": "python",
   "pygments_lexer": "ipython3",
   "version": "3.11.3"
  }
 },
 "nbformat": 4,
 "nbformat_minor": 5
}
