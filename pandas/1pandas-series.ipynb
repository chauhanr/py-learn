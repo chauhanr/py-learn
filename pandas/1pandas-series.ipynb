{
 "cells": [
  {
   "cell_type": "code",
   "execution_count": 2,
   "id": "2eff204a",
   "metadata": {},
   "outputs": [],
   "source": [
    "import pandas as pd\n",
    "import numpy as np"
   ]
  },
  {
   "cell_type": "code",
   "execution_count": 6,
   "id": "f1df8728",
   "metadata": {},
   "outputs": [],
   "source": [
    "labels=['a','b','c']\n",
    "mdata = [10,20,30]\n",
    "narr = np.array(data)\n",
    "d = {'a': 10, 'b': 20, 'c':30}"
   ]
  },
  {
   "cell_type": "markdown",
   "id": "15803108",
   "metadata": {},
   "source": [
    "### Creating Series"
   ]
  },
  {
   "cell_type": "code",
   "execution_count": 8,
   "id": "21c1b0f4",
   "metadata": {},
   "outputs": [
    {
     "data": {
      "text/plain": [
       "a    10\n",
       "b    20\n",
       "c    30\n",
       "dtype: int64"
      ]
     },
     "execution_count": 8,
     "metadata": {},
     "output_type": "execute_result"
    }
   ],
   "source": [
    "pd.Series(data=mdata, index=labels) # normal list and label series"
   ]
  },
  {
   "cell_type": "code",
   "execution_count": 9,
   "id": "3d82eae4",
   "metadata": {},
   "outputs": [
    {
     "data": {
      "text/plain": [
       "a    10\n",
       "b    20\n",
       "c    30\n",
       "dtype: int32"
      ]
     },
     "execution_count": 9,
     "metadata": {},
     "output_type": "execute_result"
    }
   ],
   "source": [
    "pd.Series(narr, labels) # using numpy array and label array"
   ]
  },
  {
   "cell_type": "code",
   "execution_count": 10,
   "id": "ff5117eb",
   "metadata": {},
   "outputs": [
    {
     "data": {
      "text/plain": [
       "a    10\n",
       "b    20\n",
       "c    30\n",
       "dtype: int64"
      ]
     },
     "execution_count": 10,
     "metadata": {},
     "output_type": "execute_result"
    }
   ],
   "source": [
    "pd.Series(d)  # using a dictionary "
   ]
  },
  {
   "cell_type": "code",
   "execution_count": 13,
   "id": "d9297515",
   "metadata": {},
   "outputs": [
    {
     "data": {
      "text/plain": [
       "0    a\n",
       "1    b\n",
       "2    c\n",
       "dtype: object"
      ]
     },
     "execution_count": 13,
     "metadata": {},
     "output_type": "execute_result"
    }
   ],
   "source": [
    "pd.Series(data=labels)  # pd series can store a variety of objects or data types. Not possible numpy arrays. "
   ]
  },
  {
   "cell_type": "code",
   "execution_count": 14,
   "id": "ed4b99b9",
   "metadata": {},
   "outputs": [
    {
     "data": {
      "text/plain": [
       "0      <built-in function sum>\n",
       "1    <built-in function print>\n",
       "2      <built-in function len>\n",
       "dtype: object"
      ]
     },
     "execution_count": 14,
     "metadata": {},
     "output_type": "execute_result"
    }
   ],
   "source": [
    "pd.Series(data=[sum,print,len])"
   ]
  },
  {
   "cell_type": "code",
   "execution_count": 16,
   "id": "96006e12",
   "metadata": {},
   "outputs": [],
   "source": [
    "# using series\n",
    "ser = pd.Series([1,2,3,4], ['USA', 'Germany', 'Japan', 'USSR'])"
   ]
  },
  {
   "cell_type": "code",
   "execution_count": 17,
   "id": "e124edeb",
   "metadata": {},
   "outputs": [
    {
     "data": {
      "text/plain": [
       "USA        1\n",
       "Germany    2\n",
       "Japan      3\n",
       "USSR       4\n",
       "dtype: int64"
      ]
     },
     "execution_count": 17,
     "metadata": {},
     "output_type": "execute_result"
    }
   ],
   "source": [
    "ser"
   ]
  },
  {
   "cell_type": "code",
   "execution_count": 18,
   "id": "bd4973e7",
   "metadata": {},
   "outputs": [
    {
     "data": {
      "text/plain": [
       "1"
      ]
     },
     "execution_count": 18,
     "metadata": {},
     "output_type": "execute_result"
    }
   ],
   "source": [
    "ser['USA'] # access it as a dictionary"
   ]
  },
  {
   "cell_type": "code",
   "execution_count": null,
   "id": "e8c6674c",
   "metadata": {},
   "outputs": [],
   "source": [
    "# the data frame is the work horse of the pandas library - Series are used but not as extensively as pandas. "
   ]
  }
 ],
 "metadata": {
  "kernelspec": {
   "display_name": "Python 3 (ipykernel)",
   "language": "python",
   "name": "python3"
  },
  "language_info": {
   "codemirror_mode": {
    "name": "ipython",
    "version": 3
   },
   "file_extension": ".py",
   "mimetype": "text/x-python",
   "name": "python",
   "nbconvert_exporter": "python",
   "pygments_lexer": "ipython3",
   "version": "3.11.4"
  }
 },
 "nbformat": 4,
 "nbformat_minor": 5
}
