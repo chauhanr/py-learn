{
 "cells": [
  {
   "cell_type": "code",
   "execution_count": 1,
   "id": "f5201528",
   "metadata": {},
   "outputs": [],
   "source": [
    "# first neural network - Simple Python function \n",
    "weight = 0.1 \n",
    "\n",
    "def n_network(input, weight): \n",
    "    prediction = input * weight \n",
    "    return prediction "
   ]
  },
  {
   "cell_type": "code",
   "execution_count": 5,
   "id": "33e12527",
   "metadata": {},
   "outputs": [
    {
     "name": "stdout",
     "output_type": "stream",
     "text": [
      "0.85\n"
     ]
    }
   ],
   "source": [
    "n_toes = [8.5,9,10, 9]\n",
    "\n",
    "toes = n_toes[0]\n",
    "pred = n_network(toes, weight)  # prediction on whether the team will win based on the number of toes. \n",
    "print(round(pred,2))"
   ]
  },
  {
   "cell_type": "markdown",
   "id": "76397cfd",
   "metadata": {},
   "source": [
    "## How does a neural network work \n",
    "1. First the neural network makes a prediction based on the data input and its formula weights. \n",
    "2. Compare - then the neural network compares the prediction to the actual result (outcome) \n",
    "3. Learn - learns from whether the prediction was good or not and ajusts the weight (parameters) "
   ]
  },
  {
   "cell_type": "code",
   "execution_count": null,
   "id": "d16ca0ca",
   "metadata": {},
   "outputs": [],
   "source": []
  }
 ],
 "metadata": {
  "kernelspec": {
   "display_name": "Python 3 (ipykernel)",
   "language": "python",
   "name": "python3"
  },
  "language_info": {
   "codemirror_mode": {
    "name": "ipython",
    "version": 3
   },
   "file_extension": ".py",
   "mimetype": "text/x-python",
   "name": "python",
   "nbconvert_exporter": "python",
   "pygments_lexer": "ipython3",
   "version": "3.11.3"
  }
 },
 "nbformat": 4,
 "nbformat_minor": 5
}
