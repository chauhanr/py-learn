{
 "cells": [
  {
   "cell_type": "markdown",
   "id": "13f3aa20",
   "metadata": {},
   "source": [
    "## Compare \n",
    "* We need to compare error that we face while predicting. We take the difference between the predicted value and the actual value following which we square the error. This method is called mean squared error. \n",
    "* The reason the mean squared error is used way to calculate error is because we want errors that that betwee 0 and 1 become smaller (less relevant) where as errors > 1 get magnified. "
   ]
  },
  {
   "cell_type": "code",
   "execution_count": 43,
   "id": "5cd4456b",
   "metadata": {},
   "outputs": [],
   "source": [
    "weight=0.5\n",
    "input= 0.5 # number of toes \n",
    "goal_prediction = 0.8 # represents win  \n",
    "step_amount = 0.1"
   ]
  },
  {
   "cell_type": "code",
   "execution_count": 44,
   "id": "8fbee89d",
   "metadata": {},
   "outputs": [],
   "source": [
    "def neural_network(input, weight): \n",
    "    pred = input * weight\n",
    "    return pred "
   ]
  },
  {
   "cell_type": "code",
   "execution_count": 31,
   "id": "2008057f",
   "metadata": {},
   "outputs": [],
   "source": [
    "#for iteration in range(1101):     \n",
    "#    pred = neural_network(input, weight)\n",
    "#    error = (pred - goal_prediction)**2\n",
    "#    \n",
    "#    print(\"Error: \"+str(error) + \" Prediction: \"+str(pred))\n",
    "#    \n",
    "#    up_pred = neural_network(input, weight + step_amount)\n",
    "#    up_error = (up_pred - goal_prediction)**2#\n",
    "#\n",
    "#    down_pred = neural_network(input, weight - step_amount)\n",
    "#    down_error = (down_pred - goal_prediction)**2\n",
    "\n",
    "#    if (down_error < up_error): \n",
    "#        weight = weight - step_amount\n",
    "#    if (down_error > up_error): \n",
    "#        weight = weight + step_amount\n",
    "\n"
   ]
  },
  {
   "cell_type": "markdown",
   "id": "dd165f84",
   "metadata": {},
   "source": [
    "## Gradient Descent \n",
    "* Hot cold error tracking can be inefficient as it calculates 2 errors (up down) and step value is hard to figure out. \n",
    "* A technique called **gradient descent** that can determine the direction of the error and values without making repeated predictions. "
   ]
  },
  {
   "cell_type": "code",
   "execution_count": 45,
   "id": "66a89089",
   "metadata": {},
   "outputs": [
    {
     "ename": "SyntaxError",
     "evalue": "invalid syntax (895654629.py, line 5)",
     "output_type": "error",
     "traceback": [
      "\u001b[1;36m  Cell \u001b[1;32mIn[45], line 5\u001b[1;36m\u001b[0m\n\u001b[1;33m    // gradient descent logic\u001b[0m\n\u001b[1;37m    ^\u001b[0m\n\u001b[1;31mSyntaxError\u001b[0m\u001b[1;31m:\u001b[0m invalid syntax\n"
     ]
    }
   ],
   "source": [
    "# gradient descent algorithm \n",
    "for iteration in range(10): \n",
    "    pred = neural_network(input, weight)\n",
    "    error = (pred - goal_prediction) ** 2 \n",
    "    #gradient descent logic\n",
    "    direction_amount = (pred - goal_prediction)*input\n",
    "    weight = weight - direction_amount \n",
    "    \n",
    "    print(\"Error: \"+str(error)+\" Prediction: \"+str(pred))"
   ]
  },
  {
   "cell_type": "markdown",
   "id": "2d705550",
   "metadata": {},
   "source": [
    "More refined algorithm for gradient descent "
   ]
  },
  {
   "cell_type": "code",
   "execution_count": 57,
   "id": "2e8913e9",
   "metadata": {},
   "outputs": [
    {
     "name": "stdout",
     "output_type": "stream",
     "text": [
      "\n",
      "Weight: 0\n",
      "Error 0.64 Prediction 0.0\n",
      "Delta -0.8 Weight Delta -0.4\n",
      "\n",
      "Weight: 0.32\n",
      "Error 0.41 Prediction 0.16\n",
      "Delta -0.64 Weight Delta -0.32\n",
      "\n",
      "Weight: 0.576\n",
      "Error 0.262 Prediction 0.29\n",
      "Delta -0.512 Weight Delta -0.26\n",
      "\n",
      "Weight: 0.781\n",
      "Error 0.168 Prediction 0.39\n",
      "Delta -0.41 Weight Delta -0.2\n",
      "\n",
      "Weight: 0.945\n",
      "Error 0.107 Prediction 0.47\n",
      "Delta -0.328 Weight Delta -0.16\n",
      "\n",
      "Weight: 1.076\n",
      "Error 0.069 Prediction 0.54\n",
      "Delta -0.262 Weight Delta -0.13\n",
      "\n",
      "Weight: 1.181\n",
      "Error 0.044 Prediction 0.59\n",
      "Delta -0.21 Weight Delta -0.1\n",
      "\n",
      "Weight: 1.264\n",
      "Error 0.028 Prediction 0.63\n",
      "Delta -0.168 Weight Delta -0.08\n",
      "\n",
      "Weight: 1.332\n",
      "Error 0.018 Prediction 0.67\n",
      "Delta -0.134 Weight Delta -0.07\n",
      "\n",
      "Weight: 1.385\n",
      "Error 0.012 Prediction 0.69\n",
      "Delta -0.107 Weight Delta -0.05\n",
      "\n",
      "Weight: 1.428\n",
      "Error 0.007 Prediction 0.71\n",
      "Delta -0.086 Weight Delta -0.04\n",
      "\n",
      "Weight: 1.463\n",
      "Error 0.005 Prediction 0.73\n",
      "Delta -0.069 Weight Delta -0.03\n",
      "\n",
      "Weight: 1.49\n",
      "Error 0.003 Prediction 0.75\n",
      "Delta -0.055 Weight Delta -0.03\n",
      "\n",
      "Weight: 1.512\n",
      "Error 0.002 Prediction 0.76\n",
      "Delta -0.044 Weight Delta -0.02\n",
      "\n",
      "Weight: 1.53\n",
      "Error 0.001 Prediction 0.76\n",
      "Delta -0.035 Weight Delta -0.02\n",
      "\n",
      "Weight: 1.544\n",
      "Error 0.001 Prediction 0.77\n",
      "Delta -0.028 Weight Delta -0.01\n",
      "\n",
      "Weight: 1.555\n",
      "Error 0.001 Prediction 0.78\n",
      "Delta -0.023 Weight Delta -0.01\n",
      "\n",
      "Weight: 1.564\n",
      "Error 0.0 Prediction 0.78\n",
      "Delta -0.018 Weight Delta -0.01\n",
      "\n",
      "Weight: 1.571\n",
      "Error 0.0 Prediction 0.79\n",
      "Delta -0.014 Weight Delta -0.01\n",
      "\n",
      "Weight: 1.577\n",
      "Error 0.0 Prediction 0.79\n",
      "Delta -0.012 Weight Delta -0.01\n"
     ]
    }
   ],
   "source": [
    "weight=0\n",
    "input= 0.5 # number of toes \n",
    "goal_prediction = 0.8 # represents win  \n",
    "step_amount = 0.1\n",
    "alpha = 0.8  # variable between 0 and 1 that is used to prevent divergence between the predicted and goal value. \n",
    "\n",
    "for iteration in range(20): \n",
    "    print(f\"\\nWeight: {round(weight,3)}\")\n",
    "    pred = neural_network(input, weight)\n",
    "    error = (pred - goal_prediction)**2 \n",
    "    delta = pred - goal_prediction # delta \n",
    "    weight_delta = input * delta \n",
    "    weight -= weight_delta * alpha \n",
    "    print(f\"Error {round(error,3)} Prediction {round(pred,2)}\")\n",
    "    print(f\"Delta {round(delta,3)} Weight Delta {round(weight_delta,2)}\")"
   ]
  },
  {
   "cell_type": "code",
   "execution_count": 64,
   "id": "29929130",
   "metadata": {},
   "outputs": [
    {
     "name": "stdout",
     "output_type": "stream",
     "text": [
      "Error: 0.3025 Prediction: 0.25\n",
      "Error: 0.0756 Prediction: 0.525\n",
      "Error: 0.0189 Prediction: 0.6625\n",
      "Error: 0.0047 Prediction: 0.7313\n",
      "Error: 0.0012 Prediction: 0.7656\n",
      "Error: 0.0003 Prediction: 0.7828\n",
      "Error: 0.0001 Prediction: 0.7914\n",
      "Error: 0.0 Prediction: 0.7957\n",
      "Error: 0.0 Prediction: 0.7979\n",
      "Error: 0.0 Prediction: 0.7989\n"
     ]
    }
   ],
   "source": [
    "## From Memory \n",
    "W = 0.5 \n",
    "inp = 0.5 \n",
    "goal_prediction = 0.8 \n",
    "alpha = 1 \n",
    "\n",
    "for iteration in range(10): \n",
    "    pred = (inp * W) \n",
    "    error = (pred - goal_prediction) ** 2  # error calculation formula. \n",
    "    derivative = 2 * inp * (pred - goal_prediction)  # derivative is differential on of error  (input*x - gp) ** 2\n",
    "    W = W - (derivative * alpha)\n",
    "    print(f\"Error: {round(error,4)} Prediction: {round(pred,4)}\")"
   ]
  },
  {
   "cell_type": "code",
   "execution_count": null,
   "id": "88a80da5",
   "metadata": {},
   "outputs": [],
   "source": []
  }
 ],
 "metadata": {
  "kernelspec": {
   "display_name": "Python 3 (ipykernel)",
   "language": "python",
   "name": "python3"
  },
  "language_info": {
   "codemirror_mode": {
    "name": "ipython",
    "version": 3
   },
   "file_extension": ".py",
   "mimetype": "text/x-python",
   "name": "python",
   "nbconvert_exporter": "python",
   "pygments_lexer": "ipython3",
   "version": "3.11.4"
  }
 },
 "nbformat": 4,
 "nbformat_minor": 5
}
