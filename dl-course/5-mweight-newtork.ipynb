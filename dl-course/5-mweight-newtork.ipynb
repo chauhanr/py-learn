{
 "cells": [
  {
   "cell_type": "markdown",
   "metadata": {},
   "source": [
    "## Multiweight Gradient descent "
   ]
  },
  {
   "cell_type": "code",
   "execution_count": 2,
   "metadata": {},
   "outputs": [],
   "source": [
    "def w_sum(inputs, weights): \n",
    "    assert(len(inputs) == len(weights)) \n",
    "    output = 0 \n",
    "    for i in range(len(inputs)): \n",
    "        output += (inputs[i]*weights[i])\n",
    "    return output "
   ]
  },
  {
   "cell_type": "code",
   "execution_count": 3,
   "metadata": {},
   "outputs": [],
   "source": [
    "\n",
    "def neural_network(inputs, W): \n",
    "    pred = w_sum(inputs, W)\n",
    "    return pred "
   ]
  },
  {
   "cell_type": "code",
   "execution_count": 4,
   "metadata": {},
   "outputs": [],
   "source": [
    "def ele_mul(number, vector): \n",
    "    output = [0,0,0]\n",
    "    assert(len(output) == len(vector))\n",
    "\n",
    "    for i in range(len(vector)):\n",
    "        output[i] = number * vector[i]\n",
    "    return output "
   ]
  },
  {
   "cell_type": "code",
   "execution_count": 7,
   "metadata": {},
   "outputs": [
    {
     "name": "stdout",
     "output_type": "stream",
     "text": [
      "\n",
      "Iteration: 1\n",
      "Pred: 0.8600000000000001\n",
      "Error: 0.01959999999999997\n",
      "Delta: -0.1399999999999999\n",
      "Weights: [0.1, 0.2, -0.1]\n",
      "Weight Deltas [-1.189999999999999, -0.09099999999999994, -0.16799999999999987]\n",
      "\n",
      "Iteration: 2\n",
      "Pred: 0.9637574999999999\n",
      "Error: 0.0013135188062500048\n",
      "Delta: -0.036242500000000066\n",
      "Weights: [0.1119, 0.20091, -0.09832]\n",
      "Weight Deltas [-0.30806125000000056, -0.023557625000000044, -0.04349100000000008]\n",
      "\n",
      "Iteration: 3\n",
      "Pred: 0.9906177228125002\n",
      "Error: 8.802712522307997e-05\n",
      "Delta: -0.009382277187499843\n",
      "Weights: [0.11498061250000001, 0.20114557625, -0.09788509000000001]\n",
      "Weight Deltas [-0.07974935609374867, -0.006098480171874899, -0.011258732624999811]\n"
     ]
    }
   ],
   "source": [
    "W = [0.1, 0.2, -0.1]\n",
    "## data or parameters \n",
    "\n",
    "toes = [8.5, 9.5, 9.9, 9.0]\n",
    "wlrec = [0.65, 0.8, 0.8, 0.9]\n",
    "nfans = [1.2, 1.3, 0.5, 1.0]\n",
    "alpha = 0.01\n",
    "\n",
    "win_loss_binary = [1,1,0,1]\n",
    "true = win_loss_binary[0]\n",
    "\n",
    "inputs = [toes[0], wlrec[0], nfans[0]]\n",
    "for iter in range(3):\n",
    "    pred = neural_network(inputs, W)\n",
    "    error = (pred -true) ** 2 \n",
    "    delta = pred - true \n",
    "    weight_deltas = ele_mul(delta, inputs) \n",
    "    print(f\"\\nIteration: {iter+1}\")\n",
    "    print(f\"Pred: {pred}\")\n",
    "    print(f\"Error: {error}\")\n",
    "    print(f\"Delta: {delta}\")\n",
    "    print(f\"Weights: {W}\")\n",
    "\n",
    "    print(f\"Weight Deltas {weight_deltas}\")\n",
    "    for i in range(len(W)): \n",
    "        W[i] -= alpha * weight_deltas[i]\n"
   ]
  },
  {
   "cell_type": "code",
   "execution_count": null,
   "metadata": {},
   "outputs": [],
   "source": []
  }
 ],
 "metadata": {
  "kernelspec": {
   "display_name": "Python 3",
   "language": "python",
   "name": "python3"
  },
  "language_info": {
   "codemirror_mode": {
    "name": "ipython",
    "version": 3
   },
   "file_extension": ".py",
   "mimetype": "text/x-python",
   "name": "python",
   "nbconvert_exporter": "python",
   "pygments_lexer": "ipython3",
   "version": "3.11.4"
  }
 },
 "nbformat": 4,
 "nbformat_minor": 2
}
