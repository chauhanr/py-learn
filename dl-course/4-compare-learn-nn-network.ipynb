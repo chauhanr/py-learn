{
 "cells": [
  {
   "cell_type": "markdown",
   "id": "83fe7ae2",
   "metadata": {},
   "source": [
    "## Compare \n",
    "* We need to compare error that we face while predicting. We take the difference between the predicted value and the actual value following which we square the error. This method is called mean squared error. \n",
    "* The reason the mean squared error is used way to calculate error is because we want errors that that betwee 0 and 1 become smaller (less relevant) where as errors > 1 get magnified. "
   ]
  },
  {
   "cell_type": "code",
   "execution_count": 29,
   "id": "177a7675",
   "metadata": {},
   "outputs": [],
   "source": [
    "weight=0.5\n",
    "input= 0.5 # number of toes \n",
    "goal_prediction = 0.8 # represents win  \n",
    "step_amount = 0.1"
   ]
  },
  {
   "cell_type": "code",
   "execution_count": 30,
   "id": "76398fa8",
   "metadata": {},
   "outputs": [],
   "source": [
    "def neural_network(input, weight): \n",
    "    pred = input * weight\n",
    "    return pred "
   ]
  },
  {
   "cell_type": "code",
   "execution_count": 31,
   "id": "72de1bcb",
   "metadata": {},
   "outputs": [],
   "source": [
    "#for iteration in range(1101):     \n",
    "#    pred = neural_network(input, weight)\n",
    "#    error = (pred - goal_prediction)**2\n",
    "#    \n",
    "#    print(\"Error: \"+str(error) + \" Prediction: \"+str(pred))\n",
    "#    \n",
    "#    up_pred = neural_network(input, weight + step_amount)\n",
    "#    up_error = (up_pred - goal_prediction)**2#\n",
    "#\n",
    "#    down_pred = neural_network(input, weight - step_amount)\n",
    "#    down_error = (down_pred - goal_prediction)**2\n",
    "\n",
    "#    if (down_error < up_error): \n",
    "#        weight = weight - step_amount\n",
    "#    if (down_error > up_error): \n",
    "#        weight = weight + step_amount\n",
    "\n"
   ]
  },
  {
   "cell_type": "markdown",
   "id": "4f7372e9",
   "metadata": {},
   "source": [
    "## Gradient Descent \n",
    "* Hot cold error tracking can be inefficient as it calculates 2 errors (up down) and step value is hard to figure out. \n",
    "* A technique called **gradient descent** that can determine the direction of the error and values without making repeated predictions. "
   ]
  },
  {
   "cell_type": "code",
   "execution_count": 36,
   "id": "c1e62e85",
   "metadata": {},
   "outputs": [
    {
     "name": "stdout",
     "output_type": "stream",
     "text": [
      "Error: 4.930380657631324e-32 Prediction: 0.7999999999999998\n",
      "Error: 4.930380657631324e-32 Prediction: 0.7999999999999998\n",
      "Error: 4.930380657631324e-32 Prediction: 0.7999999999999998\n",
      "Error: 4.930380657631324e-32 Prediction: 0.7999999999999998\n",
      "Error: 4.930380657631324e-32 Prediction: 0.7999999999999998\n",
      "Error: 4.930380657631324e-32 Prediction: 0.7999999999999998\n",
      "Error: 4.930380657631324e-32 Prediction: 0.7999999999999998\n",
      "Error: 4.930380657631324e-32 Prediction: 0.7999999999999998\n",
      "Error: 4.930380657631324e-32 Prediction: 0.7999999999999998\n",
      "Error: 4.930380657631324e-32 Prediction: 0.7999999999999998\n"
     ]
    }
   ],
   "source": [
    "# gradient descent algorithm \n",
    "for iteration in range(10): \n",
    "    pred = neural_network(input, weight)\n",
    "    error = (pred - goal_prediction) ** 2 \n",
    "    // gradient descent logic\n",
    "    direction_amount = (pred - goal_prediction)*input\n",
    "    weight = weight - direction_amount \n",
    "    \n",
    "    print(\"Error: \"+str(error)+\" Prediction: \"+str(pred))"
   ]
  },
  {
   "cell_type": "code",
   "execution_count": null,
   "id": "40a81451",
   "metadata": {},
   "outputs": [],
   "source": []
  }
 ],
 "metadata": {
  "kernelspec": {
   "display_name": "Python 3 (ipykernel)",
   "language": "python",
   "name": "python3"
  },
  "language_info": {
   "codemirror_mode": {
    "name": "ipython",
    "version": 3
   },
   "file_extension": ".py",
   "mimetype": "text/x-python",
   "name": "python",
   "nbconvert_exporter": "python",
   "pygments_lexer": "ipython3",
   "version": "3.11.4"
  }
 },
 "nbformat": 4,
 "nbformat_minor": 5
}
