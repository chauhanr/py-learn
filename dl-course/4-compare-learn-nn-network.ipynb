{
 "cells": [
  {
   "cell_type": "markdown",
   "id": "83fe7ae2",
   "metadata": {},
   "source": [
    "## Compare \n",
    "* We need to compare error that we face while predicting. We take the difference between the predicted value and the actual value following which we square the error. This method is called mean squared error. \n",
    "* The reason the mean squared error is used way to calculate error is because we want errors that that betwee 0 and 1 become smaller (less relevant) where as errors > 1 get magnified. "
   ]
  },
  {
   "cell_type": "code",
   "execution_count": 1,
   "id": "177a7675",
   "metadata": {},
   "outputs": [],
   "source": [
    "weight=0.5\n",
    "input= 0.5 # number of toes \n",
    "goal_prediction = 0.8 # represents win  \n",
    "step_amount = 0.1"
   ]
  },
  {
   "cell_type": "code",
   "execution_count": 2,
   "id": "76398fa8",
   "metadata": {},
   "outputs": [],
   "source": [
    "def neural_network(input, weight): \n",
    "    pred = input * weight\n",
    "    return pred "
   ]
  },
  {
   "cell_type": "code",
   "execution_count": 31,
   "id": "72de1bcb",
   "metadata": {},
   "outputs": [],
   "source": [
    "#for iteration in range(1101):     \n",
    "#    pred = neural_network(input, weight)\n",
    "#    error = (pred - goal_prediction)**2\n",
    "#    \n",
    "#    print(\"Error: \"+str(error) + \" Prediction: \"+str(pred))\n",
    "#    \n",
    "#    up_pred = neural_network(input, weight + step_amount)\n",
    "#    up_error = (up_pred - goal_prediction)**2#\n",
    "#\n",
    "#    down_pred = neural_network(input, weight - step_amount)\n",
    "#    down_error = (down_pred - goal_prediction)**2\n",
    "\n",
    "#    if (down_error < up_error): \n",
    "#        weight = weight - step_amount\n",
    "#    if (down_error > up_error): \n",
    "#        weight = weight + step_amount\n",
    "\n"
   ]
  },
  {
   "cell_type": "markdown",
   "id": "4f7372e9",
   "metadata": {},
   "source": [
    "## Gradient Descent \n",
    "* Hot cold error tracking can be inefficient as it calculates 2 errors (up down) and step value is hard to figure out. \n",
    "* A technique called **gradient descent** that can determine the direction of the error and values without making repeated predictions. "
   ]
  },
  {
   "cell_type": "code",
   "execution_count": 5,
   "id": "c1e62e85",
   "metadata": {},
   "outputs": [
    {
     "name": "stdout",
     "output_type": "stream",
     "text": [
      "Error: 0.0009592916115275371 Prediction: 0.76902756690979\n",
      "Error: 0.0005396015314842384 Prediction: 0.7767706751823426\n",
      "Error: 0.000303525861459885 Prediction: 0.7825780063867569\n",
      "Error: 0.00017073329707118678 Prediction: 0.7869335047900676\n",
      "Error: 9.603747960254256e-05 Prediction: 0.7902001285925507\n",
      "Error: 5.402108227642978e-05 Prediction: 0.7926500964444131\n",
      "Error: 3.038685878049206e-05 Prediction: 0.7944875723333098\n",
      "Error: 1.7092608064027242e-05 Prediction: 0.7958656792499823\n",
      "Error: 9.614592036015323e-06 Prediction: 0.7968992594374867\n",
      "Error: 5.408208020258491e-06 Prediction: 0.7976744445781151\n",
      "Error: 3.0421170113954975e-06 Prediction: 0.7982558334335863\n",
      "Error: 1.7111908189101127e-06 Prediction: 0.7986918750751897\n",
      "Error: 9.625448356369383e-07 Prediction: 0.7990189063063923\n",
      "Error: 5.41431470045737e-07 Prediction: 0.7992641797297942\n",
      "Error: 3.045552019007577e-07 Prediction: 0.7994481347973457\n",
      "Error: 1.7131230106922215e-07 Prediction: 0.7995861010980092\n",
      "Error: 9.636316935140299e-08 Prediction: 0.799689575823507\n",
      "Error: 5.420428276019003e-08 Prediction: 0.7997671818676302\n",
      "Error: 3.048990905260689e-08 Prediction: 0.7998253864007226\n",
      "Error: 1.715057384208411e-08 Prediction: 0.799869039800542\n"
     ]
    }
   ],
   "source": [
    "# gradient descent algorithm \n",
    "for iteration in range(20): \n",
    "    pred = neural_network(input, weight)\n",
    "    error = (pred - goal_prediction) ** 2 \n",
    "    # gradient descent logic\n",
    "    direction_amount = (pred - goal_prediction)*input\n",
    "    weight = weight - direction_amount \n",
    "    \n",
    "    print(\"Error: \"+str(error)+\" Prediction: \"+str(pred))"
   ]
  },
  {
   "cell_type": "code",
   "execution_count": null,
   "id": "40a81451",
   "metadata": {},
   "outputs": [],
   "source": []
  }
 ],
 "metadata": {
  "kernelspec": {
   "display_name": "Python 3 (ipykernel)",
   "language": "python",
   "name": "python3"
  },
  "language_info": {
   "codemirror_mode": {
    "name": "ipython",
    "version": 3
   },
   "file_extension": ".py",
   "mimetype": "text/x-python",
   "name": "python",
   "nbconvert_exporter": "python",
   "pygments_lexer": "ipython3",
   "version": "3.11.3"
  }
 },
 "nbformat": 4,
 "nbformat_minor": 5
}
