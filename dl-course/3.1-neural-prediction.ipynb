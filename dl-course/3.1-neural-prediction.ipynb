{
 "cells": [
  {
   "cell_type": "code",
   "execution_count": 1,
   "id": "10b0dc4b",
   "metadata": {},
   "outputs": [],
   "source": [
    "# first neural network - Simple Python function \n",
    "weight = 0.1 \n",
    "\n",
    "def n_network(input, weight): \n",
    "    prediction = input * weight \n",
    "    return prediction "
   ]
  },
  {
   "cell_type": "code",
   "execution_count": 2,
   "id": "5a1cc2bf",
   "metadata": {},
   "outputs": [
    {
     "name": "stdout",
     "output_type": "stream",
     "text": [
      "0.85\n"
     ]
    }
   ],
   "source": [
    "n_toes = [8.5,9,10, 9]\n",
    "\n",
    "toes = n_toes[0]\n",
    "pred = n_network(toes, weight)  # prediction on whether the team will win based on the number of toes. \n",
    "print(round(pred,2))"
   ]
  },
  {
   "cell_type": "markdown",
   "id": "00e971a4",
   "metadata": {},
   "source": [
    "## How does a neural network work \n",
    "1. First the neural network makes a prediction based on the data input and its formula weights. \n",
    "2. Compare - then the neural network compares the prediction to the actual result (outcome) \n",
    "3. Learn - learns from whether the prediction was good or not and ajusts the weight (parameters) \n",
    "\n",
    "The weights magnitude decides the impact of that weight on the prediction. "
   ]
  },
  {
   "cell_type": "code",
   "execution_count": 3,
   "id": "4a3a62ae",
   "metadata": {},
   "outputs": [],
   "source": [
    "# Multiple inputs and weights to make the neural network better \n",
    "W = [0.1,0.2,0]\n",
    "\n",
    "def mn_network(inputs, W): \n",
    "    p = w_sum(inputs, W)\n",
    "    return p\n",
    "\n",
    "def w_sum(a,b): \n",
    "    assert(len(a) == len(b))\n",
    "    output = 0 \n",
    "    for i in range(len(a)): \n",
    "        output += ( a[i] * b[i] )\n",
    "    return output"
   ]
  },
  {
   "cell_type": "code",
   "execution_count": 4,
   "id": "af28ace6",
   "metadata": {},
   "outputs": [
    {
     "name": "stdout",
     "output_type": "stream",
     "text": [
      "0.98\n"
     ]
    }
   ],
   "source": [
    "n_toes = [8.5,9,10, 9]\n",
    "wrecs = [0.65,0.8,0.8,0.9]\n",
    "nfans = [1.2, 1.3, 0.5, 1.0]\n",
    "\n",
    "inputs = [n_toes[0], wrecs[0], nfans[0]]\n",
    "\n",
    "pred = mn_network(inputs, W)\n",
    "print(round(pred,2))"
   ]
  },
  {
   "cell_type": "code",
   "execution_count": 5,
   "id": "c4974870",
   "metadata": {},
   "outputs": [
    {
     "name": "stdout",
     "output_type": "stream",
     "text": [
      "0.98\n"
     ]
    }
   ],
   "source": [
    "# above code with numpy \n",
    "\n",
    "import numpy as np \n",
    "\n",
    "weights = np.array([0.1,0.2, 0])\n",
    "\n",
    "def np_network(inputs, weights):\n",
    "    pred = inputs.dot(weights)\n",
    "    return pred \n",
    "\n",
    "n_toes = np.array([8.5,9,10, 9])\n",
    "wrecs = np.array([0.65,0.8,0.8,0.9])\n",
    "nfans = np.array([1.2, 1.3, 0.5, 1.0])\n",
    "\n",
    "inputs = np.array([n_toes[0], wrecs[0], nfans[0]])\n",
    "\n",
    "pred = np_network(inputs, weights)\n",
    "print(round(pred,2))"
   ]
  },
  {
   "cell_type": "markdown",
   "id": "fed1f820",
   "metadata": {},
   "source": [
    "## Multiple Outputs \n",
    "so far the prediction has been singular that is the probability of a team winning based on the input. However we can have multiple predictions as output too. "
   ]
  },
  {
   "cell_type": "code",
   "execution_count": 8,
   "id": "f3098a45",
   "metadata": {},
   "outputs": [
    {
     "name": "stdout",
     "output_type": "stream",
     "text": [
      "[0.065, 0.13, 0.0]\n"
     ]
    }
   ],
   "source": [
    "weights = np.array([0.1,0.2, 0])\n",
    "\n",
    "def neural_network(inputs, weights):\n",
    "    pred = ele_mul(inputs, weights)\n",
    "    return pred \n",
    "\n",
    "def ele_mul(number, vector): \n",
    "    output = [0.0,0.0,0.0]\n",
    "    assert(len(output) == len(vector))\n",
    "    for i in range(len(vector)): \n",
    "        output[i] = number * vector[i]\n",
    "    return output \n",
    "\n",
    "wlrec = [0.65, 0.8, 0.8, 0.9]\n",
    "input = wlrec[0]\n",
    "\n",
    "pred = neural_network(input, weights)\n",
    "\n",
    "print(pred)"
   ]
  },
  {
   "cell_type": "markdown",
   "id": "1d2cbf0c",
   "metadata": {},
   "source": [
    "## Working with numpy and multiple layers "
   ]
  },
  {
   "cell_type": "code",
   "execution_count": 10,
   "id": "1e7cdada",
   "metadata": {},
   "outputs": [
    {
     "name": "stdout",
     "output_type": "stream",
     "text": [
      "[2.155 0.498 2.801]\n"
     ]
    }
   ],
   "source": [
    "ih_wgt = np.array([[0.1, 0.2,-0.1], \n",
    "                   [0.1, 0.2, 0.9], \n",
    "                   [0.1,0.4, 0.1]]).T \n",
    "hp_wgt = np.array([[0.3,1.1, -0.3], \n",
    "                   [0.1,0.2, 0], \n",
    "                   [0.0, 1.3, 0.1]\n",
    "                  ]).T\n",
    "\n",
    "weights= [ih_wgt, hp_wgt]\n",
    "\n",
    "def neural_np_network(input, weights): \n",
    "    hid = input.dot(weights[0])\n",
    "    pred = hid.dot(weights[1])\n",
    "    return pred \n",
    "\n",
    "toes = np.array([8.5, 9.5, 9.9, 9.0])\n",
    "wlrec = np.array([0.65, 0.8, 0.8, 0.9])\n",
    "nfans = np.array([1.2,1.3, 0.5, 1.0])\n",
    "\n",
    "input = np.array([toes[0], wlrec[0], nfans[0]])\n",
    "pred = neural_np_network(input, weights)\n",
    "\n",
    "print(pred)"
   ]
  },
  {
   "cell_type": "code",
   "execution_count": null,
   "id": "84bcc6e4",
   "metadata": {},
   "outputs": [],
   "source": []
  }
 ],
 "metadata": {
  "kernelspec": {
   "display_name": "Python 3 (ipykernel)",
   "language": "python",
   "name": "python3"
  },
  "language_info": {
   "codemirror_mode": {
    "name": "ipython",
    "version": 3
   },
   "file_extension": ".py",
   "mimetype": "text/x-python",
   "name": "python",
   "nbconvert_exporter": "python",
   "pygments_lexer": "ipython3",
   "version": "3.11.4"
  }
 },
 "nbformat": 4,
 "nbformat_minor": 5
}
