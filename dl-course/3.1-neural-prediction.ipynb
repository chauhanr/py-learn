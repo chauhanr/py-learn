{
 "cells": [
  {
   "cell_type": "code",
   "execution_count": 1,
   "id": "10b0dc4b",
   "metadata": {},
   "outputs": [],
   "source": [
    "# first neural network - Simple Python function \n",
    "weight = 0.1 \n",
    "\n",
    "def n_network(input, weight): \n",
    "    prediction = input * weight \n",
    "    return prediction "
   ]
  },
  {
   "cell_type": "code",
   "execution_count": 5,
   "id": "5a1cc2bf",
   "metadata": {},
   "outputs": [
    {
     "name": "stdout",
     "output_type": "stream",
     "text": [
      "0.85\n"
     ]
    }
   ],
   "source": [
    "n_toes = [8.5,9,10, 9]\n",
    "\n",
    "toes = n_toes[0]\n",
    "pred = n_network(toes, weight)  # prediction on whether the team will win based on the number of toes. \n",
    "print(round(pred,2))"
   ]
  },
  {
   "cell_type": "markdown",
   "id": "00e971a4",
   "metadata": {},
   "source": [
    "## How does a neural network work \n",
    "1. First the neural network makes a prediction based on the data input and its formula weights. \n",
    "2. Compare - then the neural network compares the prediction to the actual result (outcome) \n",
    "3. Learn - learns from whether the prediction was good or not and ajusts the weight (parameters) \n",
    "\n",
    "The weights magnitude decides the impact of that weight on the prediction. "
   ]
  },
  {
   "cell_type": "code",
   "execution_count": 10,
   "id": "4a3a62ae",
   "metadata": {},
   "outputs": [],
   "source": [
    "# Multiple inputs and weights to make the neural network better \n",
    "W = [0.1,0.2,0]\n",
    "\n",
    "def mn_network(inputs, W): \n",
    "    p = w_sum(inputs, W)\n",
    "    return p\n",
    "\n",
    "def w_sum(a,b): \n",
    "    assert(len(a) == len(b))\n",
    "    output = 0 \n",
    "    for i in range(len(a)): \n",
    "        output += ( a[i] * b[i] )\n",
    "    return output"
   ]
  },
  {
   "cell_type": "code",
   "execution_count": 14,
   "id": "af28ace6",
   "metadata": {},
   "outputs": [
    {
     "name": "stdout",
     "output_type": "stream",
     "text": [
      "0.98\n"
     ]
    }
   ],
   "source": [
    "n_toes = [8.5,9,10, 9]\n",
    "wrecs = [0.65,0.8,0.8,0.9]\n",
    "nfans = [1.2, 1.3, 0.5, 1.0]\n",
    "\n",
    "inputs = [n_toes[0], wrecs[0], nfans[0]]\n",
    "\n",
    "pred = mn_network(inputs, W)\n",
    "print(round(pred,2))"
   ]
  },
  {
   "cell_type": "code",
   "execution_count": 16,
   "id": "c4974870",
   "metadata": {},
   "outputs": [
    {
     "name": "stdout",
     "output_type": "stream",
     "text": [
      "0.98\n"
     ]
    }
   ],
   "source": [
    "# above code with numpy \n",
    "\n",
    "import numpy as np \n",
    "\n",
    "weights = np.array([0.1,0.2, 0])\n",
    "\n",
    "def np_network(inputs, weights):\n",
    "    pred = inputs.dot(weights)\n",
    "    return pred \n",
    "\n",
    "n_toes = np.array([8.5,9,10, 9])\n",
    "wrecs = np.array([0.65,0.8,0.8,0.9])\n",
    "nfans = np.array([1.2, 1.3, 0.5, 1.0])\n",
    "\n",
    "inputs = np.array([n_toes[0], wrecs[0], nfans[0]])\n",
    "\n",
    "pred = np_network(inputs, weights)\n",
    "print(round(pred,2))"
   ]
  },
  {
   "cell_type": "markdown",
   "id": "fed1f820",
   "metadata": {},
   "source": [
    "## Multiple Outputs \n",
    "so far the prediction has been singular that is the probability of a team winning based on the input. However we can have multiple predictions as output too. "
   ]
  },
  {
   "cell_type": "code",
   "execution_count": null,
   "id": "f3098a45",
   "metadata": {},
   "outputs": [],
   "source": []
  }
 ],
 "metadata": {
  "kernelspec": {
   "display_name": "Python 3 (ipykernel)",
   "language": "python",
   "name": "python3"
  },
  "language_info": {
   "codemirror_mode": {
    "name": "ipython",
    "version": 3
   },
   "file_extension": ".py",
   "mimetype": "text/x-python",
   "name": "python",
   "nbconvert_exporter": "python",
   "pygments_lexer": "ipython3",
   "version": "3.11.3"
  }
 },
 "nbformat": 4,
 "nbformat_minor": 5
}
