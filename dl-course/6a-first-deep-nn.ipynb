{
 "cells": [
  {
   "cell_type": "code",
   "execution_count": 4,
   "metadata": {},
   "outputs": [
    {
     "name": "stdout",
     "output_type": "stream",
     "text": [
      "Error:1.0218497427941267\n",
      "Error:0.43629626304888597\n",
      "Error:0.06208973766399218\n",
      "Error:0.00048004338090767393\n",
      "Error:8.493404287858564e-07\n",
      "Error:3.807193675422252e-09\n"
     ]
    }
   ],
   "source": [
    "import numpy as np\n",
    "np.random.seed(0)\n",
    "\n",
    "def relu(x):\n",
    "    # return the value of x if the value of x > 0 other wise return 0. \n",
    "    return (x > 0) * x\n",
    "\n",
    "def relu2deriv(output):\n",
    "    return output > 0  # return 1 if the output > 0 other wise return 0\n",
    "\n",
    "alpha = 0.2\n",
    "hidden_size = 4\n",
    "\n",
    "streetlights = np.array( [[ 1, 0, 1 ],\n",
    "                            [ 0, 1, 1 ],\n",
    "                            [ 0, 0, 1 ],\n",
    "                            [ 1, 1, 1 ] ] )\n",
    "\n",
    "walk_vs_stop = np.array([[ 1, 1, 0, 0]]).T\n",
    "\n",
    "weights_0_1 = 2*np.random.random((3,hidden_size)) - 1  # weights between layer 0 and layer 1 \n",
    "weights_1_2 = 2*np.random.random((hidden_size,1)) - 1  # weeights between layer 1 and layer 2\n",
    "\n",
    "for iter in range(60): \n",
    "    layer_2_error = 0\n",
    "    for i in range(len(streetlights)): \n",
    "        layer_0 = streetlights[i:i+1]  # input layer\n",
    "        layer_1 = relu(np.dot(layer_0,weights_0_1))  # hidden layer \n",
    "        layer_2 = np.dot(layer_1,weights_1_2)  # output layer\n",
    "        layer_2_error += np.sum((layer_2 - walk_vs_stop[i:i+1]) ** 2)  # calculate the error of the output layer\n",
    "        layer_2_delta = (walk_vs_stop[i:i+1] - layer_2)  # calculate the delta of the output layer \n",
    "        layer_1_delta = layer_2_delta.dot(weights_1_2.T) * relu2deriv(layer_1)  # calculate the delta of the hidden layer \n",
    "                                                                                # this is the step for backpropagation.\n",
    "        weights_1_2 += alpha * layer_1.T.dot(layer_2_delta)  # update the weights between layer 1 and layer 2\n",
    "        weights_0_1 += alpha * layer_0.T.dot(layer_1_delta)  # update the weights between layer 0 and layer 1\n",
    "   \n",
    "    if(iter % 10 == 9):\n",
    "        print(\"Error:\" + str(layer_2_error))\n",
    "        #print(\"Weights 0_1:\" + str(weights_0_1))\n",
    "        #print(\"Weights 1_2:\" + str(weights_1_2))\n",
    "\n",
    "# as we can see the error is decreasing after each iteration.\n"
   ]
  },
  {
   "cell_type": "code",
   "execution_count": null,
   "metadata": {},
   "outputs": [],
   "source": []
  }
 ],
 "metadata": {
  "kernelspec": {
   "display_name": "pylearn",
   "language": "python",
   "name": "python3"
  },
  "language_info": {
   "codemirror_mode": {
    "name": "ipython",
    "version": 3
   },
   "file_extension": ".py",
   "mimetype": "text/x-python",
   "name": "python",
   "nbconvert_exporter": "python",
   "pygments_lexer": "ipython3",
   "version": "3.11.3"
  }
 },
 "nbformat": 4,
 "nbformat_minor": 2
}
