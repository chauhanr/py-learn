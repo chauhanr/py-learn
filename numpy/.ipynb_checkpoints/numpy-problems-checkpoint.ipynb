{
 "cells": [
  {
   "cell_type": "code",
   "execution_count": 8,
   "id": "a85ce232",
   "metadata": {},
   "outputs": [],
   "source": [
    "import numpy as np \n",
    "from numpy import ndarray"
   ]
  },
  {
   "cell_type": "code",
   "execution_count": 45,
   "id": "0ed450e7",
   "metadata": {},
   "outputs": [],
   "source": [
    "def matmul(a: ndarray, b: ndarray): \n",
    "    # Number of columns of a must be equal to the number of rows of b.\n",
    "    if a.shape[1] == b.shape[0]: \n",
    "       c = np.matmul(a,b)\n",
    "       print(c)\n",
    "    else: \n",
    "        print(f\"multiplying matrix \\n{a} and \\n{b} not possible as shapes are incompatible\")"
   ]
  },
  {
   "cell_type": "code",
   "execution_count": 46,
   "id": "c33d447a",
   "metadata": {},
   "outputs": [],
   "source": [
    "a = np.array([[1,2,3],[4,5,6],[7,8,9]]) \n",
    "b = np.array([[1,1,0],[0,1,1],[1,0,1]])"
   ]
  },
  {
   "cell_type": "code",
   "execution_count": 47,
   "id": "5f439b7c",
   "metadata": {},
   "outputs": [
    {
     "name": "stdout",
     "output_type": "stream",
     "text": [
      "[[ 4  3  5]\n",
      " [10  9 11]\n",
      " [16 15 17]]\n"
     ]
    }
   ],
   "source": [
    "matmul(a,b)"
   ]
  },
  {
   "cell_type": "code",
   "execution_count": 48,
   "id": "4401e606",
   "metadata": {},
   "outputs": [
    {
     "name": "stdout",
     "output_type": "stream",
     "text": [
      "multiplying matrix \n",
      "[[1 2]\n",
      " [4 5]\n",
      " [6 7]] and \n",
      "[[1 1 0]\n",
      " [0 1 1]\n",
      " [1 0 1]] not possible as shapes are incompatible\n"
     ]
    }
   ],
   "source": [
    "c = np.array([[1,2],[4,5],[6,7]]) \n",
    "d = np.array([[1,1,0], [0,1,1], [1,0,1]])\n",
    "\n",
    "matmul(c,d)"
   ]
  },
  {
   "cell_type": "code",
   "execution_count": 49,
   "id": "d4d50a7e",
   "metadata": {},
   "outputs": [
    {
     "name": "stdout",
     "output_type": "stream",
     "text": [
      "[[ 5  7  9]\n",
      " [11 13 15]\n",
      " [ 8 10 12]]\n"
     ]
    }
   ],
   "source": [
    "matmul(b,a)"
   ]
  },
  {
   "cell_type": "code",
   "execution_count": null,
   "id": "4e54632d",
   "metadata": {},
   "outputs": [],
   "source": []
  }
 ],
 "metadata": {
  "kernelspec": {
   "display_name": "Python 3 (ipykernel)",
   "language": "python",
   "name": "python3"
  },
  "language_info": {
   "codemirror_mode": {
    "name": "ipython",
    "version": 3
   },
   "file_extension": ".py",
   "mimetype": "text/x-python",
   "name": "python",
   "nbconvert_exporter": "python",
   "pygments_lexer": "ipython3",
   "version": "3.11.3"
  }
 },
 "nbformat": 4,
 "nbformat_minor": 5
}
