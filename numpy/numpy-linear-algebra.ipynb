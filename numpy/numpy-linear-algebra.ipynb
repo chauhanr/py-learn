{
 "cells": [
  {
   "cell_type": "code",
   "execution_count": 1,
   "id": "50ca6d93",
   "metadata": {},
   "outputs": [],
   "source": [
    "import numpy as np"
   ]
  },
  {
   "cell_type": "markdown",
   "id": "5d8d8530",
   "metadata": {},
   "source": [
    "## Eigean Value vectors"
   ]
  },
  {
   "cell_type": "code",
   "execution_count": 2,
   "id": "3bb2ec5d",
   "metadata": {},
   "outputs": [
    {
     "data": {
      "text/plain": [
       "array([[1, 2],\n",
       "       [3, 4]])"
      ]
     },
     "execution_count": 2,
     "metadata": {},
     "output_type": "execute_result"
    }
   ],
   "source": [
    "a = np.array([[1,2],[3,4]])\n",
    "a"
   ]
  },
  {
   "cell_type": "code",
   "execution_count": 3,
   "id": "d5b536a0",
   "metadata": {},
   "outputs": [],
   "source": [
    "e_val, e_vec = np.linalg.eig(a)"
   ]
  },
  {
   "cell_type": "code",
   "execution_count": 4,
   "id": "10ee544a",
   "metadata": {},
   "outputs": [
    {
     "name": "stdout",
     "output_type": "stream",
     "text": [
      "Eigean Values: [-0.37228132  5.37228132]\n",
      "Eigean Vectors: [[-0.82456484 -0.41597356]\n",
      " [ 0.56576746 -0.90937671]]\n"
     ]
    }
   ],
   "source": [
    "print(f\"Eigean Values: {e_val}\\nEigean Vectors: {e_vec}\")"
   ]
  },
  {
   "cell_type": "code",
   "execution_count": 5,
   "id": "7f5282e7",
   "metadata": {},
   "outputs": [
    {
     "name": "stdout",
     "output_type": "stream",
     "text": [
      "[ 0.30697009 -0.21062466]\n",
      "[ 0.30697009 -0.21062466]\n",
      "True\n"
     ]
    }
   ],
   "source": [
    "# relationship between eigean vectors and values is given by:\n",
    "# e_vec * e_val = A * e_vec\n",
    "\n",
    "b = e_vec[:,0] * e_val[0]\n",
    "print(b)\n",
    "\n",
    "c = a @ e_vec[:,0]\n",
    "print(c)\n",
    "\n",
    "print(np.allclose(b,c)) # compare for equality"
   ]
  },
  {
   "cell_type": "markdown",
   "id": "54697efe",
   "metadata": {},
   "source": [
    "### Problem \n",
    "There are 2200 total people in a fair with children and adults. The admission fee for children is $1.5 and $4 for adults. Total collection in the fare is $ 5050"
   ]
  },
  {
   "cell_type": "code",
   "execution_count": 32,
   "id": "d870e6f1",
   "metadata": {},
   "outputs": [],
   "source": [
    "# here we need to have following variables \n",
    "A = np.array([[1,1],[1.5,4.0]])\n",
    "b = np.array([2200,5050])"
   ]
  },
  {
   "cell_type": "code",
   "execution_count": 35,
   "id": "d5e245de",
   "metadata": {},
   "outputs": [],
   "source": [
    "x = np.linalg.inv(A).dot(b) "
   ]
  },
  {
   "cell_type": "code",
   "execution_count": 36,
   "id": "11a45e66",
   "metadata": {},
   "outputs": [
    {
     "name": "stdout",
     "output_type": "stream",
     "text": [
      "[[1500.]\n",
      " [ 700.]]\n"
     ]
    }
   ],
   "source": [
    "print(x)"
   ]
  },
  {
   "cell_type": "code",
   "execution_count": null,
   "id": "8a3b5bc3",
   "metadata": {},
   "outputs": [],
   "source": [
    "# alternate to use solve method \n",
    "x = np.linalg.solve(A,)"
   ]
  }
 ],
 "metadata": {
  "kernelspec": {
   "display_name": "Python 3 (ipykernel)",
   "language": "python",
   "name": "python3"
  },
  "language_info": {
   "codemirror_mode": {
    "name": "ipython",
    "version": 3
   },
   "file_extension": ".py",
   "mimetype": "text/x-python",
   "name": "python",
   "nbconvert_exporter": "python",
   "pygments_lexer": "ipython3",
   "version": "3.10.9"
  }
 },
 "nbformat": 4,
 "nbformat_minor": 5
}
