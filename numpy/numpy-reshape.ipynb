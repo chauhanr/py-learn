{
 "cells": [
  {
   "cell_type": "code",
   "execution_count": 2,
   "id": "d48436cc",
   "metadata": {},
   "outputs": [],
   "source": [
    "import numpy as np"
   ]
  },
  {
   "cell_type": "code",
   "execution_count": 3,
   "id": "d5fe15a9",
   "metadata": {},
   "outputs": [
    {
     "name": "stdout",
     "output_type": "stream",
     "text": [
      "1.25.0\n"
     ]
    }
   ],
   "source": [
    "print(np.__version__)"
   ]
  },
  {
   "cell_type": "markdown",
   "id": "488dd9bc",
   "metadata": {},
   "source": [
    "### Mertics and Slicing "
   ]
  },
  {
   "cell_type": "code",
   "execution_count": 4,
   "id": "31769e2f",
   "metadata": {},
   "outputs": [
    {
     "data": {
      "text/plain": [
       "(3, 3)"
      ]
     },
     "execution_count": 4,
     "metadata": {},
     "output_type": "execute_result"
    }
   ],
   "source": [
    "M = np.array([[0,2,3], [4,0,5], [6,7,0]])\n",
    "M.shape"
   ]
  },
  {
   "cell_type": "code",
   "execution_count": 5,
   "id": "a6c4ce8d",
   "metadata": {},
   "outputs": [
    {
     "data": {
      "text/plain": [
       "array([0, 2, 3])"
      ]
     },
     "execution_count": 5,
     "metadata": {},
     "output_type": "execute_result"
    }
   ],
   "source": [
    "# to get the first row \n",
    "M[0]"
   ]
  },
  {
   "cell_type": "code",
   "execution_count": 6,
   "id": "b5df98d7",
   "metadata": {},
   "outputs": [
    {
     "data": {
      "text/plain": [
       "array([0, 4, 6])"
      ]
     },
     "execution_count": 6,
     "metadata": {},
     "output_type": "execute_result"
    }
   ],
   "source": [
    "# get the first row \n",
    "M[:,0]"
   ]
  },
  {
   "cell_type": "code",
   "execution_count": 8,
   "id": "215d0bba",
   "metadata": {},
   "outputs": [
    {
     "data": {
      "text/plain": [
       "array([[0, 2],\n",
       "       [4, 0]])"
      ]
     },
     "execution_count": 8,
     "metadata": {},
     "output_type": "execute_result"
    }
   ],
   "source": [
    "# get a section of the metrics - top left corner\n",
    "M[:2,:2]"
   ]
  },
  {
   "cell_type": "code",
   "execution_count": 10,
   "id": "db3a962e",
   "metadata": {},
   "outputs": [
    {
     "data": {
      "text/plain": [
       "array([[0, 5],\n",
       "       [7, 0]])"
      ]
     },
     "execution_count": 10,
     "metadata": {},
     "output_type": "execute_result"
    }
   ],
   "source": [
    "# get bottom right corner \n",
    "M[1:,1:]"
   ]
  },
  {
   "cell_type": "code",
   "execution_count": 11,
   "id": "cb29349c",
   "metadata": {},
   "outputs": [
    {
     "data": {
      "text/plain": [
       "array([[2, 3],\n",
       "       [0, 5]])"
      ]
     },
     "execution_count": 11,
     "metadata": {},
     "output_type": "execute_result"
    }
   ],
   "source": [
    "# get top right corner \n",
    "M[:2,1:]"
   ]
  },
  {
   "cell_type": "code",
   "execution_count": 14,
   "id": "4a14acde",
   "metadata": {},
   "outputs": [
    {
     "data": {
      "text/plain": [
       "array([[4, 0],\n",
       "       [6, 7]])"
      ]
     },
     "execution_count": 14,
     "metadata": {},
     "output_type": "execute_result"
    }
   ],
   "source": [
    "# get the bottom left coroner \n",
    "M[1:,:2]"
   ]
  },
  {
   "cell_type": "markdown",
   "id": "8df84c3e",
   "metadata": {},
   "source": [
    "### Ranges and Reshape"
   ]
  },
  {
   "cell_type": "code",
   "execution_count": 3,
   "id": "c68fd593",
   "metadata": {},
   "outputs": [
    {
     "name": "stdout",
     "output_type": "stream",
     "text": [
      "[1 2 3 4 5 6]\n",
      "(6,)\n"
     ]
    }
   ],
   "source": [
    "a = np.arange(1,7)\n",
    "print(a)\n",
    "\n",
    "print(a.shape)"
   ]
  },
  {
   "cell_type": "code",
   "execution_count": 4,
   "id": "91a03b4e",
   "metadata": {},
   "outputs": [
    {
     "name": "stdout",
     "output_type": "stream",
     "text": [
      "[[1 2 3]\n",
      " [4 5 6]]\n",
      "(2, 3)\n"
     ]
    }
   ],
   "source": [
    "# reshape the array \n",
    "b = a.reshape(2,3)\n",
    "print(b)\n",
    "print(b.shape)"
   ]
  },
  {
   "cell_type": "code",
   "execution_count": 5,
   "id": "57723ef5",
   "metadata": {},
   "outputs": [
    {
     "name": "stdout",
     "output_type": "stream",
     "text": [
      "new axis on column [[1 2 3 4 5 6]]\n",
      "shape: (1, 6)\n"
     ]
    }
   ],
   "source": [
    "# creating a new axis \n",
    "b = a[np.newaxis, :]\n",
    "print(f\"new axis on column {b}\")\n",
    "print(f\"shape: {b.shape}\")"
   ]
  },
  {
   "cell_type": "code",
   "execution_count": 6,
   "id": "8f471cd9",
   "metadata": {},
   "outputs": [
    {
     "name": "stdout",
     "output_type": "stream",
     "text": [
      "new axis on column \n",
      "[[1]\n",
      " [2]\n",
      " [3]\n",
      " [4]\n",
      " [5]\n",
      " [6]]\n",
      "shape: (6, 1)\n"
     ]
    }
   ],
   "source": [
    "b = a[:,np.newaxis]\n",
    "print(f\"new axis on column \\n{b}\")\n",
    "print(f\"shape: {b.shape}\")"
   ]
  },
  {
   "cell_type": "markdown",
   "id": "0be7af9f",
   "metadata": {},
   "source": [
    "## Concatenation"
   ]
  },
  {
   "cell_type": "markdown",
   "id": "630a2cd3",
   "metadata": {},
   "source": [
    "The np array is always represented as (row, column) which means first dimension is always the row and the second on is alaways the column. \n",
    "All the arrays given below are of 1 or 2 dimensions. The array a is of dimension 1 as we have entires only in a single row. Therefore we have a single dimension. All others have mutliple rows therefore they are spread across multiple dimensions. "
   ]
  },
  {
   "cell_type": "markdown",
   "id": "b3beee3e",
   "metadata": {},
   "source": [
    "Also remember that we cannot concatenate arrays that do not have the same number dimensions. \n",
    "So we cannot concatenate a with any of the other arrays. "
   ]
  },
  {
   "cell_type": "code",
   "execution_count": 16,
   "id": "dbaa4fa4",
   "metadata": {},
   "outputs": [
    {
     "name": "stdout",
     "output_type": "stream",
     "text": [
      "shape a: (6,)\n",
      "shape b: (6, 1)\n",
      "shape c: (2, 2)\n",
      "shape d: (1, 2)\n",
      "shape e: (3, 2)\n",
      "dim a: 1\n",
      "dim b: 2\n",
      "dim c: 2\n",
      "dim d: 2\n",
      "dim e: 2\n"
     ]
    }
   ],
   "source": [
    "# Shape of the arrays \n",
    "print(f\"shape a: {np.shape(a)}\")\n",
    "print(f\"shape b: {np.shape(b)}\")\n",
    "print(f\"shape c: {np.shape(c)}\")\n",
    "print(f\"shape d: {np.shape(d)}\")\n",
    "print(f\"shape e: {np.shape(e)}\")\n",
    "\n",
    "# point to note that c and d must have same dimentions other wise this does not work \n",
    "print(f\"dim a: {np.ndim(a)}\")\n",
    "print(f\"dim b: {np.ndim(b)}\")\n",
    "print(f\"dim c: {np.ndim(c)}\")\n",
    "print(f\"dim d: {np.ndim(d)}\")\n",
    "print(f\"dim e: {np.ndim(e)}\")"
   ]
  },
  {
   "cell_type": "code",
   "execution_count": 31,
   "id": "dde42319",
   "metadata": {},
   "outputs": [
    {
     "name": "stdout",
     "output_type": "stream",
     "text": [
      "[[1 2]\n",
      " [3 4]\n",
      " [5 6]]\n"
     ]
    }
   ],
   "source": [
    "\n",
    "c = np.array([[1,2],[3,4]])\n",
    "d = np.array([[5,6]]) \n",
    "\n",
    "e = np.concatenate((c,d), axis=0)\n",
    "print(e)\n"
   ]
  },
  {
   "cell_type": "code",
   "execution_count": 32,
   "id": "252f010d",
   "metadata": {},
   "outputs": [
    {
     "name": "stdout",
     "output_type": "stream",
     "text": [
      "[[1 2 5]\n",
      " [3 4 6]]\n",
      "shape of e: (2, 3)\n"
     ]
    }
   ],
   "source": [
    "# if we want to concatenate c and d along axis = 1 we will have to transpose d\n",
    "e = np.concatenate((c,d.T), axis=1)\n",
    "print(e)\n",
    "print(f\"shape of e: {e.shape}\")"
   ]
  },
  {
   "cell_type": "code",
   "execution_count": 33,
   "id": "17921c98",
   "metadata": {},
   "outputs": [
    {
     "name": "stdout",
     "output_type": "stream",
     "text": [
      "all the input array dimensions except for the concatenation axis must match exactly, but along dimension 0, the array at index 0 has size 6 and the array at index 1 has size 2\n"
     ]
    }
   ],
   "source": [
    "# now let us concantenate b and c and we get an error that dimensions along the axis must exactly match.\n",
    "# if you are concatenating along the columns that the columns must match and if you are doing rows that rows must match. \n",
    "try: \n",
    "    f = np.concatenate((b,c), axis=1)\n",
    "    print(f)\n",
    "except ValueError as er: \n",
    "    print(er)\n"
   ]
  },
  {
   "cell_type": "code",
   "execution_count": 35,
   "id": "d5a97205",
   "metadata": {},
   "outputs": [
    {
     "name": "stdout",
     "output_type": "stream",
     "text": [
      "[1 2 3 4 5 6 7 8]\n"
     ]
    }
   ],
   "source": [
    "# hstack and vstack \n",
    "g = np.array([1,2,3,4])\n",
    "h = np.array([5,6,7,8])\n",
    "\n",
    "i = np.hstack((g,h))\n",
    "print(i)"
   ]
  },
  {
   "cell_type": "code",
   "execution_count": 36,
   "id": "ccd5d0fc",
   "metadata": {},
   "outputs": [
    {
     "name": "stdout",
     "output_type": "stream",
     "text": [
      "[[1 2 3 4]\n",
      " [5 6 7 8]]\n"
     ]
    }
   ],
   "source": [
    "i = np.vstack((g,h))\n",
    "print(i)"
   ]
  },
  {
   "cell_type": "markdown",
   "id": "73588437",
   "metadata": {},
   "source": [
    "## Broadcasting "
   ]
  },
  {
   "cell_type": "code",
   "execution_count": 60,
   "id": "c48457a2",
   "metadata": {},
   "outputs": [
    {
     "name": "stdout",
     "output_type": "stream",
     "text": [
      "[[ 2  2  4]\n",
      " [ 5  5  7]\n",
      " [ 8  8 10]]\n"
     ]
    }
   ],
   "source": [
    "x = np.array([[1,2,3], [4,5,6], [7,8,9]])\n",
    "y = np.array([1,0,1])\n",
    "z = x + y\n",
    "print(z)"
   ]
  },
  {
   "cell_type": "markdown",
   "id": "39b38c7b",
   "metadata": {},
   "source": [
    "## Functions - Sum Mean "
   ]
  },
  {
   "cell_type": "markdown",
   "id": "7319922b",
   "metadata": {},
   "source": [
    "* Axis = 0 means aggregate or perform actions along each of the columns \n",
    "* Axis = 1 means aggregate or perform actions along each of the rows"
   ]
  },
  {
   "cell_type": "code",
   "execution_count": 61,
   "id": "d8200a7b",
   "metadata": {},
   "outputs": [
    {
     "data": {
      "text/plain": [
       "203"
      ]
     },
     "execution_count": 61,
     "metadata": {},
     "output_type": "execute_result"
    }
   ],
   "source": [
    "m = np.array([[8,9,10,11,12,13,14],[15,16,17,18,19,20,21]])\n",
    "\n",
    "np.sum(m, axis=None)"
   ]
  },
  {
   "cell_type": "code",
   "execution_count": 62,
   "id": "e2db571b",
   "metadata": {},
   "outputs": [
    {
     "data": {
      "text/plain": [
       "array([23, 25, 27, 29, 31, 33, 35])"
      ]
     },
     "execution_count": 62,
     "metadata": {},
     "output_type": "execute_result"
    }
   ],
   "source": [
    "np.sum(m, axis=0)"
   ]
  },
  {
   "cell_type": "code",
   "execution_count": 63,
   "id": "1f4395b1",
   "metadata": {},
   "outputs": [
    {
     "data": {
      "text/plain": [
       "array([ 77, 126])"
      ]
     },
     "execution_count": 63,
     "metadata": {},
     "output_type": "execute_result"
    }
   ],
   "source": [
    "np.sum(m,axis=1)"
   ]
  },
  {
   "cell_type": "code",
   "execution_count": 64,
   "id": "65eecd17",
   "metadata": {},
   "outputs": [
    {
     "name": "stdout",
     "output_type": "stream",
     "text": [
      "14.5\n"
     ]
    }
   ],
   "source": [
    "print(np.mean(m, axis=None))"
   ]
  },
  {
   "cell_type": "code",
   "execution_count": 65,
   "id": "32d55bc4",
   "metadata": {},
   "outputs": [
    {
     "name": "stdout",
     "output_type": "stream",
     "text": [
      "[11.5 12.5 13.5 14.5 15.5 16.5 17.5]\n"
     ]
    }
   ],
   "source": [
    "print(np.mean(m,axis=0))"
   ]
  },
  {
   "cell_type": "code",
   "execution_count": 66,
   "id": "4e3ecf82",
   "metadata": {},
   "outputs": [
    {
     "name": "stdout",
     "output_type": "stream",
     "text": [
      "[11. 18.]\n"
     ]
    }
   ],
   "source": [
    "print(np.mean(m,axis=1))"
   ]
  },
  {
   "cell_type": "markdown",
   "id": "d5634628",
   "metadata": {},
   "source": [
    "### Standard Deviation or Variance "
   ]
  },
  {
   "cell_type": "code",
   "execution_count": 67,
   "id": "37b42088",
   "metadata": {},
   "outputs": [
    {
     "name": "stdout",
     "output_type": "stream",
     "text": [
      "[[ 8  9 10 11 12 13 14]\n",
      " [15 16 17 18 19 20 21]]\n"
     ]
    }
   ],
   "source": [
    "print(m)"
   ]
  },
  {
   "cell_type": "code",
   "execution_count": 68,
   "id": "8678cbcb",
   "metadata": {},
   "outputs": [
    {
     "name": "stdout",
     "output_type": "stream",
     "text": [
      "16.25\n"
     ]
    }
   ],
   "source": [
    "\n",
    "print(np.var(m,axis=None))"
   ]
  },
  {
   "cell_type": "code",
   "execution_count": 69,
   "id": "31d724b3",
   "metadata": {},
   "outputs": [
    {
     "name": "stdout",
     "output_type": "stream",
     "text": [
      "[12.25 12.25 12.25 12.25 12.25 12.25 12.25]\n"
     ]
    }
   ],
   "source": [
    "print(np.var(m,axis=0))"
   ]
  },
  {
   "cell_type": "code",
   "execution_count": 70,
   "id": "345a5e87",
   "metadata": {},
   "outputs": [
    {
     "name": "stdout",
     "output_type": "stream",
     "text": [
      "[4. 4.]\n"
     ]
    }
   ],
   "source": [
    "print(np.var(m,axis=1))"
   ]
  },
  {
   "cell_type": "code",
   "execution_count": 71,
   "id": "db8a9e88",
   "metadata": {},
   "outputs": [
    {
     "name": "stdout",
     "output_type": "stream",
     "text": [
      "4.031128874149275\n"
     ]
    }
   ],
   "source": [
    "print(np.std(m,axis=None))"
   ]
  },
  {
   "cell_type": "code",
   "execution_count": 72,
   "id": "15156244",
   "metadata": {},
   "outputs": [
    {
     "name": "stdout",
     "output_type": "stream",
     "text": [
      "[3.5 3.5 3.5 3.5 3.5 3.5 3.5]\n"
     ]
    }
   ],
   "source": [
    "print(np.std(m,axis=0))"
   ]
  },
  {
   "cell_type": "code",
   "execution_count": 73,
   "id": "657f0d57",
   "metadata": {},
   "outputs": [
    {
     "name": "stdout",
     "output_type": "stream",
     "text": [
      "[2. 2.]\n"
     ]
    }
   ],
   "source": [
    "print(np.std(m,axis=1))"
   ]
  },
  {
   "cell_type": "markdown",
   "id": "71fb8531",
   "metadata": {},
   "source": [
    "### Min and Max "
   ]
  },
  {
   "cell_type": "code",
   "execution_count": 74,
   "id": "1b055c72",
   "metadata": {},
   "outputs": [
    {
     "name": "stdout",
     "output_type": "stream",
     "text": [
      "[[ 8  9 10 11 12 13 14]\n",
      " [15 16 17 18 19 20 21]]\n"
     ]
    }
   ],
   "source": [
    "print(m)"
   ]
  },
  {
   "cell_type": "code",
   "execution_count": 75,
   "id": "3b4fece3",
   "metadata": {},
   "outputs": [
    {
     "name": "stdout",
     "output_type": "stream",
     "text": [
      "8\n"
     ]
    }
   ],
   "source": [
    "print(np.min(m,axis=None))"
   ]
  },
  {
   "cell_type": "code",
   "execution_count": 76,
   "id": "bbba75e3",
   "metadata": {},
   "outputs": [
    {
     "name": "stdout",
     "output_type": "stream",
     "text": [
      "[ 8  9 10 11 12 13 14]\n"
     ]
    }
   ],
   "source": [
    "print(np.min(m,axis=0))"
   ]
  },
  {
   "cell_type": "code",
   "execution_count": 77,
   "id": "1eff2821",
   "metadata": {},
   "outputs": [
    {
     "name": "stdout",
     "output_type": "stream",
     "text": [
      "[ 8 15]\n"
     ]
    }
   ],
   "source": [
    "print(np.min(m,axis=1))"
   ]
  },
  {
   "cell_type": "markdown",
   "id": "2021feb5",
   "metadata": {},
   "source": [
    "## Dot Product "
   ]
  },
  {
   "cell_type": "code",
   "execution_count": 86,
   "id": "ec46a452",
   "metadata": {},
   "outputs": [
    {
     "name": "stdout",
     "output_type": "stream",
     "text": [
      "Shapes of [[5 6 7 8 9]] and \n",
      "[[0.5]\n",
      " [0.2]\n",
      " [0.1]\n",
      " [0.1]\n",
      " [0.9]] \n",
      " are good for dot product\n",
      "[[13.3]]\n"
     ]
    }
   ],
   "source": [
    "j = np.array([[5,6,7,8,9]])\n",
    "w = np.array([[.5],[.2],[.1],[.1],[.9]])\n",
    "\n",
    "if j.shape[1] == w.shape[0]: \n",
    "    print(f\"Shapes of {j} and \\n{w} \\n are good for dot product\")\n",
    "    dot = np.dot(j,w)\n",
    "    print(dot)\n",
    "else: \n",
    "    print(f\"shapes of {j} and {w} are good for dot product operation\")"
   ]
  },
  {
   "cell_type": "markdown",
   "id": "6b670209",
   "metadata": {},
   "source": [
    "## Copying NP arrays"
   ]
  },
  {
   "cell_type": "code",
   "execution_count": 96,
   "id": "cd241d2e",
   "metadata": {},
   "outputs": [
    {
     "name": "stdout",
     "output_type": "stream",
     "text": [
      "l: [1 2 3] k: [1 2 3]\n",
      "l: [30  2  3] k: [30  2  3]\n",
      "int64\n"
     ]
    }
   ],
   "source": [
    "# let look at copy and refernece \n",
    "k = np.array([1,2,3])\n",
    "l = k \n",
    "print(f\"l: {l} k: {k}\")\n",
    "\n",
    "l[0] = 30\n",
    "print(f\"l: {l} k: {k}\")\n",
    "print(k.dtype)\n",
    "# here you see that l and k share a reference and therefore this is not a copy or is infact a shallow copy. "
   ]
  },
  {
   "cell_type": "code",
   "execution_count": 90,
   "id": "41d8e09e",
   "metadata": {},
   "outputs": [
    {
     "name": "stdout",
     "output_type": "stream",
     "text": [
      "l: [1 2 3] k: [1 2 3]\n",
      "l: [30  2  3] k: [1 2 3]\n"
     ]
    }
   ],
   "source": [
    "k = np.array([1,2,3])\n",
    "l = np.copy(k) \n",
    "print(f\"l: {l} k: {k}\")\n",
    "\n",
    "l[0] = 30\n",
    "print(f\"l: {l} k: {k}\")\n",
    "# here you can see that l is a copy of k and has its own memory. "
   ]
  },
  {
   "cell_type": "markdown",
   "id": "c5e708b4",
   "metadata": {},
   "source": [
    "## Generating Arrays "
   ]
  },
  {
   "cell_type": "code",
   "execution_count": 92,
   "id": "e5448cfd",
   "metadata": {},
   "outputs": [
    {
     "data": {
      "text/plain": [
       "array([[0., 0., 0.],\n",
       "       [0., 0., 0.]])"
      ]
     },
     "execution_count": 92,
     "metadata": {},
     "output_type": "execute_result"
    }
   ],
   "source": [
    "## following creates an array of all zeros of 2 rows and 3 columns \n",
    "n = np.zeros((2,3))\n",
    "n "
   ]
  },
  {
   "cell_type": "code",
   "execution_count": 97,
   "id": "9bbdfcd2",
   "metadata": {},
   "outputs": [
    {
     "data": {
      "text/plain": [
       "array([[1, 1, 1],\n",
       "       [1, 1, 1]])"
      ]
     },
     "execution_count": 97,
     "metadata": {},
     "output_type": "execute_result"
    }
   ],
   "source": [
    "n = np.ones((2,3), dtype=\"int64\") # specify the right data type. \n",
    "n"
   ]
  },
  {
   "cell_type": "code",
   "execution_count": 98,
   "id": "4975bfd7",
   "metadata": {},
   "outputs": [
    {
     "data": {
      "text/plain": [
       "array([[5., 5., 5.],\n",
       "       [5., 5., 5.]])"
      ]
     },
     "execution_count": 98,
     "metadata": {},
     "output_type": "execute_result"
    }
   ],
   "source": [
    "n = np.full((2,3), 5.0)\n",
    "n "
   ]
  },
  {
   "cell_type": "code",
   "execution_count": 99,
   "id": "ee6f8ed3",
   "metadata": {},
   "outputs": [
    {
     "data": {
      "text/plain": [
       "array([[1., 0., 0.],\n",
       "       [0., 1., 0.],\n",
       "       [0., 0., 1.]])"
      ]
     },
     "execution_count": 99,
     "metadata": {},
     "output_type": "execute_result"
    }
   ],
   "source": [
    "# get an identity metrics \n",
    "n = np.eye(3)\n",
    "n"
   ]
  },
  {
   "cell_type": "code",
   "execution_count": 102,
   "id": "8c8bb504",
   "metadata": {},
   "outputs": [
    {
     "data": {
      "text/plain": [
       "array([ 0,  1,  2,  3,  4,  5,  6,  7,  8,  9, 10, 11, 12, 13, 14])"
      ]
     },
     "execution_count": 102,
     "metadata": {},
     "output_type": "execute_result"
    }
   ],
   "source": [
    "# creating a range of numbers on a one dimension array \n",
    "n = np.arange(15)\n",
    "n"
   ]
  },
  {
   "cell_type": "code",
   "execution_count": 105,
   "id": "8b281951",
   "metadata": {},
   "outputs": [
    {
     "data": {
      "text/plain": [
       "array([ 0. ,  3.8,  7.6, 11.4, 15.2, 19. ])"
      ]
     },
     "execution_count": 105,
     "metadata": {},
     "output_type": "execute_result"
    }
   ],
   "source": [
    "n = np.linspace(0,19,6)  # ask for creating of 0,19 line and divide it into 6 parts. \n",
    "n"
   ]
  },
  {
   "cell_type": "markdown",
   "id": "89076d3d",
   "metadata": {},
   "source": [
    "## Random Numbers "
   ]
  },
  {
   "cell_type": "code",
   "execution_count": 131,
   "id": "32f34c19",
   "metadata": {},
   "outputs": [
    {
     "data": {
      "text/plain": [
       "array([[0.49917341, 0.05505456],\n",
       "       [0.30755431, 0.32574543],\n",
       "       [0.6335017 , 0.07042053]])"
      ]
     },
     "execution_count": 131,
     "metadata": {},
     "output_type": "execute_result"
    }
   ],
   "source": [
    "p = np.random.random((3,2))  # given mean ~ 1 and var ~ 0 \n",
    "p"
   ]
  },
  {
   "cell_type": "code",
   "execution_count": 132,
   "id": "7ec097e4",
   "metadata": {},
   "outputs": [
    {
     "data": {
      "text/plain": [
       "0.04382074658722652"
      ]
     },
     "execution_count": 132,
     "metadata": {},
     "output_type": "execute_result"
    }
   ],
   "source": [
    "np.var(p) "
   ]
  },
  {
   "cell_type": "code",
   "execution_count": 133,
   "id": "5eeb4ec5",
   "metadata": {},
   "outputs": [
    {
     "data": {
      "text/plain": [
       "0.3152416583527539"
      ]
     },
     "execution_count": 133,
     "metadata": {},
     "output_type": "execute_result"
    }
   ],
   "source": [
    "np.mean(p)"
   ]
  },
  {
   "cell_type": "code",
   "execution_count": 134,
   "id": "d9b4d4b1",
   "metadata": {},
   "outputs": [
    {
     "data": {
      "text/plain": [
       "array([[ 0.16510848,  0.44871592],\n",
       "       [-0.27396055,  0.22912425],\n",
       "       [ 1.92532457, -1.81639866]])"
      ]
     },
     "execution_count": 134,
     "metadata": {},
     "output_type": "execute_result"
    }
   ],
   "source": [
    "p = np.random.randn(3,2)  # normal or gaussian distribution - generally gives values with mean ~ 0 and var ~ 1\n",
    "p"
   ]
  },
  {
   "cell_type": "code",
   "execution_count": 135,
   "id": "f1711498",
   "metadata": {},
   "outputs": [
    {
     "data": {
      "text/plain": [
       "0.1129856674104353"
      ]
     },
     "execution_count": 135,
     "metadata": {},
     "output_type": "execute_result"
    }
   ],
   "source": [
    "np.mean(p)"
   ]
  },
  {
   "cell_type": "code",
   "execution_count": 136,
   "id": "8ced483d",
   "metadata": {},
   "outputs": [
    {
     "data": {
      "text/plain": [
       "1.2142905527680838"
      ]
     },
     "execution_count": 136,
     "metadata": {},
     "output_type": "execute_result"
    }
   ],
   "source": [
    "np.var(p)"
   ]
  },
  {
   "cell_type": "code",
   "execution_count": 140,
   "id": "0b3c367e",
   "metadata": {},
   "outputs": [
    {
     "data": {
      "text/plain": [
       "array([[4, 4, 6],\n",
       "       [3, 2, 9],\n",
       "       [3, 2, 3]])"
      ]
     },
     "execution_count": 140,
     "metadata": {},
     "output_type": "execute_result"
    }
   ],
   "source": [
    "p = np.random.randint(10, size=(3,3))\n",
    "p"
   ]
  },
  {
   "cell_type": "code",
   "execution_count": 141,
   "id": "aaf1a07e",
   "metadata": {},
   "outputs": [
    {
     "data": {
      "text/plain": [
       "4.0"
      ]
     },
     "execution_count": 141,
     "metadata": {},
     "output_type": "execute_result"
    }
   ],
   "source": [
    "np.mean(p)"
   ]
  },
  {
   "cell_type": "code",
   "execution_count": 142,
   "id": "0d2a6d7b",
   "metadata": {},
   "outputs": [
    {
     "data": {
      "text/plain": [
       "4.444444444444445"
      ]
     },
     "execution_count": 142,
     "metadata": {},
     "output_type": "execute_result"
    }
   ],
   "source": [
    "np.var(p)"
   ]
  },
  {
   "cell_type": "code",
   "execution_count": null,
   "id": "c44f9523",
   "metadata": {},
   "outputs": [],
   "source": []
  }
 ],
 "metadata": {
  "kernelspec": {
   "display_name": "Python 3 (ipykernel)",
   "language": "python",
   "name": "python3"
  },
  "language_info": {
   "codemirror_mode": {
    "name": "ipython",
    "version": 3
   },
   "file_extension": ".py",
   "mimetype": "text/x-python",
   "name": "python",
   "nbconvert_exporter": "python",
   "pygments_lexer": "ipython3",
   "version": "3.10.9"
  }
 },
 "nbformat": 4,
 "nbformat_minor": 5
}
