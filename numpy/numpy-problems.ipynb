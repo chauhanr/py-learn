{
 "cells": [
  {
   "cell_type": "code",
   "execution_count": 8,
   "id": "315a313e",
   "metadata": {},
   "outputs": [],
   "source": [
    "import numpy as np \n",
    "from numpy import ndarray"
   ]
  },
  {
   "cell_type": "code",
   "execution_count": 45,
   "id": "0f04a1f3",
   "metadata": {},
   "outputs": [],
   "source": [
    "def matmul(a: ndarray, b: ndarray): \n",
    "    # Number of columns of a must be equal to the number of rows of b.\n",
    "    if a.shape[1] == b.shape[0]: \n",
    "       c = np.matmul(a,b)\n",
    "       print(c)\n",
    "    else: \n",
    "        print(f\"multiplying matrix \\n{a} and \\n{b} not possible as shapes are incompatible\")"
   ]
  },
  {
   "cell_type": "code",
   "execution_count": 46,
   "id": "3334cf12",
   "metadata": {},
   "outputs": [],
   "source": [
    "a = np.array([[1,2,3],[4,5,6],[7,8,9]]) \n",
    "b = np.array([[1,1,0],[0,1,1],[1,0,1]])"
   ]
  },
  {
   "cell_type": "code",
   "execution_count": 47,
   "id": "6047d4ae",
   "metadata": {},
   "outputs": [
    {
     "name": "stdout",
     "output_type": "stream",
     "text": [
      "[[ 4  3  5]\n",
      " [10  9 11]\n",
      " [16 15 17]]\n"
     ]
    }
   ],
   "source": [
    "matmul(a,b)"
   ]
  },
  {
   "cell_type": "code",
   "execution_count": 48,
   "id": "5fbfb787",
   "metadata": {},
   "outputs": [
    {
     "name": "stdout",
     "output_type": "stream",
     "text": [
      "multiplying matrix \n",
      "[[1 2]\n",
      " [4 5]\n",
      " [6 7]] and \n",
      "[[1 1 0]\n",
      " [0 1 1]\n",
      " [1 0 1]] not possible as shapes are incompatible\n"
     ]
    }
   ],
   "source": [
    "c = np.array([[1,2],[4,5],[6,7]]) \n",
    "d = np.array([[1,1,0], [0,1,1], [1,0,1]])\n",
    "\n",
    "matmul(c,d)"
   ]
  },
  {
   "cell_type": "code",
   "execution_count": 49,
   "id": "7c969913",
   "metadata": {},
   "outputs": [
    {
     "name": "stdout",
     "output_type": "stream",
     "text": [
      "[[ 5  7  9]\n",
      " [11 13 15]\n",
      " [ 8 10 12]]\n"
     ]
    }
   ],
   "source": [
    "matmul(b,a)"
   ]
  },
  {
   "cell_type": "code",
   "execution_count": 51,
   "id": "acfa6cde",
   "metadata": {},
   "outputs": [
    {
     "name": "stdout",
     "output_type": "stream",
     "text": [
      "[[ 14   6]\n",
      " [-21   2]]\n"
     ]
    }
   ],
   "source": [
    "e = np.array([[1,2,1,2],[4,1,-1,-4]])\n",
    "f = np.array([[0,3], \n",
    "              [1,-1], \n",
    "              [2,1], \n",
    "              [5,2]])\n",
    "\n",
    "matmul(e,f)"
   ]
  },
  {
   "cell_type": "code",
   "execution_count": 52,
   "id": "0308566d",
   "metadata": {},
   "outputs": [
    {
     "name": "stdout",
     "output_type": "stream",
     "text": [
      "[[ 12   3  -3 -12]\n",
      " [ -3   1   2   6]\n",
      " [  6   5   1   0]\n",
      " [ 13  12   3   2]]\n"
     ]
    }
   ],
   "source": [
    "matmul(f,e)"
   ]
  },
  {
   "cell_type": "code",
   "execution_count": null,
   "id": "865960a3",
   "metadata": {},
   "outputs": [],
   "source": []
  }
 ],
 "metadata": {
  "kernelspec": {
   "display_name": "Python 3 (ipykernel)",
   "language": "python",
   "name": "python3"
  },
  "language_info": {
   "codemirror_mode": {
    "name": "ipython",
    "version": 3
   },
   "file_extension": ".py",
   "mimetype": "text/x-python",
   "name": "python",
   "nbconvert_exporter": "python",
   "pygments_lexer": "ipython3",
   "version": "3.11.3"
  }
 },
 "nbformat": 4,
 "nbformat_minor": 5
}
