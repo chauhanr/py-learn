{
 "cells": [
  {
   "cell_type": "code",
   "execution_count": 1,
   "id": "315a313e",
   "metadata": {},
   "outputs": [],
   "source": [
    "import numpy as np \n",
    "from numpy import ndarray"
   ]
  },
  {
   "cell_type": "code",
   "execution_count": 20,
   "id": "0f04a1f3",
   "metadata": {},
   "outputs": [],
   "source": [
    "def matmul(a: ndarray, b: ndarray) -> ndarray: \n",
    "    # Number of columns of a must be equal to the number of rows of b.\n",
    "    if a.shape[1] == b.shape[0]: \n",
    "       c = np.matmul(a,b)\n",
    "       #print(c)\n",
    "       return c\n",
    "    else: \n",
    "        print(f\"multiplying matrix \\n{a} and \\n{b} not possible as shapes are incompatible\")\n",
    "        return None"
   ]
  },
  {
   "cell_type": "code",
   "execution_count": 21,
   "id": "3334cf12",
   "metadata": {},
   "outputs": [],
   "source": [
    "a = np.array([[1,2,3],[4,5,6],[7,8,9]]) \n",
    "b = np.array([[1,1,0],[0,1,1],[1,0,1]])"
   ]
  },
  {
   "cell_type": "code",
   "execution_count": 22,
   "id": "6047d4ae",
   "metadata": {},
   "outputs": [
    {
     "name": "stdout",
     "output_type": "stream",
     "text": [
      "[[ 4  3  5]\n",
      " [10  9 11]\n",
      " [16 15 17]]\n"
     ]
    }
   ],
   "source": [
    "print(matmul(a,b))"
   ]
  },
  {
   "cell_type": "code",
   "execution_count": 23,
   "id": "5fbfb787",
   "metadata": {},
   "outputs": [
    {
     "name": "stdout",
     "output_type": "stream",
     "text": [
      "multiplying matrix \n",
      "[[1 2]\n",
      " [4 5]\n",
      " [6 7]] and \n",
      "[[1 1 0]\n",
      " [0 1 1]\n",
      " [1 0 1]] not possible as shapes are incompatible\n",
      "None\n"
     ]
    }
   ],
   "source": [
    "c = np.array([[1,2],[4,5],[6,7]]) \n",
    "d = np.array([[1,1,0], [0,1,1], [1,0,1]])\n",
    "\n",
    "print(matmul(c,d))"
   ]
  },
  {
   "cell_type": "code",
   "execution_count": 24,
   "id": "7c969913",
   "metadata": {},
   "outputs": [
    {
     "name": "stdout",
     "output_type": "stream",
     "text": [
      "[[ 5  7  9]\n",
      " [11 13 15]\n",
      " [ 8 10 12]]\n"
     ]
    }
   ],
   "source": [
    "print(matmul(b,a))"
   ]
  },
  {
   "cell_type": "code",
   "execution_count": 25,
   "id": "acfa6cde",
   "metadata": {},
   "outputs": [
    {
     "name": "stdout",
     "output_type": "stream",
     "text": [
      "[[ 14   6]\n",
      " [-21   2]]\n"
     ]
    }
   ],
   "source": [
    "e = np.array([[1,2,1,2],[4,1,-1,-4]])\n",
    "f = np.array([[0,3], \n",
    "              [1,-1], \n",
    "              [2,1], \n",
    "              [5,2]])\n",
    "\n",
    "print(matmul(e,f))"
   ]
  },
  {
   "cell_type": "code",
   "execution_count": 26,
   "id": "0308566d",
   "metadata": {},
   "outputs": [
    {
     "data": {
      "text/plain": [
       "array([[ 12,   3,  -3, -12],\n",
       "       [ -3,   1,   2,   6],\n",
       "       [  6,   5,   1,   0],\n",
       "       [ 13,  12,   3,   2]])"
      ]
     },
     "execution_count": 26,
     "metadata": {},
     "output_type": "execute_result"
    }
   ],
   "source": [
    "matmul(f,e)"
   ]
  },
  {
   "cell_type": "code",
   "execution_count": 27,
   "id": "865960a3",
   "metadata": {},
   "outputs": [
    {
     "data": {
      "text/plain": [
       "array([[1.],\n",
       "       [1.],\n",
       "       [1.]])"
      ]
     },
     "execution_count": 27,
     "metadata": {},
     "output_type": "execute_result"
    }
   ],
   "source": [
    "\"\"\"\n",
    "Solving the series of equations \n",
    "x1 + x2 + x3 = 3 \n",
    "x1 - x2 + 2x3 = 2 \n",
    "     x2 + x3 = 2 \n",
    "\n",
    "    ans = inv(X) x Y \n",
    "    This can be solved if X is not a singular array which means: \n",
    "    2 equations in X is not a linear combination of another array\n",
    "\"\"\"\n",
    "\n",
    "x = np.array([[1,1,1], [1,-1,2],[0,1,1]])\n",
    "y = np.array([[3],[2],[2]])\n",
    "\n",
    "matmul(np.linalg.inv(x), y) "
   ]
  },
  {
   "cell_type": "code",
   "execution_count": 31,
   "id": "70452b2b",
   "metadata": {},
   "outputs": [
    {
     "data": {
      "text/plain": [
       "array([[0.96153846],\n",
       "       [0.23076923]])"
      ]
     },
     "execution_count": 31,
     "metadata": {},
     "output_type": "execute_result"
    }
   ],
   "source": [
    "x1 = np.array([[4,5], [2, -4]])\n",
    "x2 = np.array([[5],[1]])\n",
    "\n",
    "ans = matmul (np.linalg.inv(x1), x2) \n",
    "ans"
   ]
  },
  {
   "cell_type": "markdown",
   "id": "65040ffe",
   "metadata": {},
   "source": []
  },
  {
   "cell_type": "code",
   "execution_count": 33,
   "id": "472508e5",
   "metadata": {},
   "outputs": [
    {
     "name": "stdout",
     "output_type": "stream",
     "text": [
      "AB = [[2 3]\n",
      " [2 5]]\n",
      "BA = [[ 6  4  2]\n",
      " [-2  0  2]\n",
      " [ 3  2  1]]\n"
     ]
    }
   ],
   "source": [
    "x3 = np.array([[1,2,3], [3, 2, 1]])\n",
    "x4 = np.array([[0,2],[1,-1],[0,1]])\n",
    "\n",
    "ans = matmul (x3,x4) \n",
    "print(f\"AB = {ans}\")\n",
    "\n",
    "print(f\"BA = {matmul(x4,x3)}\")"
   ]
  },
  {
   "cell_type": "code",
   "execution_count": 39,
   "id": "f9aed091",
   "metadata": {},
   "outputs": [],
   "source": [
    "def isSingularMatrix(a: ndarray) -> bool: \n",
    "    det = np.linalg.det(a)\n",
    "    if det == 0.0:\n",
    "        return True\n",
    "    else: \n",
    "        return False"
   ]
  },
  {
   "cell_type": "code",
   "execution_count": 43,
   "id": "2dcfae81",
   "metadata": {},
   "outputs": [
    {
     "name": "stdout",
     "output_type": "stream",
     "text": [
      "Matrix [[ 1  1  1]\n",
      " [ 1 -1  2]\n",
      " [ 2  0  3]] is sigunlar\n"
     ]
    }
   ],
   "source": [
    "a = np.array([[1,1,1],[1, -1, 2],[2,0,3]])\n",
    "\n",
    "if isSingularMatrix(a) : \n",
    "    print(f\"Matrix {a} is sigunlar\")\n",
    "else: \n",
    "    print(f\"Matrix {a} is solvable\")"
   ]
  },
  {
   "cell_type": "code",
   "execution_count": 47,
   "id": "8a9a02e5",
   "metadata": {},
   "outputs": [
    {
     "data": {
      "text/plain": [
       "array([[ 1,  1,  2],\n",
       "       [ 1, -1,  0],\n",
       "       [ 1,  2,  3]])"
      ]
     },
     "execution_count": 47,
     "metadata": {},
     "output_type": "execute_result"
    }
   ],
   "source": [
    "# transpose is a function of np itself \n",
    "at = a.T\n",
    "at"
   ]
  },
  {
   "cell_type": "code",
   "execution_count": 68,
   "id": "78ef039b",
   "metadata": {},
   "outputs": [
    {
     "name": "stdout",
     "output_type": "stream",
     "text": [
      "AAInverse is identity: True AInverseA is identity True\n"
     ]
    }
   ],
   "source": [
    "s = x.shape[0]\n",
    "id = np.eye(s)\n",
    "\n",
    "m = matmul(x, np.linalg.inv(x))\n",
    "mr = matmul(np.linalg.inv(x), x)\n",
    "# the multiplication of AA(Inverse) is the identity metric\n",
    "print(f\"AAInverse is identity: {np.allclose(id,m)} AInverseA is identity {np.allclose(m,id)}\")"
   ]
  },
  {
   "cell_type": "code",
   "execution_count": null,
   "id": "9529ad58",
   "metadata": {},
   "outputs": [],
   "source": []
  }
 ],
 "metadata": {
  "kernelspec": {
   "display_name": "Python 3 (ipykernel)",
   "language": "python",
   "name": "python3"
  },
  "language_info": {
   "codemirror_mode": {
    "name": "ipython",
    "version": 3
   },
   "file_extension": ".py",
   "mimetype": "text/x-python",
   "name": "python",
   "nbconvert_exporter": "python",
   "pygments_lexer": "ipython3",
   "version": "3.11.4"
  }
 },
 "nbformat": 4,
 "nbformat_minor": 5
}
