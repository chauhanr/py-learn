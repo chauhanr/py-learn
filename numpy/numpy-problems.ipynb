{
 "cells": [
  {
   "cell_type": "code",
   "execution_count": 1,
   "id": "315a313e",
   "metadata": {},
   "outputs": [],
   "source": [
    "import numpy as np \n",
    "from numpy import ndarray"
   ]
  },
  {
   "cell_type": "code",
   "execution_count": 2,
   "id": "0f04a1f3",
   "metadata": {},
   "outputs": [],
   "source": [
    "def matmul(a: ndarray, b: ndarray) -> ndarray: \n",
    "    # Number of columns of a must be equal to the number of rows of b.\n",
    "    if a.shape[1] == b.shape[0]: \n",
    "       c = np.matmul(a,b)\n",
    "       #print(c)\n",
    "       return c\n",
    "    else: \n",
    "        print(f\"multiplying matrix \\n{a} and \\n{b} not possible as shapes are incompatible\")\n",
    "        return None"
   ]
  },
  {
   "cell_type": "code",
   "execution_count": 3,
   "id": "3334cf12",
   "metadata": {},
   "outputs": [],
   "source": [
    "a = np.array([[1,2,3],[4,5,6],[7,8,9]]) \n",
    "b = np.array([[1,1,0],[0,1,1],[1,0,1]])"
   ]
  },
  {
   "cell_type": "code",
   "execution_count": 4,
   "id": "6047d4ae",
   "metadata": {},
   "outputs": [
    {
     "name": "stdout",
     "output_type": "stream",
     "text": [
      "[[ 4  3  5]\n",
      " [10  9 11]\n",
      " [16 15 17]]\n"
     ]
    }
   ],
   "source": [
    "print(matmul(a,b))"
   ]
  },
  {
   "cell_type": "code",
   "execution_count": 5,
   "id": "5fbfb787",
   "metadata": {},
   "outputs": [
    {
     "name": "stdout",
     "output_type": "stream",
     "text": [
      "multiplying matrix \n",
      "[[1 2]\n",
      " [4 5]\n",
      " [6 7]] and \n",
      "[[1 1 0]\n",
      " [0 1 1]\n",
      " [1 0 1]] not possible as shapes are incompatible\n",
      "None\n"
     ]
    }
   ],
   "source": [
    "c = np.array([[1,2],[4,5],[6,7]]) \n",
    "d = np.array([[1,1,0], [0,1,1], [1,0,1]])\n",
    "\n",
    "print(matmul(c,d))"
   ]
  },
  {
   "cell_type": "code",
   "execution_count": 6,
   "id": "7c969913",
   "metadata": {},
   "outputs": [
    {
     "name": "stdout",
     "output_type": "stream",
     "text": [
      "[[ 5  7  9]\n",
      " [11 13 15]\n",
      " [ 8 10 12]]\n"
     ]
    }
   ],
   "source": [
    "print(matmul(b,a))"
   ]
  },
  {
   "cell_type": "code",
   "execution_count": 7,
   "id": "acfa6cde",
   "metadata": {},
   "outputs": [
    {
     "name": "stdout",
     "output_type": "stream",
     "text": [
      "[[ 14   6]\n",
      " [-21   2]]\n"
     ]
    }
   ],
   "source": [
    "e = np.array([[1,2,1,2],[4,1,-1,-4]])\n",
    "f = np.array([[0,3], \n",
    "              [1,-1], \n",
    "              [2,1], \n",
    "              [5,2]])\n",
    "\n",
    "print(matmul(e,f))"
   ]
  },
  {
   "cell_type": "code",
   "execution_count": 8,
   "id": "0308566d",
   "metadata": {},
   "outputs": [
    {
     "data": {
      "text/plain": [
       "array([[ 12,   3,  -3, -12],\n",
       "       [ -3,   1,   2,   6],\n",
       "       [  6,   5,   1,   0],\n",
       "       [ 13,  12,   3,   2]])"
      ]
     },
     "execution_count": 8,
     "metadata": {},
     "output_type": "execute_result"
    }
   ],
   "source": [
    "matmul(f,e)"
   ]
  },
  {
   "cell_type": "code",
   "execution_count": 9,
   "id": "865960a3",
   "metadata": {},
   "outputs": [
    {
     "data": {
      "text/plain": [
       "array([[1.],\n",
       "       [1.],\n",
       "       [1.]])"
      ]
     },
     "execution_count": 9,
     "metadata": {},
     "output_type": "execute_result"
    }
   ],
   "source": [
    "\"\"\"\n",
    "Solving the series of equations \n",
    "x1 + x2 + x3 = 3 \n",
    "x1 - x2 + 2x3 = 2 \n",
    "     x2 + x3 = 2 \n",
    "\n",
    "    ans = inv(X) x Y \n",
    "    This can be solved if X is not a singular array which means: \n",
    "    2 equations in X is not a linear combination of another array\n",
    "\"\"\"\n",
    "\n",
    "x = np.array([[1,1,1], [1,-1,2],[0,1,1]])\n",
    "y = np.array([[3],[2],[2]])\n",
    "\n",
    "matmul(np.linalg.inv(x), y) "
   ]
  },
  {
   "cell_type": "code",
   "execution_count": 10,
   "id": "70452b2b",
   "metadata": {},
   "outputs": [
    {
     "data": {
      "text/plain": [
       "array([[0.96153846],\n",
       "       [0.23076923]])"
      ]
     },
     "execution_count": 10,
     "metadata": {},
     "output_type": "execute_result"
    }
   ],
   "source": [
    "x1 = np.array([[4,5], [2, -4]])\n",
    "x2 = np.array([[5],[1]])\n",
    "\n",
    "ans = matmul (np.linalg.inv(x1), x2) \n",
    "ans"
   ]
  },
  {
   "cell_type": "markdown",
   "id": "65040ffe",
   "metadata": {},
   "source": []
  },
  {
   "cell_type": "code",
   "execution_count": 11,
   "id": "472508e5",
   "metadata": {},
   "outputs": [
    {
     "name": "stdout",
     "output_type": "stream",
     "text": [
      "AB = [[2 3]\n",
      " [2 5]]\n",
      "BA = [[ 6  4  2]\n",
      " [-2  0  2]\n",
      " [ 3  2  1]]\n"
     ]
    }
   ],
   "source": [
    "x3 = np.array([[1,2,3], [3, 2, 1]])\n",
    "x4 = np.array([[0,2],[1,-1],[0,1]])\n",
    "\n",
    "ans = matmul (x3,x4) \n",
    "print(f\"AB = {ans}\")\n",
    "\n",
    "print(f\"BA = {matmul(x4,x3)}\")"
   ]
  },
  {
   "cell_type": "code",
   "execution_count": 12,
   "id": "f9aed091",
   "metadata": {},
   "outputs": [],
   "source": [
    "def isSingularMatrix(a: ndarray) -> bool: \n",
    "    det = np.linalg.det(a)\n",
    "    if det == 0.0:\n",
    "        return True\n",
    "    else: \n",
    "        return False"
   ]
  },
  {
   "cell_type": "code",
   "execution_count": 13,
   "id": "2dcfae81",
   "metadata": {},
   "outputs": [
    {
     "name": "stdout",
     "output_type": "stream",
     "text": [
      "Matrix [[ 1  1  1]\n",
      " [ 1 -1  2]\n",
      " [ 2  0  3]] is sigunlar\n"
     ]
    }
   ],
   "source": [
    "a = np.array([[1,1,1],[1, -1, 2],[2,0,3]])\n",
    "\n",
    "if isSingularMatrix(a) : \n",
    "    print(f\"Matrix {a} is sigunlar\")\n",
    "else: \n",
    "    print(f\"Matrix {a} is solvable\")"
   ]
  },
  {
   "cell_type": "code",
   "execution_count": 14,
   "id": "8a9a02e5",
   "metadata": {},
   "outputs": [
    {
     "name": "stdout",
     "output_type": "stream",
     "text": [
      "Solution to the equations is:\n",
      " [[ 2.44537815]\n",
      " [-3.28571429]\n",
      " [ 1.19327731]]\n"
     ]
    }
   ],
   "source": [
    "j = np.array([[2,3,5],[4,-2,-7],[9,5,-3]])\n",
    "k = np.array([[1], [8],[2]])\n",
    "\n",
    "if not(isSingularMatrix(j)): \n",
    "    l = matmul(np.linalg.inv(j), k)\n",
    "    print(f\"Solution to the equations is:\\n {l}\")\n",
    "else:\n",
    "    print(f\"metric: {j} \\nis singular\")"
   ]
  },
  {
   "cell_type": "code",
   "execution_count": 15,
   "id": "908160c6",
   "metadata": {},
   "outputs": [
    {
     "name": "stdout",
     "output_type": "stream",
     "text": [
      "[[ -0.8125   -1.125    -2.875  ]\n",
      " [ -1.9375   -3.875   -11.625  ]\n",
      " [  2.59375   4.4375   12.5625 ]]\n"
     ]
    }
   ],
   "source": [
    "# important formula when the matrix A is not square but we need solve for Ax=b  x = INV(T(A).A).T(A).b \n",
    "# here T(A) is transpose of A INV(A) is INV of A\n",
    "\n",
    "l = np.array(([1,2,3],[3,4,5]))\n",
    "o = np.array(([2,3,8],[1,1,2]))\n",
    "lt = np.transpose(l)\n",
    "\n",
    "ltli = np.linalg.inv(matmul(lt,l))\n",
    "ltlilt = matmul(ltli, lt)\n",
    "ans = matmul(ltlilt, o)\n",
    "print(ans)\n"
   ]
  },
  {
   "cell_type": "code",
   "execution_count": 16,
   "id": "1331b96e",
   "metadata": {},
   "outputs": [
    {
     "name": "stdout",
     "output_type": "stream",
     "text": [
      "[[-0.16666667  0.33333333]\n",
      " [ 0.5         0.        ]]\n"
     ]
    }
   ],
   "source": [
    "a = np.array([[0,2],[3,1]])\n",
    "ai = np.linalg.inv(a)\n",
    "\n",
    "print(ai)"
   ]
  },
  {
   "cell_type": "code",
   "execution_count": 18,
   "id": "80861684",
   "metadata": {},
   "outputs": [
    {
     "name": "stdout",
     "output_type": "stream",
     "text": [
      "0.0\n"
     ]
    }
   ],
   "source": [
    "# given metric below find the inverse \n",
    "x = np.array([[2,3,4],[3,4,5],[4,5,6]])\n",
    "xi = np.linalg.det(x)\n",
    "print(xi)  # since the det of a matrix is 0 then it is not invertible and is singular. "
   ]
  },
  {
   "cell_type": "code",
   "execution_count": 22,
   "id": "bc777a09",
   "metadata": {},
   "outputs": [
    {
     "name": "stdout",
     "output_type": "stream",
     "text": [
      "1.0\n"
     ]
    }
   ],
   "source": [
    "y = np.array([[1,0,1,0],[0,1,1,0],[1,1,0,1],[1,1,1,0]])\n",
    "yd = np.linalg.det(y)\n",
    "print(yd)"
   ]
  },
  {
   "cell_type": "code",
   "execution_count": 24,
   "id": "b5dfe0c0",
   "metadata": {},
   "outputs": [
    {
     "name": "stdout",
     "output_type": "stream",
     "text": [
      "[[ 0. -1.  0.  1.]\n",
      " [-1.  0.  0.  1.]\n",
      " [ 1.  1. -0. -1.]\n",
      " [ 1.  1.  1. -2.]]\n"
     ]
    }
   ],
   "source": [
    "yi = np.linalg.inv(y)\n",
    "print(yi)"
   ]
  },
  {
   "cell_type": "code",
   "execution_count": null,
   "id": "2955a103",
   "metadata": {},
   "outputs": [],
   "source": []
  }
 ],
 "metadata": {
  "kernelspec": {
   "display_name": "Python 3 (ipykernel)",
   "language": "python",
   "name": "python3"
  },
  "language_info": {
   "codemirror_mode": {
    "name": "ipython",
    "version": 3
   },
   "file_extension": ".py",
   "mimetype": "text/x-python",
   "name": "python",
   "nbconvert_exporter": "python",
   "pygments_lexer": "ipython3",
   "version": "3.10.9"
  }
 },
 "nbformat": 4,
 "nbformat_minor": 5
}
